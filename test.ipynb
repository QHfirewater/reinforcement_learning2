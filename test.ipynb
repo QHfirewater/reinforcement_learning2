{
 "cells": [
  {
   "cell_type": "code",
   "execution_count": 9,
   "metadata": {},
   "outputs": [],
   "source": [
    "from sklearn.preprocessing import MinMaxScaler\n",
    "import numpy as np\n",
    "import pandas as pd"
   ]
  },
  {
   "cell_type": "code",
   "execution_count": 2,
   "metadata": {},
   "outputs": [
    {
     "name": "stdout",
     "output_type": "stream",
     "text": [
      "\u001b[1;31mInit signature:\u001b[0m \u001b[0mMinMaxScaler\u001b[0m\u001b[1;33m(\u001b[0m\u001b[0mfeature_range\u001b[0m\u001b[1;33m=\u001b[0m\u001b[1;33m(\u001b[0m\u001b[1;36m0\u001b[0m\u001b[1;33m,\u001b[0m \u001b[1;36m1\u001b[0m\u001b[1;33m)\u001b[0m\u001b[1;33m,\u001b[0m \u001b[1;33m*\u001b[0m\u001b[1;33m,\u001b[0m \u001b[0mcopy\u001b[0m\u001b[1;33m=\u001b[0m\u001b[1;32mTrue\u001b[0m\u001b[1;33m,\u001b[0m \u001b[0mclip\u001b[0m\u001b[1;33m=\u001b[0m\u001b[1;32mFalse\u001b[0m\u001b[1;33m)\u001b[0m\u001b[1;33m\u001b[0m\u001b[1;33m\u001b[0m\u001b[0m\n",
      "\u001b[1;31mDocstring:\u001b[0m     \n",
      "Transform features by scaling each feature to a given range.\n",
      "\n",
      "This estimator scales and translates each feature individually such\n",
      "that it is in the given range on the training set, e.g. between\n",
      "zero and one.\n",
      "\n",
      "The transformation is given by::\n",
      "\n",
      "    X_std = (X - X.min(axis=0)) / (X.max(axis=0) - X.min(axis=0))\n",
      "    X_scaled = X_std * (max - min) + min\n",
      "\n",
      "where min, max = feature_range.\n",
      "\n",
      "This transformation is often used as an alternative to zero mean,\n",
      "unit variance scaling.\n",
      "\n",
      "Read more in the :ref:`User Guide <preprocessing_scaler>`.\n",
      "\n",
      "Parameters\n",
      "----------\n",
      "feature_range : tuple (min, max), default=(0, 1)\n",
      "    Desired range of transformed data.\n",
      "\n",
      "copy : bool, default=True\n",
      "    Set to False to perform inplace row normalization and avoid a\n",
      "    copy (if the input is already a numpy array).\n",
      "\n",
      "clip : bool, default=False\n",
      "    Set to True to clip transformed values of held-out data to\n",
      "    provided `feature range`.\n",
      "\n",
      "    .. versionadded:: 0.24\n",
      "\n",
      "Attributes\n",
      "----------\n",
      "min_ : ndarray of shape (n_features,)\n",
      "    Per feature adjustment for minimum. Equivalent to\n",
      "    ``min - X.min(axis=0) * self.scale_``\n",
      "\n",
      "scale_ : ndarray of shape (n_features,)\n",
      "    Per feature relative scaling of the data. Equivalent to\n",
      "    ``(max - min) / (X.max(axis=0) - X.min(axis=0))``\n",
      "\n",
      "    .. versionadded:: 0.17\n",
      "       *scale_* attribute.\n",
      "\n",
      "data_min_ : ndarray of shape (n_features,)\n",
      "    Per feature minimum seen in the data\n",
      "\n",
      "    .. versionadded:: 0.17\n",
      "       *data_min_*\n",
      "\n",
      "data_max_ : ndarray of shape (n_features,)\n",
      "    Per feature maximum seen in the data\n",
      "\n",
      "    .. versionadded:: 0.17\n",
      "       *data_max_*\n",
      "\n",
      "data_range_ : ndarray of shape (n_features,)\n",
      "    Per feature range ``(data_max_ - data_min_)`` seen in the data\n",
      "\n",
      "    .. versionadded:: 0.17\n",
      "       *data_range_*\n",
      "\n",
      "n_samples_seen_ : int\n",
      "    The number of samples processed by the estimator.\n",
      "    It will be reset on new calls to fit, but increments across\n",
      "    ``partial_fit`` calls.\n",
      "\n",
      "Examples\n",
      "--------\n",
      ">>> from sklearn.preprocessing import MinMaxScaler\n",
      ">>> data = [[-1, 2], [-0.5, 6], [0, 10], [1, 18]]\n",
      ">>> scaler = MinMaxScaler()\n",
      ">>> print(scaler.fit(data))\n",
      "MinMaxScaler()\n",
      ">>> print(scaler.data_max_)\n",
      "[ 1. 18.]\n",
      ">>> print(scaler.transform(data))\n",
      "[[0.   0.  ]\n",
      " [0.25 0.25]\n",
      " [0.5  0.5 ]\n",
      " [1.   1.  ]]\n",
      ">>> print(scaler.transform([[2, 2]]))\n",
      "[[1.5 0. ]]\n",
      "\n",
      "See Also\n",
      "--------\n",
      "minmax_scale : Equivalent function without the estimator API.\n",
      "\n",
      "Notes\n",
      "-----\n",
      "NaNs are treated as missing values: disregarded in fit, and maintained in\n",
      "transform.\n",
      "\n",
      "For a comparison of the different scalers, transformers, and normalizers,\n",
      "see :ref:`examples/preprocessing/plot_all_scaling.py\n",
      "<sphx_glr_auto_examples_preprocessing_plot_all_scaling.py>`.\n",
      "\u001b[1;31mFile:\u001b[0m           e:\\anaconda\\lib\\site-packages\\sklearn\\preprocessing\\_data.py\n",
      "\u001b[1;31mType:\u001b[0m           type\n",
      "\u001b[1;31mSubclasses:\u001b[0m     \n"
     ]
    }
   ],
   "source": [
    "MinMaxScaler?"
   ]
  },
  {
   "cell_type": "code",
   "execution_count": 3,
   "metadata": {},
   "outputs": [],
   "source": [
    "data = [[-1, 2], [-0.5, 6], [0, 10], [1, 18]]"
   ]
  },
  {
   "cell_type": "code",
   "execution_count": 10,
   "metadata": {},
   "outputs": [
    {
     "data": {
      "text/html": [
       "<div>\n",
       "<style scoped>\n",
       "    .dataframe tbody tr th:only-of-type {\n",
       "        vertical-align: middle;\n",
       "    }\n",
       "\n",
       "    .dataframe tbody tr th {\n",
       "        vertical-align: top;\n",
       "    }\n",
       "\n",
       "    .dataframe thead th {\n",
       "        text-align: right;\n",
       "    }\n",
       "</style>\n",
       "<table border=\"1\" class=\"dataframe\">\n",
       "  <thead>\n",
       "    <tr style=\"text-align: right;\">\n",
       "      <th></th>\n",
       "      <th>0</th>\n",
       "      <th>1</th>\n",
       "    </tr>\n",
       "  </thead>\n",
       "  <tbody>\n",
       "    <tr>\n",
       "      <th>0</th>\n",
       "      <td>-1.0</td>\n",
       "      <td>2</td>\n",
       "    </tr>\n",
       "    <tr>\n",
       "      <th>1</th>\n",
       "      <td>-0.5</td>\n",
       "      <td>6</td>\n",
       "    </tr>\n",
       "    <tr>\n",
       "      <th>2</th>\n",
       "      <td>0.0</td>\n",
       "      <td>10</td>\n",
       "    </tr>\n",
       "    <tr>\n",
       "      <th>3</th>\n",
       "      <td>1.0</td>\n",
       "      <td>18</td>\n",
       "    </tr>\n",
       "  </tbody>\n",
       "</table>\n",
       "</div>"
      ],
      "text/plain": [
       "     0   1\n",
       "0 -1.0   2\n",
       "1 -0.5   6\n",
       "2  0.0  10\n",
       "3  1.0  18"
      ]
     },
     "execution_count": 10,
     "metadata": {},
     "output_type": "execute_result"
    }
   ],
   "source": [
    "pd.DataFrame(data)"
   ]
  },
  {
   "cell_type": "code",
   "execution_count": 16,
   "metadata": {},
   "outputs": [],
   "source": [
    "scaler = MinMaxScaler(feature_range=(-1,1))"
   ]
  },
  {
   "cell_type": "code",
   "execution_count": 17,
   "metadata": {},
   "outputs": [
    {
     "name": "stdout",
     "output_type": "stream",
     "text": [
      "MinMaxScaler(feature_range=(-1, 1))\n"
     ]
    }
   ],
   "source": [
    "print(scaler.fit(data))"
   ]
  },
  {
   "cell_type": "code",
   "execution_count": 18,
   "metadata": {},
   "outputs": [
    {
     "name": "stdout",
     "output_type": "stream",
     "text": [
      "[ 1. 18.]\n"
     ]
    }
   ],
   "source": [
    "print(scaler.data_max_)"
   ]
  },
  {
   "cell_type": "code",
   "execution_count": 19,
   "metadata": {},
   "outputs": [
    {
     "name": "stdout",
     "output_type": "stream",
     "text": [
      "[[-1.  -1. ]\n",
      " [-0.5 -0.5]\n",
      " [ 0.   0. ]\n",
      " [ 1.   1. ]]\n"
     ]
    }
   ],
   "source": [
    "print(scaler.transform(data))"
   ]
  },
  {
   "cell_type": "code",
   "execution_count": 20,
   "metadata": {},
   "outputs": [
    {
     "data": {
      "text/plain": [
       "array([[ 2., -1.]])"
      ]
     },
     "execution_count": 20,
     "metadata": {},
     "output_type": "execute_result"
    }
   ],
   "source": [
    "scaler.transform([[2,2]])"
   ]
  },
  {
   "cell_type": "code",
   "execution_count": 14,
   "metadata": {},
   "outputs": [
    {
     "data": {
      "text/html": [
       "<div>\n",
       "<style scoped>\n",
       "    .dataframe tbody tr th:only-of-type {\n",
       "        vertical-align: middle;\n",
       "    }\n",
       "\n",
       "    .dataframe tbody tr th {\n",
       "        vertical-align: top;\n",
       "    }\n",
       "\n",
       "    .dataframe thead th {\n",
       "        text-align: right;\n",
       "    }\n",
       "</style>\n",
       "<table border=\"1\" class=\"dataframe\">\n",
       "  <thead>\n",
       "    <tr style=\"text-align: right;\">\n",
       "      <th></th>\n",
       "      <th>0</th>\n",
       "      <th>1</th>\n",
       "    </tr>\n",
       "  </thead>\n",
       "  <tbody>\n",
       "    <tr>\n",
       "      <th>0</th>\n",
       "      <td>2</td>\n",
       "      <td>2</td>\n",
       "    </tr>\n",
       "  </tbody>\n",
       "</table>\n",
       "</div>"
      ],
      "text/plain": [
       "   0  1\n",
       "0  2  2"
      ]
     },
     "execution_count": 14,
     "metadata": {},
     "output_type": "execute_result"
    }
   ],
   "source": [
    "pd.DataFrame([[2,2]])"
   ]
  },
  {
   "cell_type": "code",
   "execution_count": null,
   "metadata": {},
   "outputs": [],
   "source": []
  }
 ],
 "metadata": {
  "interpreter": {
   "hash": "8d86c190dfcadcdaa67edec4a1ea82702241987b5b1f320c920d3d4ca36fee5b"
  },
  "kernelspec": {
   "display_name": "Python 3.9.7 ('base')",
   "language": "python",
   "name": "python3"
  },
  "language_info": {
   "codemirror_mode": {
    "name": "ipython",
    "version": 3
   },
   "file_extension": ".py",
   "mimetype": "text/x-python",
   "name": "python",
   "nbconvert_exporter": "python",
   "pygments_lexer": "ipython3",
   "version": "3.9.7"
  },
  "orig_nbformat": 4
 },
 "nbformat": 4,
 "nbformat_minor": 2
}
