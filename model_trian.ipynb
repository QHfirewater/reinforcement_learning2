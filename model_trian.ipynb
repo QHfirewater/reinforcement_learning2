{
 "cells": [
  {
   "cell_type": "code",
   "execution_count": 20,
   "metadata": {},
   "outputs": [],
   "source": [
    "from sklearn.metrics import classification_report\n",
    "import numpy as np"
   ]
  },
  {
   "cell_type": "code",
   "execution_count": 2,
   "metadata": {},
   "outputs": [],
   "source": [
    "y_true = [0, 3, 2, 2, 1, 1, 4, 3, 2, 4, 1, 0, 0]"
   ]
  },
  {
   "cell_type": "code",
   "execution_count": 3,
   "metadata": {},
   "outputs": [],
   "source": [
    "y_pred = [0, 3, 1, 2, 1, 2, 4, 3, 2, 2, 1, 3, 0]"
   ]
  },
  {
   "cell_type": "code",
   "execution_count": 4,
   "metadata": {},
   "outputs": [
    {
     "name": "stdout",
     "output_type": "stream",
     "text": [
      "              precision    recall  f1-score   support\n",
      "\n",
      "           0       1.00      0.67      0.80         3\n",
      "           1       0.67      0.67      0.67         3\n",
      "           2       0.50      0.67      0.57         3\n",
      "           3       0.67      1.00      0.80         2\n",
      "           4       1.00      0.50      0.67         2\n",
      "\n",
      "    accuracy                           0.69        13\n",
      "   macro avg       0.77      0.70      0.70        13\n",
      "weighted avg       0.76      0.69      0.70        13\n",
      "\n"
     ]
    }
   ],
   "source": [
    "print(classification_report(y_true, y_pred))"
   ]
  },
  {
   "cell_type": "code",
   "execution_count": 7,
   "metadata": {},
   "outputs": [],
   "source": [
    "label = {0: '科技', 1: '体育', 2: '社会', 3: '娱乐', 4: '股票'}"
   ]
  },
  {
   "cell_type": "code",
   "execution_count": 15,
   "metadata": {},
   "outputs": [
    {
     "name": "stdout",
     "output_type": "stream",
     "text": [
      "              precision    recall  f1-score   support\n",
      "\n",
      "          科技       1.00      0.67      0.80         3\n",
      "          体育       0.67      0.67      0.67         3\n",
      "          社会       0.50      0.67      0.57         3\n",
      "          娱乐       0.67      1.00      0.80         2\n",
      "          股票       1.00      0.50      0.67         2\n",
      "\n",
      "    accuracy                           0.69        13\n",
      "   macro avg       0.77      0.70      0.70        13\n",
      "weighted avg       0.76      0.69      0.70        13\n",
      "\n"
     ]
    }
   ],
   "source": [
    "print(classification_report(y_true,y_pred,target_names=['科技', '体育', '社会', '娱乐', '股票']))"
   ]
  },
  {
   "cell_type": "code",
   "execution_count": 19,
   "metadata": {},
   "outputs": [
    {
     "name": "stdout",
     "output_type": "stream",
     "text": [
      "              precision    recall  f1-score   support\n",
      "\n",
      "           1       0.67      0.67      0.67         3\n",
      "           2       0.50      0.67      0.57         3\n",
      "           3       0.67      1.00      0.80         2\n",
      "           4       1.00      0.50      0.67         2\n",
      "\n",
      "   micro avg       0.64      0.70      0.67        10\n",
      "   macro avg       0.71      0.71      0.68        10\n",
      "weighted avg       0.68      0.70      0.66        10\n",
      "\n"
     ]
    }
   ],
   "source": [
    "print(classification_report(y_true,y_pred,labels=[1, 2, 3, 4]))"
   ]
  },
  {
   "cell_type": "code",
   "execution_count": 26,
   "metadata": {},
   "outputs": [
    {
     "data": {
      "text/plain": [
       "array([[1, 0, 1, 0, 0],\n",
       "       [0, 1, 0, 1, 1],\n",
       "       [1, 1, 1, 0, 1]])"
      ]
     },
     "execution_count": 26,
     "metadata": {},
     "output_type": "execute_result"
    }
   ],
   "source": [
    "y_true = np.array([[1, 0, 1, 0, 0],\n",
    "                       [0, 1, 0, 1, 1],\n",
    "                       [1, 1, 1, 0, 1]])\n",
    "y_true"
   ]
  },
  {
   "cell_type": "code",
   "execution_count": 27,
   "metadata": {},
   "outputs": [
    {
     "data": {
      "text/plain": [
       "array([[1, 0, 0, 0, 1],\n",
       "       [0, 1, 1, 1, 0],\n",
       "       [1, 1, 1, 0, 0]])"
      ]
     },
     "execution_count": 27,
     "metadata": {},
     "output_type": "execute_result"
    }
   ],
   "source": [
    "y_pred = np.array([[1, 0, 0, 0, 1],\n",
    "                       [0, 1, 1, 1, 0],\n",
    "                       [1, 1, 1, 0, 0]])\n",
    "y_pred"
   ]
  },
  {
   "cell_type": "code",
   "execution_count": 28,
   "metadata": {},
   "outputs": [
    {
     "name": "stdout",
     "output_type": "stream",
     "text": [
      "              precision    recall  f1-score   support\n",
      "\n",
      "           0      1.000     1.000     1.000         2\n",
      "           1      1.000     1.000     1.000         2\n",
      "           2      0.500     0.500     0.500         2\n",
      "           3      1.000     1.000     1.000         1\n",
      "           4      0.000     0.000     0.000         2\n",
      "\n",
      "   micro avg      0.750     0.667     0.706         9\n",
      "   macro avg      0.700     0.700     0.700         9\n",
      "weighted avg      0.667     0.667     0.667         9\n",
      " samples avg      0.722     0.639     0.675         9\n",
      "\n"
     ]
    }
   ],
   "source": [
    "print(classification_report(y_true,y_pred,digits=3))"
   ]
  },
  {
   "cell_type": "code",
   "execution_count": null,
   "metadata": {},
   "outputs": [],
   "source": []
  }
 ],
 "metadata": {
  "interpreter": {
   "hash": "7758e92e9a61d7a3490898707f7eeb937c85e9d1e8d4e877cc6c187218f226d5"
  },
  "kernelspec": {
   "display_name": "Python 3.9.7 ('base')",
   "language": "python",
   "name": "python3"
  },
  "language_info": {
   "codemirror_mode": {
    "name": "ipython",
    "version": 3
   },
   "file_extension": ".py",
   "mimetype": "text/x-python",
   "name": "python",
   "nbconvert_exporter": "python",
   "pygments_lexer": "ipython3",
   "version": "3.9.7"
  },
  "orig_nbformat": 4
 },
 "nbformat": 4,
 "nbformat_minor": 2
}
