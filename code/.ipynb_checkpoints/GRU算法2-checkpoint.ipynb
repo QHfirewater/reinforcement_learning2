{
 "cells": [
  {
   "cell_type": "code",
   "execution_count": 4,
   "id": "714a50ef",
   "metadata": {},
   "outputs": [],
   "source": [
    "import numpy as np\n",
    "import pandas as pd\n",
    "import matplotlib.pyplot as plt\n",
    "import torch\n",
    "get_ipython().run_line_magic('matplotlib', 'inline')\n",
    " \n",
    "from torch import nn\n",
    "from torch.autograd import Variable\n",
    "from sklearn.model_selection import train_test_split\n",
    " \n",
    " "
   ]
  },
  {
   "cell_type": "code",
   "execution_count": 5,
   "id": "560a6ad9",
   "metadata": {},
   "outputs": [],
   "source": [
    "time_step=2         #时间间隔\n",
    "epoch=501             #循环次数\n",
    "input_size=3          #输入数据维度\n",
    "output_size=1        #输出数据维度\n",
    "mid_dim=8           #中间层数维度\n",
    "mid_layers=1      #中间层数目\n",
    "\n",
    " \n",
    " "
   ]
  },
  {
   "cell_type": "code",
   "execution_count": 6,
   "id": "5dbbab1d",
   "metadata": {},
   "outputs": [],
   "source": [
    "class RegLSTM(nn.Module):\n",
    "    def __init__(self, inp_dim, out_dim, mid_dim, mid_layers):\n",
    "        super().__init__()\n",
    " \n",
    "#         self.rnn = nn.LSTM(inp_dim, mid_dim, mid_layers,batch_first=True)     #构建LSTM层\n",
    "        self.rnn = nn.GRU(inp_dim, mid_dim, mid_layers,batch_first = True)\n",
    "        self.reg = nn.Sequential(\n",
    "            nn.Linear(mid_dim, mid_dim),                                       #构建全连接层\n",
    "            nn.Tanh(),\n",
    "            nn.Linear(mid_dim, out_dim)) \n",
    " \n",
    "    def forward(self, x):\n",
    "        y = self.rnn(x)[0]  # y, (h, c) = self.rnn(x)\n",
    " \n",
    "        batch_size, seq_len, hid_dim = y.shape\n",
    "        y = y.reshape(-1, hid_dim)\n",
    "        y = self.reg(y)            #这里进行结构重整因为矩阵只能进行二维的数据变换\n",
    "        y = y.reshape(batch_size, seq_len,-1)\n",
    "        return y\n",
    " \n",
    " "
   ]
  },
  {
   "cell_type": "code",
   "execution_count": 7,
   "id": "1f08699e",
   "metadata": {},
   "outputs": [],
   "source": [
    " \n",
    "def load_data():\n",
    "    seq_number=np.array(\n",
    "        [112., 118., 132., 129., 121., 135., 148., 148., 136., 119., 104.,\n",
    "         118., 115., 126., 141., 135., 125., 149., 170., 170., 158., 133.,\n",
    "         114., 140., 145., 150., 178., 163., 172., 178., 199., 199., 184.,\n",
    "         162., 146., 166., 171., 180., 193., 181., 183., 218., 230., 242.,\n",
    "         209., 191., 172., 194., 196., 196., 236., 235., 229., 243., 264.,\n",
    "         272., 237., 211., 180., 201., 204., 188., 235., 227., 234., 264.,\n",
    "         302., 293., 259., 229., 203., 229., 242., 233., 267., 269., 270.,\n",
    "         315., 364., 347., 312., 274., 237., 278., 284., 277., 317., 313.,\n",
    "         318., 374., 413., 405., 355., 306., 271., 306., 315., 301., 356.,\n",
    "         348., 355., 422., 465., 467., 404., 347., 305., 336., 340., 318.,\n",
    "         362., 348., 363., 435., 491., 505., 404., 359., 310., 337., 360.,\n",
    "         342., 406., 396., 420., 472., 548., 559., 463., 407., 362., 405.,\n",
    "         417., 391., 419., 461., 472., 535., 622., 606., 508., 461., 390.,\n",
    "         432.],dtype=np.float32\n",
    "    )\n",
    "    seq_number=seq_number[:,np.newaxis]\n",
    "    seq_year=np.arange(12)\n",
    "    seq_month=np.arange(12)\n",
    "    seq_year_month=np.transpose(\n",
    "    [\n",
    "        np.repeat(seq_year,len(seq_month)),\n",
    "        np.tile(seq_month,len(seq_year)),\n",
    "    ]\n",
    "    )\n",
    "    seq=np.concatenate((seq_number,seq_year_month),axis=1)\n",
    "    \n",
    "    seq=(seq-seq.mean(axis=0))/seq.std(axis=0)\n",
    "    return(seq)\n",
    " \n",
    " "
   ]
  },
  {
   "cell_type": "code",
   "execution_count": 8,
   "id": "5c10d8e8",
   "metadata": {},
   "outputs": [],
   "source": [
    "data=load_data()\n",
    "train_data,test_data = train_test_split(data,train_size=0.7)"
   ]
  },
  {
   "cell_type": "code",
   "execution_count": 9,
   "id": "aa7f03a7",
   "metadata": {},
   "outputs": [],
   "source": [
    "device=torch.device(\"cuda\" if torch.cuda.is_available() else \"cpu\")    #定义一个设备\n",
    "train_data=torch.tensor(train_data,dtype=torch.float32,device=device)"
   ]
  },
  {
   "cell_type": "code",
   "execution_count": 10,
   "id": "9ae8d6e3",
   "metadata": {},
   "outputs": [
    {
     "data": {
      "text/plain": [
       "torch.Size([50, 2, 1])"
      ]
     },
     "execution_count": 10,
     "metadata": {},
     "output_type": "execute_result"
    }
   ],
   "source": [
    "data_sample = train_data.reshape(-1,time_step,input_size)\n",
    "label_sample = train_data[:,0]\n",
    "label_sample = label_sample.reshape(-1,time_step,1)\n",
    "label_sample.shape"
   ]
  },
  {
   "cell_type": "code",
   "execution_count": 11,
   "id": "dcab7684",
   "metadata": {},
   "outputs": [
    {
     "data": {
      "text/plain": [
       "torch.Size([50, 2, 1])"
      ]
     },
     "execution_count": 11,
     "metadata": {},
     "output_type": "execute_result"
    }
   ],
   "source": [
    "label_sample.shape"
   ]
  },
  {
   "cell_type": "code",
   "execution_count": 12,
   "id": "a2a8f900",
   "metadata": {},
   "outputs": [],
   "source": [
    "device=torch.device(\"cuda\" if torch.cuda.is_available() else \"cpu\")    #定义一个设备\n",
    "net=RegLSTM(input_size,output_size,mid_dim,mid_layers).to(device)   #实例化神经网络\n",
    "criterion=nn.MSELoss()                                                  #定义一个损失函数\n",
    "optimizer=torch.optim.Adam(net.parameters(),lr=1e-2)                    #定义一个优化器"
   ]
  },
  {
   "cell_type": "code",
   "execution_count": 13,
   "id": "d65831a6",
   "metadata": {},
   "outputs": [
    {
     "name": "stdout",
     "output_type": "stream",
     "text": [
      "Epoch:    0, Loss: 0.10155\n",
      "Epoch:  100, Loss: 0.00012\n",
      "Epoch:  200, Loss: 0.00003\n",
      "Epoch:  300, Loss: 0.00010\n",
      "Epoch:  400, Loss: 0.00002\n",
      "Epoch:  500, Loss: 0.00014\n"
     ]
    }
   ],
   "source": [
    "net.train()\n",
    "for i in range(epoch):\n",
    "    for j in range(data_sample.shape[0]):\n",
    "        train_x=data_sample[[j],:,:]\n",
    "        train_y=label_sample[[j],:,:]\n",
    "\n",
    "        \n",
    "        out = net(train_x)\n",
    "        loss=criterion(out,train_y)\n",
    "        #loss = criterion(out[:,-1,:], var_y[:,-1,:])\n",
    "        optimizer.zero_grad()\n",
    "        loss.backward()\n",
    "        optimizer.step()\n",
    "    \n",
    "        \n",
    "    if i%100==0:\n",
    "        print('Epoch: {:4}, Loss: {:.5f}'.format(i, loss.item()))\n",
    " \n",
    " "
   ]
  },
  {
   "cell_type": "code",
   "execution_count": 14,
   "id": "aee52eb3",
   "metadata": {},
   "outputs": [],
   "source": [
    "test_data=torch.tensor(test_data,dtype=torch.float32,device=device)"
   ]
  },
  {
   "cell_type": "code",
   "execution_count": 15,
   "id": "3dba46a8",
   "metadata": {},
   "outputs": [
    {
     "data": {
      "text/plain": [
       "torch.Size([44, 1, 3])"
      ]
     },
     "execution_count": 15,
     "metadata": {},
     "output_type": "execute_result"
    }
   ],
   "source": [
    "test_x = test_data.reshape(-1,1,input_size)\n",
    "test_y = test_data[:,0]\n",
    "test_y = test_y.reshape(-1,1,1)\n",
    "test_x.shape"
   ]
  },
  {
   "cell_type": "code",
   "execution_count": 16,
   "id": "8f34cfac",
   "metadata": {},
   "outputs": [
    {
     "data": {
      "text/plain": [
       "[array([0.5812663], dtype=float32),\n",
       " array([-0.8576941], dtype=float32),\n",
       " array([-0.53705686], dtype=float32),\n",
       " array([1.0243251], dtype=float32),\n",
       " array([0.24417424], dtype=float32),\n",
       " array([1.1265907], dtype=float32),\n",
       " array([-0.32450342], dtype=float32),\n",
       " array([0.50715303], dtype=float32),\n",
       " array([-0.911825], dtype=float32),\n",
       " array([-0.7378928], dtype=float32),\n",
       " array([-1.1392839], dtype=float32),\n",
       " array([-1.4170454], dtype=float32),\n",
       " array([-1.1331985], dtype=float32),\n",
       " array([-0.6123596], dtype=float32),\n",
       " array([-1.3335478], dtype=float32),\n",
       " array([-0.946644], dtype=float32),\n",
       " array([1.2804333], dtype=float32),\n",
       " array([-0.9994096], dtype=float32),\n",
       " array([0.23675019], dtype=float32),\n",
       " array([2.3322237], dtype=float32),\n",
       " array([0.26004332], dtype=float32),\n",
       " array([-0.46577936], dtype=float32),\n",
       " array([-1.1363785], dtype=float32),\n",
       " array([-0.41976732], dtype=float32),\n",
       " array([-1.3242598], dtype=float32),\n",
       " array([0.21164477], dtype=float32),\n",
       " array([-1.1295986], dtype=float32),\n",
       " array([1.7824023], dtype=float32),\n",
       " array([-1.3949568], dtype=float32),\n",
       " array([-0.7479922], dtype=float32),\n",
       " array([0.6337825], dtype=float32),\n",
       " array([-0.43427724], dtype=float32),\n",
       " array([-1.351696], dtype=float32),\n",
       " array([-1.2308812], dtype=float32),\n",
       " array([1.5469687], dtype=float32),\n",
       " array([0.64383507], dtype=float32),\n",
       " array([-1.2573414], dtype=float32),\n",
       " array([-0.11735839], dtype=float32),\n",
       " array([-1.3596835], dtype=float32),\n",
       " array([-1.3539383], dtype=float32),\n",
       " array([-0.9149149], dtype=float32),\n",
       " array([-0.0960595], dtype=float32),\n",
       " array([-0.92803997], dtype=float32),\n",
       " array([-0.11817378], dtype=float32)]"
      ]
     },
     "execution_count": 16,
     "metadata": {},
     "output_type": "execute_result"
    }
   ],
   "source": [
    "y_pred = []\n",
    "for i in range(test_x.shape[0]):\n",
    "    tem=net(test_x[[i],:,:]).cpu().data.numpy()\n",
    "    y_pred.append(tem[0][0])\n",
    "y_pred"
   ]
  },
  {
   "cell_type": "code",
   "execution_count": 17,
   "id": "32ae7f9e",
   "metadata": {},
   "outputs": [],
   "source": [
    "test_y = test_y.reshape(-1,1)"
   ]
  },
  {
   "cell_type": "code",
   "execution_count": 18,
   "id": "6b932f49",
   "metadata": {},
   "outputs": [
    {
     "data": {
      "text/plain": [
       "array([[ 0.63322455],\n",
       "       [-0.8557041 ],\n",
       "       [-0.52111346],\n",
       "       [ 1.0430982 ],\n",
       "       [ 0.29026908],\n",
       "       [ 1.1434754 ],\n",
       "       [-0.31199422],\n",
       "       [ 0.5579416 ],\n",
       "       [-0.9058927 ],\n",
       "       [-0.73023266],\n",
       "       [-1.1066471 ],\n",
       "       [-1.3575902 ],\n",
       "       [-1.1066471 ],\n",
       "       [-0.5963963 ],\n",
       "       [-1.3492255 ],\n",
       "       [-0.9560814 ],\n",
       "       [ 1.2940413 ],\n",
       "       [-0.98117566],\n",
       "       [ 0.29026908],\n",
       "       [ 2.3312724 ],\n",
       "       [ 0.31536338],\n",
       "       [-0.44583052],\n",
       "       [-1.0899177 ],\n",
       "       [-0.39564192],\n",
       "       [-1.2655778 ],\n",
       "       [ 0.26517478],\n",
       "       [-1.1233767 ],\n",
       "       [ 1.7624682 ],\n",
       "       [-1.474697  ],\n",
       "       [-0.7469622 ],\n",
       "       [ 0.68341315],\n",
       "       [-0.42073622],\n",
       "       [-1.3910493 ],\n",
       "       [-1.1652006 ],\n",
       "       [ 1.5282547 ],\n",
       "       [ 0.69177794],\n",
       "       [-1.2153891 ],\n",
       "       [-0.07778072],\n",
       "       [-1.3324959 ],\n",
       "       [-1.2906721 ],\n",
       "       [-0.9142575 ],\n",
       "       [-0.06941596],\n",
       "       [-0.9226223 ],\n",
       "       [-0.08614549]], dtype=float32)"
      ]
     },
     "execution_count": 18,
     "metadata": {},
     "output_type": "execute_result"
    }
   ],
   "source": [
    "test_y = test_y.cpu().numpy()\n",
    "test_y"
   ]
  },
  {
   "cell_type": "code",
   "execution_count": 19,
   "id": "7fc3f482",
   "metadata": {},
   "outputs": [
    {
     "data": {
      "text/plain": [
       "array([[ 0.5812663 ],\n",
       "       [-0.8576941 ],\n",
       "       [-0.53705686],\n",
       "       [ 1.0243251 ],\n",
       "       [ 0.24417424],\n",
       "       [ 1.1265907 ],\n",
       "       [-0.32450342],\n",
       "       [ 0.50715303],\n",
       "       [-0.911825  ],\n",
       "       [-0.7378928 ],\n",
       "       [-1.1392839 ],\n",
       "       [-1.4170454 ],\n",
       "       [-1.1331985 ],\n",
       "       [-0.6123596 ],\n",
       "       [-1.3335478 ],\n",
       "       [-0.946644  ],\n",
       "       [ 1.2804333 ],\n",
       "       [-0.9994096 ],\n",
       "       [ 0.23675019],\n",
       "       [ 2.3322237 ],\n",
       "       [ 0.26004332],\n",
       "       [-0.46577936],\n",
       "       [-1.1363785 ],\n",
       "       [-0.41976732],\n",
       "       [-1.3242598 ],\n",
       "       [ 0.21164477],\n",
       "       [-1.1295986 ],\n",
       "       [ 1.7824023 ],\n",
       "       [-1.3949568 ],\n",
       "       [-0.7479922 ],\n",
       "       [ 0.6337825 ],\n",
       "       [-0.43427724],\n",
       "       [-1.351696  ],\n",
       "       [-1.2308812 ],\n",
       "       [ 1.5469687 ],\n",
       "       [ 0.64383507],\n",
       "       [-1.2573414 ],\n",
       "       [-0.11735839],\n",
       "       [-1.3596835 ],\n",
       "       [-1.3539383 ],\n",
       "       [-0.9149149 ],\n",
       "       [-0.0960595 ],\n",
       "       [-0.92803997],\n",
       "       [-0.11817378]], dtype=float32)"
      ]
     },
     "execution_count": 19,
     "metadata": {},
     "output_type": "execute_result"
    }
   ],
   "source": [
    "y_pred = np.array(y_pred).reshape((-1,1))\n",
    "y_pred"
   ]
  },
  {
   "cell_type": "code",
   "execution_count": 20,
   "id": "fcad792c",
   "metadata": {},
   "outputs": [],
   "source": [
    "diff = test_y - y_pred"
   ]
  },
  {
   "cell_type": "code",
   "execution_count": 21,
   "id": "a211d610",
   "metadata": {},
   "outputs": [
    {
     "name": "stdout",
     "output_type": "stream",
     "text": [
      "L1:0.030    L2:0.001\n"
     ]
    },
    {
     "data": {
      "text/plain": [
       "[<matplotlib.lines.Line2D at 0x2162b35e400>]"
      ]
     },
     "execution_count": 21,
     "metadata": {},
     "output_type": "execute_result"
    },
    {
     "data": {
      "image/png": "[encoded data removed]",
      "text/plain": [
       "<Figure size 432x288 with 1 Axes>"
      ]
     },
     "metadata": {
      "needs_background": "light"
     },
     "output_type": "display_data"
    }
   ],
   "source": [
    "\n",
    "l1_loss=np.mean(np.abs(diff))\n",
    "l2_loss=np.mean(diff**2)\n",
    "print(\"L1:{:.3f}    L2:{:.3f}\".format(l1_loss,l2_loss))\n",
    "plt.plot(test_y, 'r', label='pred')\n",
    "plt.plot(y_pred, 'b', label='real', alpha=0.7)\n",
    " \n"
   ]
  },
  {
   "cell_type": "code",
   "execution_count": 22,
   "id": "7f0432ab",
   "metadata": {},
   "outputs": [],
   "source": [
    "a=np.array([1,2,3])\n",
    "b=np.array([2,2,4])\n",
    " "
   ]
  },
  {
   "cell_type": "code",
   "execution_count": 23,
   "id": "7f10c5a7",
   "metadata": {},
   "outputs": [
    {
     "data": {
      "text/plain": [
       "array([[1.       , 0.8660254],\n",
       "       [0.8660254, 1.       ]])"
      ]
     },
     "execution_count": 23,
     "metadata": {},
     "output_type": "execute_result"
    }
   ],
   "source": [
    "np.corrcoef(a,b)\n",
    " "
   ]
  }
 ],
 "metadata": {
  "kernelspec": {
   "display_name": "Python 3 (ipykernel)",
   "language": "python",
   "name": "python3"
  },
  "language_info": {
   "codemirror_mode": {
    "name": "ipython",
    "version": 3
   },
   "file_extension": ".py",
   "mimetype": "text/x-python",
   "name": "python",
   "nbconvert_exporter": "python",
   "pygments_lexer": "ipython3",
   "version": "3.9.7"
  },
  "toc": {
   "base_numbering": 1,
   "nav_menu": {},
   "number_sections": true,
   "sideBar": true,
   "skip_h1_title": false,
   "title_cell": "Table of Contents",
   "title_sidebar": "Contents",
   "toc_cell": false,
   "toc_position": {},
   "toc_section_display": true,
   "toc_window_display": false
  }
 },
 "nbformat": 4,
 "nbformat_minor": 5
}
