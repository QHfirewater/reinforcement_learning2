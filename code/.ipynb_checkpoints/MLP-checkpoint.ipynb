{
 "cells": [
  {
   "cell_type": "code",
   "execution_count": 28,
   "id": "075dbc65",
   "metadata": {},
   "outputs": [],
   "source": [
    "import torch\n",
    "from torch.utils import data\n",
    "import numpy as np\n",
    "from torch import nn"
   ]
  },
  {
   "cell_type": "code",
   "execution_count": 21,
   "id": "b63635eb",
   "metadata": {},
   "outputs": [],
   "source": [
    "def load_array(data_array,batch_size,is_train=True):\n",
    "    dataset = data.TensorDataset(*data_array)\n",
    "    return data.DataLoader(dataset,batch_size,shuffle=is_train)"
   ]
  },
  {
   "cell_type": "code",
   "execution_count": 22,
   "id": "4513bd79",
   "metadata": {},
   "outputs": [],
   "source": [
    "X = np.array([[100,3,36,3,0],\n",
    "     [90,2,29,2,1],\n",
    "    [110,3,40,1,2],\n",
    "    [80,1,32,8,1],\n",
    "    [120,3,51,9,0],\n",
    "    [150,4,53,8,0],\n",
    "    [85,2,33,7,1],\n",
    "    [92,2,33,6,1],\n",
    "    [200,4,88,0,2],\n",
    "    [103,2,42,7,0]])"
   ]
  },
  {
   "cell_type": "code",
   "execution_count": 53,
   "id": "0f776f05",
   "metadata": {},
   "outputs": [
    {
     "data": {
      "text/plain": [
       "tensor([[100.,   3.,  36.,   3.],\n",
       "        [ 90.,   2.,  29.,   2.],\n",
       "        [110.,   3.,  40.,   1.],\n",
       "        [ 80.,   1.,  32.,   8.],\n",
       "        [120.,   3.,  51.,   9.],\n",
       "        [150.,   4.,  53.,   8.],\n",
       "        [ 85.,   2.,  33.,   7.],\n",
       "        [ 92.,   2.,  33.,   6.],\n",
       "        [200.,   4.,  88.,   0.],\n",
       "        [103.,   2.,  42.,   7.]])"
      ]
     },
     "execution_count": 53,
     "metadata": {},
     "output_type": "execute_result"
    }
   ],
   "source": [
    "x_train = torch.tensor(X[:,0:4]).float()\n",
    "x_train"
   ]
  },
  {
   "cell_type": "code",
   "execution_count": 54,
   "id": "3455fc8d",
   "metadata": {},
   "outputs": [
    {
     "data": {
      "text/plain": [
       "tensor([[100.,   3.,  36.,   3.],\n",
       "        [ 90.,   2.,  29.,   2.],\n",
       "        [110.,   3.,  40.,   1.],\n",
       "        [ 80.,   1.,  32.,   8.],\n",
       "        [120.,   3.,  51.,   9.],\n",
       "        [150.,   4.,  53.,   8.],\n",
       "        [ 85.,   2.,  33.,   7.],\n",
       "        [ 92.,   2.,  33.,   6.],\n",
       "        [200.,   4.,  88.,   0.],\n",
       "        [103.,   2.,  42.,   7.]])"
      ]
     },
     "execution_count": 54,
     "metadata": {},
     "output_type": "execute_result"
    }
   ],
   "source": [
    "x_train = torch.tensor(X[:,0:4]).float()\n",
    "x_train"
   ]
  },
  {
   "cell_type": "code",
   "execution_count": 55,
   "id": "063a3550",
   "metadata": {},
   "outputs": [
    {
     "data": {
      "text/plain": [
       "tensor([0, 1, 2, 1, 0, 0, 1, 1, 2, 0])"
      ]
     },
     "execution_count": 55,
     "metadata": {},
     "output_type": "execute_result"
    }
   ],
   "source": [
    "y_train = torch.LongTensor(X[:,4])\n",
    "y_train"
   ]
  },
  {
   "cell_type": "code",
   "execution_count": 56,
   "id": "129e17b3",
   "metadata": {},
   "outputs": [],
   "source": [
    "batch_size = 5\n",
    "data_iter = load_array((x_train, y_train), batch_size)"
   ]
  },
  {
   "cell_type": "markdown",
   "id": "8f2eca98",
   "metadata": {},
   "source": [
    "## 搭建模型"
   ]
  },
  {
   "cell_type": "code",
   "execution_count": 57,
   "id": "75973c44",
   "metadata": {},
   "outputs": [
    {
     "data": {
      "text/plain": [
       "Sequential(\n",
       "  (0): Flatten(start_dim=1, end_dim=-1)\n",
       "  (1): Linear(in_features=4, out_features=20, bias=True)\n",
       "  (2): ReLU()\n",
       "  (3): Linear(in_features=20, out_features=3, bias=True)\n",
       ")"
      ]
     },
     "execution_count": 57,
     "metadata": {},
     "output_type": "execute_result"
    }
   ],
   "source": [
    "net = nn.Sequential(nn.Flatten(),\n",
    "                   nn.Linear(4,20),\n",
    "                   nn.ReLU(),\n",
    "                   nn.Linear(20,3))\n",
    "#初始化参数\n",
    "def init_weight(m):\n",
    "    if type(m) == nn.Linear:\n",
    "        nn.init.normal_(m.weight,std=0.01)\n",
    "        \n",
    "net.apply(init_weight)"
   ]
  },
  {
   "cell_type": "code",
   "execution_count": 71,
   "id": "2f03bc11",
   "metadata": {},
   "outputs": [],
   "source": [
    "lr,num_epoch = 0.3,20"
   ]
  },
  {
   "cell_type": "code",
   "execution_count": 72,
   "id": "02f99016",
   "metadata": {},
   "outputs": [],
   "source": [
    "loss = nn.CrossEntropyLoss()"
   ]
  },
  {
   "cell_type": "code",
   "execution_count": 73,
   "id": "656b8f1f",
   "metadata": {},
   "outputs": [],
   "source": [
    "trainer = torch.optim.SGD(net.parameters(),lr=lr)"
   ]
  },
  {
   "cell_type": "code",
   "execution_count": 74,
   "id": "99fcdb69",
   "metadata": {},
   "outputs": [
    {
     "name": "stdout",
     "output_type": "stream",
     "text": [
      "tensor(1.0572)\n",
      "tensor(1.0551)\n",
      "tensor(1.0567)\n",
      "tensor(1.0550)\n",
      "tensor(1.0550)\n",
      "tensor(1.0550)\n",
      "tensor(1.0562)\n",
      "tensor(1.0550)\n",
      "tensor(1.0596)\n",
      "tensor(1.0549)\n",
      "tensor(1.0558)\n",
      "tensor(1.0549)\n",
      "tensor(1.0561)\n",
      "tensor(1.0550)\n",
      "tensor(1.0559)\n",
      "tensor(1.0550)\n",
      "tensor(1.0562)\n",
      "tensor(1.0550)\n",
      "tensor(1.0568)\n",
      "tensor(1.0549)\n",
      "tensor(1.0558)\n",
      "tensor(1.0550)\n",
      "tensor(1.0565)\n",
      "tensor(1.0549)\n",
      "tensor(1.0563)\n",
      "tensor(1.0549)\n",
      "tensor(1.0558)\n",
      "tensor(1.0549)\n",
      "tensor(1.0549)\n",
      "tensor(1.0549)\n",
      "tensor(1.0563)\n",
      "tensor(1.0550)\n",
      "tensor(1.0560)\n",
      "tensor(1.0549)\n",
      "tensor(1.0557)\n",
      "tensor(1.0550)\n",
      "tensor(1.0556)\n",
      "tensor(1.0550)\n",
      "tensor(1.0568)\n",
      "tensor(1.0550)\n"
     ]
    }
   ],
   "source": [
    "for epoch in range(num_epoch):\n",
    "    for x,y in data_iter:\n",
    "        trainer.zero_grad()\n",
    "        l = loss(net(x),y)\n",
    "        l.backward()\n",
    "        trainer.step()\n",
    "        with torch.no_grad():\n",
    "            test_1 = loss(net(x_train),y_train)\n",
    "            print(test_1)"
   ]
  },
  {
   "cell_type": "code",
   "execution_count": 70,
   "id": "262fd44a",
   "metadata": {},
   "outputs": [
    {
     "data": {
      "text/plain": [
       "tensor([[100.,   3.,  36.,   3.],\n",
       "        [ 90.,   2.,  29.,   2.],\n",
       "        [110.,   3.,  40.,   1.],\n",
       "        [ 80.,   1.,  32.,   8.],\n",
       "        [120.,   3.,  51.,   9.],\n",
       "        [150.,   4.,  53.,   8.],\n",
       "        [ 85.,   2.,  33.,   7.],\n",
       "        [ 92.,   2.,  33.,   6.],\n",
       "        [200.,   4.,  88.,   0.],\n",
       "        [103.,   2.,  42.,   7.]])"
      ]
     },
     "execution_count": 70,
     "metadata": {},
     "output_type": "execute_result"
    }
   ],
   "source": [
    "x_train"
   ]
  },
  {
   "cell_type": "code",
   "execution_count": 78,
   "id": "466db463",
   "metadata": {},
   "outputs": [],
   "source": [
    "x_test = torch.tensor([100,4,46,1]).float()"
   ]
  },
  {
   "cell_type": "code",
   "execution_count": 84,
   "id": "5b281dab",
   "metadata": {},
   "outputs": [],
   "source": [
    "x_test = x_test.reshape(1,4)"
   ]
  },
  {
   "cell_type": "code",
   "execution_count": 85,
   "id": "04e49550",
   "metadata": {},
   "outputs": [
    {
     "data": {
      "text/plain": [
       "tensor([[ 0.0923,  0.0934, -0.5809]], grad_fn=<AddmmBackward0>)"
      ]
     },
     "execution_count": 85,
     "metadata": {},
     "output_type": "execute_result"
    }
   ],
   "source": [
    "net(x_test)"
   ]
  },
  {
   "cell_type": "code",
   "execution_count": null,
   "id": "05dff35f",
   "metadata": {},
   "outputs": [],
   "source": []
  }
 ],
 "metadata": {
  "kernelspec": {
   "display_name": "Python 3 (ipykernel)",
   "language": "python",
   "name": "python3"
  },
  "language_info": {
   "codemirror_mode": {
    "name": "ipython",
    "version": 3
   },
   "file_extension": ".py",
   "mimetype": "text/x-python",
   "name": "python",
   "nbconvert_exporter": "python",
   "pygments_lexer": "ipython3",
   "version": "3.9.7"
  }
 },
 "nbformat": 4,
 "nbformat_minor": 5
}
