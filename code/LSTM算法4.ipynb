{
 "cells": [
  {
   "cell_type": "code",
   "execution_count": 1,
   "id": "714a50ef",
   "metadata": {},
   "outputs": [],
   "source": [
    "import numpy as np\n",
    "import pandas as pd\n",
    "import matplotlib.pyplot as plt\n",
    "import torch\n",
    "get_ipython().run_line_magic('matplotlib', 'inline')\n",
    " \n",
    "from torch import nn\n",
    "from torch.autograd import Variable\n",
    "from sklearn.model_selection import train_test_split\n",
    " \n",
    " "
   ]
  },
  {
   "cell_type": "code",
   "execution_count": 2,
   "id": "560a6ad9",
   "metadata": {},
   "outputs": [],
   "source": [
    "time_step=2         #时间间隔\n",
    "epoch=501             #循环次数\n",
    "input_size=3          #输入数据维度\n",
    "output_size=1        #输出数据维度\n",
    "mid_dim=8           #中间层数维度\n",
    "mid_layers=1      #中间层数目\n",
    "\n",
    " \n",
    " "
   ]
  },
  {
   "cell_type": "code",
   "execution_count": 3,
   "id": "5dbbab1d",
   "metadata": {},
   "outputs": [],
   "source": [
    "class RegLSTM(nn.Module):\n",
    "    def __init__(self, inp_dim, out_dim, mid_dim, mid_layers):\n",
    "        super().__init__()\n",
    " \n",
    "        self.rnn = nn.LSTM(inp_dim, mid_dim, mid_layers,batch_first=True)     #构建LSTM层\n",
    "        self.reg = nn.Sequential(\n",
    "            nn.Linear(mid_dim, mid_dim),                                       #构建全连接层\n",
    "            nn.Tanh(),\n",
    "            nn.Linear(mid_dim, out_dim)) \n",
    " \n",
    "    def forward(self, x):\n",
    "        y = self.rnn(x)[0]  # y, (h, c) = self.rnn(x)\n",
    " \n",
    "        batch_size, seq_len, hid_dim = y.shape\n",
    "        y = y.reshape(-1, hid_dim)\n",
    "        y = self.reg(y)            #这里进行结构重整因为矩阵只能进行二维的数据变换\n",
    "        y = y.reshape(batch_size, seq_len,-1)\n",
    "        return y\n",
    " \n",
    " "
   ]
  },
  {
   "cell_type": "code",
   "execution_count": 4,
   "id": "1f08699e",
   "metadata": {},
   "outputs": [],
   "source": [
    " \n",
    "def load_data():\n",
    "    seq_number=np.array(\n",
    "        [112., 118., 132., 129., 121., 135., 148., 148., 136., 119., 104.,\n",
    "         118., 115., 126., 141., 135., 125., 149., 170., 170., 158., 133.,\n",
    "         114., 140., 145., 150., 178., 163., 172., 178., 199., 199., 184.,\n",
    "         162., 146., 166., 171., 180., 193., 181., 183., 218., 230., 242.,\n",
    "         209., 191., 172., 194., 196., 196., 236., 235., 229., 243., 264.,\n",
    "         272., 237., 211., 180., 201., 204., 188., 235., 227., 234., 264.,\n",
    "         302., 293., 259., 229., 203., 229., 242., 233., 267., 269., 270.,\n",
    "         315., 364., 347., 312., 274., 237., 278., 284., 277., 317., 313.,\n",
    "         318., 374., 413., 405., 355., 306., 271., 306., 315., 301., 356.,\n",
    "         348., 355., 422., 465., 467., 404., 347., 305., 336., 340., 318.,\n",
    "         362., 348., 363., 435., 491., 505., 404., 359., 310., 337., 360.,\n",
    "         342., 406., 396., 420., 472., 548., 559., 463., 407., 362., 405.,\n",
    "         417., 391., 419., 461., 472., 535., 622., 606., 508., 461., 390.,\n",
    "         432.],dtype=np.float32\n",
    "    )\n",
    "    seq_number=seq_number[:,np.newaxis]\n",
    "    seq_year=np.arange(12)\n",
    "    seq_month=np.arange(12)\n",
    "    seq_year_month=np.transpose(\n",
    "    [\n",
    "        np.repeat(seq_year,len(seq_month)),\n",
    "        np.tile(seq_month,len(seq_year)),\n",
    "    ]\n",
    "    )\n",
    "    seq=np.concatenate((seq_number,seq_year_month),axis=1)\n",
    "    \n",
    "    seq=(seq-seq.mean(axis=0))/seq.std(axis=0)\n",
    "    return(seq)\n",
    " \n",
    " "
   ]
  },
  {
   "cell_type": "code",
   "execution_count": 5,
   "id": "5c10d8e8",
   "metadata": {},
   "outputs": [],
   "source": [
    "data=load_data()\n",
    "train_data,test_data = train_test_split(data,train_size=0.7)"
   ]
  },
  {
   "cell_type": "code",
   "execution_count": 6,
   "id": "aa7f03a7",
   "metadata": {},
   "outputs": [],
   "source": [
    "device=torch.device(\"cuda\" if torch.cuda.is_available() else \"cpu\")    #定义一个设备\n",
    "train_data=torch.tensor(train_data,dtype=torch.float32,device=device)"
   ]
  },
  {
   "cell_type": "code",
   "execution_count": 7,
   "id": "9ae8d6e3",
   "metadata": {},
   "outputs": [
    {
     "data": {
      "text/plain": [
       "torch.Size([50, 2, 1])"
      ]
     },
     "execution_count": 7,
     "metadata": {},
     "output_type": "execute_result"
    }
   ],
   "source": [
    "data_sample = train_data.reshape(-1,time_step,input_size)\n",
    "label_sample = train_data[:,0]\n",
    "label_sample = label_sample.reshape(-1,time_step,1)\n",
    "label_sample.shape"
   ]
  },
  {
   "cell_type": "code",
   "execution_count": 8,
   "id": "dcab7684",
   "metadata": {},
   "outputs": [
    {
     "data": {
      "text/plain": [
       "torch.Size([50, 2, 1])"
      ]
     },
     "execution_count": 8,
     "metadata": {},
     "output_type": "execute_result"
    }
   ],
   "source": [
    "label_sample.shape"
   ]
  },
  {
   "cell_type": "code",
   "execution_count": 9,
   "id": "a2a8f900",
   "metadata": {},
   "outputs": [],
   "source": [
    "device=torch.device(\"cuda\" if torch.cuda.is_available() else \"cpu\")    #定义一个设备\n",
    "net=RegLSTM(input_size,output_size,mid_dim,mid_layers).to(device)   #实例化神经网络\n",
    "criterion=nn.MSELoss()                                                  #定义一个损失函数\n",
    "optimizer=torch.optim.Adam(net.parameters(),lr=1e-2)                    #定义一个优化器"
   ]
  },
  {
   "cell_type": "code",
   "execution_count": 10,
   "id": "d65831a6",
   "metadata": {},
   "outputs": [
    {
     "name": "stdout",
     "output_type": "stream",
     "text": [
      "Epoch:    0, Loss: 0.18796\n",
      "Epoch:  100, Loss: 0.00271\n",
      "Epoch:  200, Loss: 0.00037\n",
      "Epoch:  300, Loss: 0.00018\n",
      "Epoch:  400, Loss: 0.00053\n",
      "Epoch:  500, Loss: 0.00018\n"
     ]
    }
   ],
   "source": [
    "net.train()\n",
    "for i in range(epoch):\n",
    "    for j in range(data_sample.shape[0]):\n",
    "        train_x=data_sample[[j],:,:]\n",
    "        train_y=label_sample[[j],:,:]\n",
    "\n",
    "        \n",
    "        out = net(train_x)\n",
    "        loss=criterion(out,train_y)\n",
    "        #loss = criterion(out[:,-1,:], var_y[:,-1,:])\n",
    "        optimizer.zero_grad()\n",
    "        loss.backward()\n",
    "        optimizer.step()\n",
    "    \n",
    "        \n",
    "    if i%100==0:\n",
    "        print('Epoch: {:4}, Loss: {:.5f}'.format(i, loss.item()))\n",
    " \n",
    " "
   ]
  },
  {
   "cell_type": "code",
   "execution_count": 11,
   "id": "aee52eb3",
   "metadata": {},
   "outputs": [],
   "source": [
    "test_data=torch.tensor(test_data,dtype=torch.float32,device=device)"
   ]
  },
  {
   "cell_type": "code",
   "execution_count": 12,
   "id": "3dba46a8",
   "metadata": {},
   "outputs": [
    {
     "data": {
      "text/plain": [
       "torch.Size([44, 1, 3])"
      ]
     },
     "execution_count": 12,
     "metadata": {},
     "output_type": "execute_result"
    }
   ],
   "source": [
    "test_x = test_data.reshape(-1,1,input_size)\n",
    "test_y = test_data[:,0]\n",
    "test_y = test_y.reshape(-1,1,1)\n",
    "test_x.shape"
   ]
  },
  {
   "cell_type": "code",
   "execution_count": 13,
   "id": "8f34cfac",
   "metadata": {},
   "outputs": [
    {
     "data": {
      "text/plain": [
       "[array([0.22853391], dtype=float32),\n",
       " array([-0.3926428], dtype=float32),\n",
       " array([-1.1375216], dtype=float32),\n",
       " array([-0.5866276], dtype=float32),\n",
       " array([0.78618515], dtype=float32),\n",
       " array([-1.281844], dtype=float32),\n",
       " array([0.6523607], dtype=float32),\n",
       " array([-0.6466329], dtype=float32),\n",
       " array([0.24600637], dtype=float32),\n",
       " array([0.55603456], dtype=float32),\n",
       " array([-0.02346268], dtype=float32),\n",
       " array([-1.3880727], dtype=float32),\n",
       " array([1.0594821], dtype=float32),\n",
       " array([0.56483954], dtype=float32),\n",
       " array([1.167619], dtype=float32),\n",
       " array([1.0922353], dtype=float32),\n",
       " array([0.30569702], dtype=float32),\n",
       " array([-1.1147063], dtype=float32),\n",
       " array([-1.3710945], dtype=float32),\n",
       " array([0.3071816], dtype=float32),\n",
       " array([-0.8164114], dtype=float32),\n",
       " array([0.6221598], dtype=float32),\n",
       " array([-1.1039807], dtype=float32),\n",
       " array([1.1859951], dtype=float32),\n",
       " array([-0.42964202], dtype=float32),\n",
       " array([-0.11483163], dtype=float32),\n",
       " array([0.56329924], dtype=float32),\n",
       " array([-0.42891026], dtype=float32),\n",
       " array([-0.756647], dtype=float32),\n",
       " array([-0.7829864], dtype=float32),\n",
       " array([-0.92363036], dtype=float32),\n",
       " array([-1.120847], dtype=float32),\n",
       " array([2.879778], dtype=float32),\n",
       " array([1.758767], dtype=float32),\n",
       " array([0.5229007], dtype=float32),\n",
       " array([0.70033616], dtype=float32),\n",
       " array([-0.60579354], dtype=float32),\n",
       " array([0.27574757], dtype=float32),\n",
       " array([1.6125689], dtype=float32),\n",
       " array([1.6058425], dtype=float32),\n",
       " array([-1.2231067], dtype=float32),\n",
       " array([0.6924441], dtype=float32),\n",
       " array([2.1762972], dtype=float32),\n",
       " array([0.4866848], dtype=float32)]"
      ]
     },
     "execution_count": 13,
     "metadata": {},
     "output_type": "execute_result"
    }
   ],
   "source": [
    "y_pred = []\n",
    "for i in range(test_x.shape[0]):\n",
    "    tem=net(test_x[[i],:,:]).cpu().data.numpy()\n",
    "    y_pred.append(tem[0][0])\n",
    "y_pred"
   ]
  },
  {
   "cell_type": "code",
   "execution_count": 14,
   "id": "32ae7f9e",
   "metadata": {},
   "outputs": [],
   "source": [
    "test_y = test_y.reshape(-1,1)"
   ]
  },
  {
   "cell_type": "code",
   "execution_count": 15,
   "id": "6b932f49",
   "metadata": {},
   "outputs": [
    {
     "data": {
      "text/plain": [
       "array([[ 0.2066214 ],\n",
       "       [-0.37891236],\n",
       "       [-1.1317415 ],\n",
       "       [-0.5796668 ],\n",
       "       [ 0.7837904 ],\n",
       "       [-1.2655778 ],\n",
       "       [ 0.6583189 ],\n",
       "       [-0.6382202 ],\n",
       "       [ 0.21498616],\n",
       "       [ 0.5579416 ],\n",
       "       [-0.02759212],\n",
       "       [-1.3826846 ],\n",
       "       [ 1.0347334 ],\n",
       "       [ 0.5663064 ],\n",
       "       [ 1.1434754 ],\n",
       "       [ 1.0598277 ],\n",
       "       [ 0.29026908],\n",
       "       [-1.1066471 ],\n",
       "       [-1.3575902 ],\n",
       "       [ 0.31536338],\n",
       "       [-0.8055155 ],\n",
       "       [ 0.6248598 ],\n",
       "       [-1.0982825 ],\n",
       "       [ 1.1685697 ],\n",
       "       [-0.429101  ],\n",
       "       [-0.1112398 ],\n",
       "       [ 0.5663064 ],\n",
       "       [-0.42073622],\n",
       "       [-0.7469622 ],\n",
       "       [-0.77205646],\n",
       "       [-0.9142575 ],\n",
       "       [-1.1233767 ],\n",
       "       [ 2.8582528 ],\n",
       "       [ 1.7624682 ],\n",
       "       [ 0.49938828],\n",
       "       [ 0.6666836 ],\n",
       "       [-0.5963963 ],\n",
       "       [ 0.26517478],\n",
       "       [ 1.6035377 ],\n",
       "       [ 1.6035377 ],\n",
       "       [-1.2153891 ],\n",
       "       [ 0.69177794],\n",
       "       [ 2.130518  ],\n",
       "       [ 0.47429398]], dtype=float32)"
      ]
     },
     "execution_count": 15,
     "metadata": {},
     "output_type": "execute_result"
    }
   ],
   "source": [
    "test_y = test_y.cpu().numpy()\n",
    "test_y"
   ]
  },
  {
   "cell_type": "code",
   "execution_count": 16,
   "id": "7fc3f482",
   "metadata": {},
   "outputs": [
    {
     "data": {
      "text/plain": [
       "array([[ 0.22853391],\n",
       "       [-0.3926428 ],\n",
       "       [-1.1375216 ],\n",
       "       [-0.5866276 ],\n",
       "       [ 0.78618515],\n",
       "       [-1.281844  ],\n",
       "       [ 0.6523607 ],\n",
       "       [-0.6466329 ],\n",
       "       [ 0.24600637],\n",
       "       [ 0.55603456],\n",
       "       [-0.02346268],\n",
       "       [-1.3880727 ],\n",
       "       [ 1.0594821 ],\n",
       "       [ 0.56483954],\n",
       "       [ 1.167619  ],\n",
       "       [ 1.0922353 ],\n",
       "       [ 0.30569702],\n",
       "       [-1.1147063 ],\n",
       "       [-1.3710945 ],\n",
       "       [ 0.3071816 ],\n",
       "       [-0.8164114 ],\n",
       "       [ 0.6221598 ],\n",
       "       [-1.1039807 ],\n",
       "       [ 1.1859951 ],\n",
       "       [-0.42964202],\n",
       "       [-0.11483163],\n",
       "       [ 0.56329924],\n",
       "       [-0.42891026],\n",
       "       [-0.756647  ],\n",
       "       [-0.7829864 ],\n",
       "       [-0.92363036],\n",
       "       [-1.120847  ],\n",
       "       [ 2.879778  ],\n",
       "       [ 1.758767  ],\n",
       "       [ 0.5229007 ],\n",
       "       [ 0.70033616],\n",
       "       [-0.60579354],\n",
       "       [ 0.27574757],\n",
       "       [ 1.6125689 ],\n",
       "       [ 1.6058425 ],\n",
       "       [-1.2231067 ],\n",
       "       [ 0.6924441 ],\n",
       "       [ 2.1762972 ],\n",
       "       [ 0.4866848 ]], dtype=float32)"
      ]
     },
     "execution_count": 16,
     "metadata": {},
     "output_type": "execute_result"
    }
   ],
   "source": [
    "y_pred = np.array(y_pred).reshape((-1,1))\n",
    "y_pred"
   ]
  },
  {
   "cell_type": "code",
   "execution_count": 17,
   "id": "fcad792c",
   "metadata": {},
   "outputs": [],
   "source": [
    "diff = test_y - y_pred"
   ]
  },
  {
   "cell_type": "code",
   "execution_count": 18,
   "id": "a211d610",
   "metadata": {},
   "outputs": [
    {
     "name": "stdout",
     "output_type": "stream",
     "text": [
      "L1:0.012    L2:0.000\n"
     ]
    },
    {
     "data": {
      "text/plain": [
       "[<matplotlib.lines.Line2D at 0x157c7b99550>]"
      ]
     },
     "execution_count": 18,
     "metadata": {},
     "output_type": "execute_result"
    },
    {
     "data": {
      "image/png": "[encoded data removed]",
      "text/plain": [
       "<Figure size 432x288 with 1 Axes>"
      ]
     },
     "metadata": {
      "needs_background": "light"
     },
     "output_type": "display_data"
    }
   ],
   "source": [
    "\n",
    "l1_loss=np.mean(np.abs(diff))\n",
    "l2_loss=np.mean(diff**2)\n",
    "print(\"L1:{:.3f}    L2:{:.3f}\".format(l1_loss,l2_loss))\n",
    "plt.plot(test_y, 'r', label='pred')\n",
    "plt.plot(y_pred, 'b', label='real', alpha=0.7)\n",
    " \n"
   ]
  },
  {
   "cell_type": "code",
   "execution_count": 19,
   "id": "7f0432ab",
   "metadata": {},
   "outputs": [],
   "source": [
    "a=np.array([1,2,3])\n",
    "b=np.array([2,2,4])\n",
    " "
   ]
  },
  {
   "cell_type": "code",
   "execution_count": 20,
   "id": "7f10c5a7",
   "metadata": {},
   "outputs": [
    {
     "data": {
      "text/plain": [
       "array([[1.       , 0.8660254],\n",
       "       [0.8660254, 1.       ]])"
      ]
     },
     "execution_count": 20,
     "metadata": {},
     "output_type": "execute_result"
    }
   ],
   "source": [
    "np.corrcoef(a,b)\n",
    " "
   ]
  }
 ],
 "metadata": {
  "kernelspec": {
   "display_name": "Python 3 (ipykernel)",
   "language": "python",
   "name": "python3"
  },
  "language_info": {
   "codemirror_mode": {
    "name": "ipython",
    "version": 3
   },
   "file_extension": ".py",
   "mimetype": "text/x-python",
   "name": "python",
   "nbconvert_exporter": "python",
   "pygments_lexer": "ipython3",
   "version": "3.9.7"
  },
  "toc": {
   "base_numbering": 1,
   "nav_menu": {},
   "number_sections": true,
   "sideBar": true,
   "skip_h1_title": false,
   "title_cell": "Table of Contents",
   "title_sidebar": "Contents",
   "toc_cell": false,
   "toc_position": {},
   "toc_section_display": true,
   "toc_window_display": false
  }
 },
 "nbformat": 4,
 "nbformat_minor": 5
}
