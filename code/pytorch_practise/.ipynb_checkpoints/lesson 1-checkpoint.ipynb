{
 "cells": [
  {
   "cell_type": "code",
   "execution_count": 1,
   "id": "a54385b4",
   "metadata": {},
   "outputs": [],
   "source": [
    "import torch\n",
    "from torch import autograd"
   ]
  },
  {
   "cell_type": "markdown",
   "id": "a6623690",
   "metadata": {},
   "source": [
    "## 自动求导"
   ]
  },
  {
   "cell_type": "code",
   "execution_count": 2,
   "id": "716792da",
   "metadata": {},
   "outputs": [],
   "source": [
    "x = torch.tensor(1.0)\n",
    "a = torch.tensor(1.0,requires_grad = True)\n",
    "b = torch.tensor(2.0,requires_grad = True)\n",
    "c = torch.tensor(3.0,requires_grad = True)"
   ]
  },
  {
   "cell_type": "code",
   "execution_count": 3,
   "id": "32fcc2bb",
   "metadata": {},
   "outputs": [
    {
     "data": {
      "text/plain": [
       "tensor(6., grad_fn=<AddBackward0>)"
      ]
     },
     "execution_count": 3,
     "metadata": {},
     "output_type": "execute_result"
    }
   ],
   "source": [
    "y = a**2 *x + b*x +c\n",
    "y"
   ]
  },
  {
   "cell_type": "code",
   "execution_count": 4,
   "id": "c97de5aa",
   "metadata": {},
   "outputs": [
    {
     "name": "stdout",
     "output_type": "stream",
     "text": [
      "None None None\n"
     ]
    }
   ],
   "source": [
    "print(a.grad,b.grad,c.grad)"
   ]
  },
  {
   "cell_type": "code",
   "execution_count": 5,
   "id": "a5110af8",
   "metadata": {},
   "outputs": [],
   "source": [
    "grads = autograd.grad(y,[a,b,c])  #自动求导"
   ]
  },
  {
   "cell_type": "code",
   "execution_count": 6,
   "id": "6414aa39",
   "metadata": {},
   "outputs": [
    {
     "data": {
      "text/plain": [
       "(tensor(2.), tensor(1.), tensor(1.))"
      ]
     },
     "execution_count": 6,
     "metadata": {},
     "output_type": "execute_result"
    }
   ],
   "source": [
    "grads[0],grads[1],grads[2]"
   ]
  },
  {
   "cell_type": "code",
   "execution_count": 7,
   "id": "dcc7407e",
   "metadata": {},
   "outputs": [
    {
     "data": {
      "text/plain": [
       "'1.11.0'"
      ]
     },
     "execution_count": 7,
     "metadata": {},
     "output_type": "execute_result"
    }
   ],
   "source": [
    "torch.__version__ #查看torch的版本"
   ]
  },
  {
   "cell_type": "code",
   "execution_count": 8,
   "id": "e6a4d70f",
   "metadata": {},
   "outputs": [
    {
     "data": {
      "text/plain": [
       "False"
      ]
     },
     "execution_count": 8,
     "metadata": {},
     "output_type": "execute_result"
    }
   ],
   "source": [
    "torch.cuda.is_available() #查看GPU是否可用"
   ]
  },
  {
   "cell_type": "markdown",
   "id": "a7d6fa95",
   "metadata": {},
   "source": [
    "## 数据类型"
   ]
  },
  {
   "cell_type": "code",
   "execution_count": 9,
   "id": "c90d35e7",
   "metadata": {},
   "outputs": [],
   "source": [
    "import numpy as np"
   ]
  },
  {
   "cell_type": "code",
   "execution_count": 10,
   "id": "0245a3a2",
   "metadata": {},
   "outputs": [
    {
     "data": {
      "text/plain": [
       "array([1, 2, 3])"
      ]
     },
     "execution_count": 10,
     "metadata": {},
     "output_type": "execute_result"
    }
   ],
   "source": [
    "a = np.array([1,2,3])\n",
    "a"
   ]
  },
  {
   "cell_type": "markdown",
   "id": "1d1c3e25",
   "metadata": {},
   "source": [
    "### 将numpy转为tensor类型"
   ]
  },
  {
   "cell_type": "code",
   "execution_count": 11,
   "id": "0958f1f4",
   "metadata": {},
   "outputs": [
    {
     "data": {
      "text/plain": [
       "tensor([1., 2., 3.], dtype=torch.float64)"
      ]
     },
     "execution_count": 11,
     "metadata": {},
     "output_type": "execute_result"
    }
   ],
   "source": [
    "torch.tensor(a,dtype = float) "
   ]
  },
  {
   "cell_type": "code",
   "execution_count": 12,
   "id": "86da9f93",
   "metadata": {},
   "outputs": [
    {
     "data": {
      "text/plain": [
       "tensor([1, 2, 3], dtype=torch.int32)"
      ]
     },
     "execution_count": 12,
     "metadata": {},
     "output_type": "execute_result"
    }
   ],
   "source": [
    "torch.from_numpy(a)"
   ]
  },
  {
   "cell_type": "markdown",
   "id": "b84738e6",
   "metadata": {},
   "source": [
    "### 数据属性"
   ]
  },
  {
   "cell_type": "code",
   "execution_count": 13,
   "id": "b4373ab0",
   "metadata": {},
   "outputs": [],
   "source": [
    "b = torch.randn((3,2))"
   ]
  },
  {
   "cell_type": "code",
   "execution_count": 14,
   "id": "b161eb5b",
   "metadata": {},
   "outputs": [
    {
     "data": {
      "text/plain": [
       "torch.Size([3, 2])"
      ]
     },
     "execution_count": 14,
     "metadata": {},
     "output_type": "execute_result"
    }
   ],
   "source": [
    "b.shape"
   ]
  },
  {
   "cell_type": "code",
   "execution_count": 15,
   "id": "1ad13aca",
   "metadata": {},
   "outputs": [
    {
     "data": {
      "text/plain": [
       "3"
      ]
     },
     "execution_count": 15,
     "metadata": {},
     "output_type": "execute_result"
    }
   ],
   "source": [
    "b.shape[0]"
   ]
  },
  {
   "cell_type": "code",
   "execution_count": 16,
   "id": "df710994",
   "metadata": {},
   "outputs": [
    {
     "data": {
      "text/plain": [
       "torch.Size([3, 2])"
      ]
     },
     "execution_count": 16,
     "metadata": {},
     "output_type": "execute_result"
    }
   ],
   "source": [
    "b.size()"
   ]
  },
  {
   "cell_type": "code",
   "execution_count": 17,
   "id": "ee20dc5c",
   "metadata": {},
   "outputs": [
    {
     "data": {
      "text/plain": [
       "3"
      ]
     },
     "execution_count": 17,
     "metadata": {},
     "output_type": "execute_result"
    }
   ],
   "source": [
    "b.size(0)"
   ]
  },
  {
   "cell_type": "code",
   "execution_count": 18,
   "id": "8119407f",
   "metadata": {},
   "outputs": [
    {
     "data": {
      "text/plain": [
       "tensor([[[0.9681, 0.5887, 0.8568],\n",
       "         [0.0236, 0.8826, 0.1942]]])"
      ]
     },
     "execution_count": 18,
     "metadata": {},
     "output_type": "execute_result"
    }
   ],
   "source": [
    "c = torch.rand(1,2,3)  #在RNN神经网络中比较常见结构\n",
    "c"
   ]
  },
  {
   "cell_type": "code",
   "execution_count": 19,
   "id": "dc079022",
   "metadata": {},
   "outputs": [
    {
     "data": {
      "text/plain": [
       "torch.Size([1, 2, 3])"
      ]
     },
     "execution_count": 19,
     "metadata": {},
     "output_type": "execute_result"
    }
   ],
   "source": [
    "c.shape"
   ]
  },
  {
   "cell_type": "code",
   "execution_count": 20,
   "id": "33d0ac3e",
   "metadata": {},
   "outputs": [
    {
     "data": {
      "text/plain": [
       "tensor([[[[0.0755, 0.7702, 0.0233, 0.9107],\n",
       "          [0.4598, 0.6002, 0.6437, 0.2943],\n",
       "          [0.5633, 0.9385, 0.6486, 0.6435]],\n",
       "\n",
       "         [[0.0145, 0.0177, 0.4437, 0.1026],\n",
       "          [0.3850, 0.7782, 0.2885, 0.9831],\n",
       "          [0.3587, 0.7958, 0.0835, 0.9560]]]])"
      ]
     },
     "execution_count": 20,
     "metadata": {},
     "output_type": "execute_result"
    }
   ],
   "source": [
    "d = torch.rand(1,2,3,4) #CNN神经网络结构中比较常见\n",
    "d "
   ]
  },
  {
   "cell_type": "code",
   "execution_count": 21,
   "id": "0c48248a",
   "metadata": {},
   "outputs": [
    {
     "data": {
      "text/plain": [
       "4"
      ]
     },
     "execution_count": 21,
     "metadata": {},
     "output_type": "execute_result"
    }
   ],
   "source": [
    "d.dim() #数据是4维的"
   ]
  },
  {
   "cell_type": "code",
   "execution_count": 22,
   "id": "6addecc1",
   "metadata": {},
   "outputs": [
    {
     "data": {
      "text/plain": [
       "24"
      ]
     },
     "execution_count": 22,
     "metadata": {},
     "output_type": "execute_result"
    }
   ],
   "source": [
    "d.numel() #总的数据大小"
   ]
  },
  {
   "cell_type": "code",
   "execution_count": 23,
   "id": "3ad3784b",
   "metadata": {},
   "outputs": [
    {
     "data": {
      "text/plain": [
       "tensor([[-3.1310e+23, -1.4217e-30],\n",
       "        [-4.5768e-15,  3.8948e-18],\n",
       "        [ 4.7851e+22,  2.8826e+32]])"
      ]
     },
     "execution_count": 23,
     "metadata": {},
     "output_type": "execute_result"
    }
   ],
   "source": [
    "torch.Tensor(3,2) #根据维度生成数据"
   ]
  },
  {
   "cell_type": "code",
   "execution_count": 24,
   "id": "f4c28fe2",
   "metadata": {},
   "outputs": [
    {
     "data": {
      "text/plain": [
       "tensor([3., 2.], dtype=torch.float64)"
      ]
     },
     "execution_count": 24,
     "metadata": {},
     "output_type": "execute_result"
    }
   ],
   "source": [
    "torch.tensor((3,2),dtype=float) #将数据转为tensor"
   ]
  },
  {
   "cell_type": "code",
   "execution_count": 25,
   "id": "9c6b9f1b",
   "metadata": {},
   "outputs": [
    {
     "data": {
      "text/plain": [
       "tensor([3., 2.])"
      ]
     },
     "execution_count": 25,
     "metadata": {},
     "output_type": "execute_result"
    }
   ],
   "source": [
    "torch.FloatTensor((3,2))"
   ]
  },
  {
   "cell_type": "code",
   "execution_count": 26,
   "id": "10e0b195",
   "metadata": {},
   "outputs": [
    {
     "data": {
      "text/plain": [
       "tensor([[[0.0000e+00, 0.0000e+00, 3.3089e-09],\n",
       "         [6.7138e-07, 8.5412e+20, 1.0617e+21]]])"
      ]
     },
     "execution_count": 26,
     "metadata": {},
     "output_type": "execute_result"
    }
   ],
   "source": [
    "torch.FloatTensor(1,2,3)"
   ]
  },
  {
   "cell_type": "code",
   "execution_count": 27,
   "id": "861002fc",
   "metadata": {},
   "outputs": [
    {
     "data": {
      "text/plain": [
       "tensor([[0., 0., 0.],\n",
       "        [0., 0., 0.]])"
      ]
     },
     "execution_count": 27,
     "metadata": {},
     "output_type": "execute_result"
    }
   ],
   "source": [
    "torch.empty(2,3)"
   ]
  },
  {
   "cell_type": "code",
   "execution_count": 28,
   "id": "e3dcded3",
   "metadata": {},
   "outputs": [
    {
     "data": {
      "text/plain": [
       "tensor([[0.3347, 0.6504, 0.0053],\n",
       "        [0.6171, 0.3458, 0.8365]])"
      ]
     },
     "execution_count": 28,
     "metadata": {},
     "output_type": "execute_result"
    }
   ],
   "source": [
    "a = torch.rand(2,3)\n",
    "a"
   ]
  },
  {
   "cell_type": "code",
   "execution_count": 29,
   "id": "c8848c91",
   "metadata": {},
   "outputs": [
    {
     "data": {
      "text/plain": [
       "tensor([[0.7638, 0.3404, 0.8581],\n",
       "        [0.4548, 0.4746, 0.2190]])"
      ]
     },
     "execution_count": 29,
     "metadata": {},
     "output_type": "execute_result"
    }
   ],
   "source": [
    "torch.rand_like(a)"
   ]
  },
  {
   "cell_type": "code",
   "execution_count": 30,
   "id": "f3c8fcc2",
   "metadata": {},
   "outputs": [
    {
     "data": {
      "text/plain": [
       "tensor([[4, 4, 7],\n",
       "        [8, 5, 8],\n",
       "        [8, 7, 3]])"
      ]
     },
     "execution_count": 30,
     "metadata": {},
     "output_type": "execute_result"
    }
   ],
   "source": [
    "torch.randint(1,10,(3,3)) #在1-10之间生成随机数，不包括10"
   ]
  },
  {
   "cell_type": "code",
   "execution_count": 31,
   "id": "65dbf00d",
   "metadata": {},
   "outputs": [
    {
     "data": {
      "text/plain": [
       "tensor([[-0.1223, -0.7168,  0.3255],\n",
       "        [-1.2439,  1.7582,  0.9947]])"
      ]
     },
     "execution_count": 31,
     "metadata": {},
     "output_type": "execute_result"
    }
   ],
   "source": [
    "torch.randn(2,3) #生成标准正态分布"
   ]
  },
  {
   "cell_type": "code",
   "execution_count": 32,
   "id": "df918d98",
   "metadata": {},
   "outputs": [
    {
     "data": {
      "text/plain": [
       "tensor([[7., 7., 7.],\n",
       "        [7., 7., 7.]], dtype=torch.float64)"
      ]
     },
     "execution_count": 32,
     "metadata": {},
     "output_type": "execute_result"
    }
   ],
   "source": [
    "torch.full((2,3),7,dtype = float)"
   ]
  },
  {
   "cell_type": "code",
   "execution_count": 33,
   "id": "fd60f738",
   "metadata": {},
   "outputs": [
    {
     "data": {
      "text/plain": [
       "tensor([0, 2, 4, 6, 8])"
      ]
     },
     "execution_count": 33,
     "metadata": {},
     "output_type": "execute_result"
    }
   ],
   "source": [
    "torch.arange(0,10,2)"
   ]
  },
  {
   "cell_type": "code",
   "execution_count": 34,
   "id": "c440921b",
   "metadata": {},
   "outputs": [
    {
     "data": {
      "text/plain": [
       "tensor([ 0.0000,  3.3333,  6.6667, 10.0000])"
      ]
     },
     "execution_count": 34,
     "metadata": {},
     "output_type": "execute_result"
    }
   ],
   "source": [
    "torch.linspace(0,10,4)"
   ]
  },
  {
   "cell_type": "code",
   "execution_count": 35,
   "id": "805a4c2b",
   "metadata": {},
   "outputs": [
    {
     "data": {
      "text/plain": [
       "tensor([[1., 0., 0.],\n",
       "        [0., 1., 0.],\n",
       "        [0., 0., 1.]])"
      ]
     },
     "execution_count": 35,
     "metadata": {},
     "output_type": "execute_result"
    }
   ],
   "source": [
    "torch.eye(3)"
   ]
  },
  {
   "cell_type": "code",
   "execution_count": 36,
   "id": "956c1b19",
   "metadata": {},
   "outputs": [
    {
     "data": {
      "text/plain": [
       "tensor([[0.3347, 0.6504, 0.0053],\n",
       "        [0.6171, 0.3458, 0.8365]])"
      ]
     },
     "execution_count": 36,
     "metadata": {},
     "output_type": "execute_result"
    }
   ],
   "source": [
    "a"
   ]
  },
  {
   "cell_type": "code",
   "execution_count": null,
   "id": "cfee98ee",
   "metadata": {},
   "outputs": [],
   "source": []
  },
  {
   "cell_type": "code",
   "execution_count": 37,
   "id": "220bc5f6",
   "metadata": {},
   "outputs": [
    {
     "data": {
      "text/plain": [
       "tensor([[ 1.,  2.,  3.,  4.],\n",
       "        [ 5.,  6.,  7.,  8.],\n",
       "        [ 9., 10., 11., 12.]])"
      ]
     },
     "execution_count": 37,
     "metadata": {},
     "output_type": "execute_result"
    }
   ],
   "source": [
    "a = torch.linspace(1, 12, steps=12).view(3, 4)\n",
    "a"
   ]
  },
  {
   "cell_type": "code",
   "execution_count": 38,
   "id": "1a9fb7f5",
   "metadata": {},
   "outputs": [
    {
     "data": {
      "text/plain": [
       "tensor([[ 1.,  2.,  3.,  4.],\n",
       "        [ 9., 10., 11., 12.]])"
      ]
     },
     "execution_count": 38,
     "metadata": {},
     "output_type": "execute_result"
    }
   ],
   "source": [
    "b = torch.index_select(a, 0, torch.tensor([0, 2]))\n",
    "b"
   ]
  },
  {
   "cell_type": "code",
   "execution_count": 39,
   "id": "04628511",
   "metadata": {},
   "outputs": [
    {
     "data": {
      "text/plain": [
       "tensor([[ 1.,  2.,  3.,  4.],\n",
       "        [ 9., 10., 11., 12.]])"
      ]
     },
     "execution_count": 39,
     "metadata": {},
     "output_type": "execute_result"
    }
   ],
   "source": [
    "a.index_select(0, torch.tensor([0, 2]))"
   ]
  },
  {
   "cell_type": "code",
   "execution_count": 40,
   "id": "5eff43bb",
   "metadata": {},
   "outputs": [
    {
     "data": {
      "text/plain": [
       "tensor([[ 2.,  4.],\n",
       "        [ 6.,  8.],\n",
       "        [10., 12.]])"
      ]
     },
     "execution_count": 40,
     "metadata": {},
     "output_type": "execute_result"
    }
   ],
   "source": [
    "c = torch.index_select(a, 1, torch.tensor([1, 3]))\n",
    "c"
   ]
  },
  {
   "cell_type": "code",
   "execution_count": 41,
   "id": "4d4b91c3",
   "metadata": {},
   "outputs": [
    {
     "data": {
      "text/plain": [
       "torch.Size([4, 3, 28, 28])"
      ]
     },
     "execution_count": 41,
     "metadata": {},
     "output_type": "execute_result"
    }
   ],
   "source": [
    "a = torch.randn((4,3,28,28))\n",
    "a.size()"
   ]
  },
  {
   "cell_type": "code",
   "execution_count": 42,
   "id": "b09d53af",
   "metadata": {},
   "outputs": [
    {
     "data": {
      "text/plain": [
       "tensor([[[ 1.9195,  0.5958, -2.0692,  ...,  0.2045, -0.5442, -0.3989],\n",
       "         [-0.9881,  2.2041,  0.4345,  ...,  0.4780, -0.7465,  0.8154],\n",
       "         [-1.0388,  0.9711,  1.3563,  ...,  1.5513, -0.3718, -0.8407],\n",
       "         ...,\n",
       "         [ 0.2938,  0.8432, -0.4042,  ..., -1.5798, -0.2938,  0.3868],\n",
       "         [-1.0945,  1.9235,  0.8360,  ...,  1.8103,  0.5187, -0.2964],\n",
       "         [ 0.5580,  0.8031,  0.3615,  ...,  0.7413,  1.3739, -1.6714]],\n",
       "\n",
       "        [[-0.0607, -1.1084, -0.1109,  ...,  0.6161, -1.3683,  1.3990],\n",
       "         [-0.4221, -0.1069,  0.9116,  ..., -1.0796,  1.0775, -0.6839],\n",
       "         [-1.6392,  0.3588, -1.4396,  ...,  2.3261,  0.3082, -1.0951],\n",
       "         ...,\n",
       "         [-1.6374, -1.4304, -0.1329,  ...,  1.5057,  0.0740, -0.2366],\n",
       "         [ 0.0625, -0.0398,  0.1308,  ..., -1.0072,  0.7247, -1.3908],\n",
       "         [-1.3813,  0.5320, -0.5381,  ...,  0.7193,  0.1342,  0.4821]],\n",
       "\n",
       "        [[ 0.7811,  0.2934, -0.1142,  ...,  0.0435,  0.6910, -0.2603],\n",
       "         [-1.3771,  1.1686,  1.2324,  ...,  0.2365,  1.1857,  0.1498],\n",
       "         [ 0.6304,  0.6841,  0.4601,  ...,  0.8682,  1.3968, -0.3455],\n",
       "         ...,\n",
       "         [ 2.4100, -1.0968,  0.0053,  ...,  1.1979, -1.2852,  0.6491],\n",
       "         [-0.5455, -0.0221, -0.9539,  ..., -1.3537, -0.8864, -0.4639],\n",
       "         [ 1.6065, -0.8229,  1.2610,  ..., -0.1921,  1.5574, -0.5471]]])"
      ]
     },
     "execution_count": 42,
     "metadata": {},
     "output_type": "execute_result"
    }
   ],
   "source": [
    "a[0,...]#...表示剩余的所有维度"
   ]
  },
  {
   "cell_type": "code",
   "execution_count": 43,
   "id": "536cf2d7",
   "metadata": {},
   "outputs": [
    {
     "data": {
      "text/plain": [
       "torch.Size([4, 28, 28])"
      ]
     },
     "execution_count": 43,
     "metadata": {},
     "output_type": "execute_result"
    }
   ],
   "source": [
    "a[:,1,...].shape"
   ]
  },
  {
   "cell_type": "code",
   "execution_count": 44,
   "id": "b77a25ed",
   "metadata": {},
   "outputs": [
    {
     "data": {
      "text/plain": [
       "tensor([[[[ 1.9195e+00,  5.9580e-01],\n",
       "          [-9.8810e-01,  2.2041e+00],\n",
       "          [-1.0388e+00,  9.7109e-01],\n",
       "          [-1.9924e-01,  3.4106e-01],\n",
       "          [ 6.6248e-01, -1.3648e+00],\n",
       "          [ 5.7500e-02,  6.5452e-01],\n",
       "          [ 1.4405e+00,  1.3932e+00],\n",
       "          [-4.4214e-01,  7.8999e-01],\n",
       "          [ 3.3913e-01,  9.1427e-01],\n",
       "          [-1.0143e+00,  2.5807e+00],\n",
       "          [ 2.3107e+00,  1.6234e-01],\n",
       "          [ 9.4474e-01,  5.9831e-01],\n",
       "          [ 3.9819e-01, -7.3612e-01],\n",
       "          [ 2.5348e+00, -6.6040e-02],\n",
       "          [-4.4495e-01, -1.5920e+00],\n",
       "          [ 3.0206e-01, -2.1000e+00],\n",
       "          [-8.3244e-01, -1.1420e+00],\n",
       "          [ 1.1865e+00, -1.7422e-01],\n",
       "          [-2.7044e-01,  1.3827e+00],\n",
       "          [ 6.1318e-02,  3.9603e-01],\n",
       "          [ 1.8583e+00,  1.2797e+00],\n",
       "          [-1.2561e+00,  1.1225e+00],\n",
       "          [ 5.2697e-01,  1.7730e-01],\n",
       "          [-1.5020e+00, -2.7347e-01],\n",
       "          [ 4.4043e-01,  2.1589e+00],\n",
       "          [ 2.9383e-01,  8.4323e-01],\n",
       "          [-1.0945e+00,  1.9235e+00],\n",
       "          [ 5.5803e-01,  8.0305e-01]],\n",
       "\n",
       "         [[-6.0651e-02, -1.1084e+00],\n",
       "          [-4.2207e-01, -1.0688e-01],\n",
       "          [-1.6392e+00,  3.5885e-01],\n",
       "          [ 3.8918e-01, -4.8010e-01],\n",
       "          [ 4.8504e-01,  4.8015e-01],\n",
       "          [-6.1013e-01, -1.2856e+00],\n",
       "          [ 6.8520e-01, -5.3754e-01],\n",
       "          [ 7.9145e-01, -1.2896e+00],\n",
       "          [-1.4900e-01,  2.8925e-01],\n",
       "          [ 2.0903e-01,  3.2294e-02],\n",
       "          [-2.6202e-02,  5.5454e-01],\n",
       "          [-9.6956e-01, -1.0139e+00],\n",
       "          [ 2.0025e+00,  7.7881e-02],\n",
       "          [ 1.3398e-01,  1.8027e+00],\n",
       "          [-2.5509e-01,  7.8077e-01],\n",
       "          [ 1.7605e-01, -4.8001e-01],\n",
       "          [ 1.4793e+00,  3.0443e-01],\n",
       "          [ 9.6562e-01,  1.3424e-01],\n",
       "          [ 6.4928e-01, -1.1061e+00],\n",
       "          [-1.7362e-01,  3.5551e-01],\n",
       "          [ 1.4731e+00, -2.9016e-01],\n",
       "          [-1.3029e+00,  5.5569e-01],\n",
       "          [-1.0366e+00,  1.7134e+00],\n",
       "          [-1.3145e-01,  1.5321e+00],\n",
       "          [ 4.1531e-01,  5.3229e-02],\n",
       "          [-1.6374e+00, -1.4304e+00],\n",
       "          [ 6.2530e-02, -3.9776e-02],\n",
       "          [-1.3813e+00,  5.3197e-01]],\n",
       "\n",
       "         [[ 7.8112e-01,  2.9342e-01],\n",
       "          [-1.3771e+00,  1.1686e+00],\n",
       "          [ 6.3037e-01,  6.8405e-01],\n",
       "          [ 5.8677e-01, -7.6660e-02],\n",
       "          [ 7.7570e-03, -1.6185e+00],\n",
       "          [ 1.3148e+00, -4.4075e-01],\n",
       "          [ 1.3239e+00, -1.0983e+00],\n",
       "          [-4.7908e-01,  8.8319e-01],\n",
       "          [ 1.6345e+00,  4.0171e-02],\n",
       "          [-4.1137e-01,  9.2396e-01],\n",
       "          [-1.0859e+00,  1.0212e-01],\n",
       "          [ 6.1877e-01, -2.7230e-01],\n",
       "          [ 2.3108e+00,  2.2007e+00],\n",
       "          [ 1.4106e+00,  6.9720e-01],\n",
       "          [ 5.3764e-01,  8.4335e-01],\n",
       "          [ 2.4192e+00,  3.6559e-01],\n",
       "          [-1.0629e-01,  1.0270e-02],\n",
       "          [-9.2431e-01, -2.0794e+00],\n",
       "          [-1.1256e+00,  9.3361e-01],\n",
       "          [-2.5763e+00,  2.0486e+00],\n",
       "          [-1.1415e+00,  7.0945e-01],\n",
       "          [-1.0832e+00, -5.3181e-01],\n",
       "          [ 9.3828e-01, -2.3293e-01],\n",
       "          [-3.7096e-01,  7.3184e-01],\n",
       "          [-5.5378e-02, -2.4372e-01],\n",
       "          [ 2.4100e+00, -1.0968e+00],\n",
       "          [-5.4549e-01, -2.2090e-02],\n",
       "          [ 1.6065e+00, -8.2289e-01]]],\n",
       "\n",
       "\n",
       "        [[[ 1.7612e+00, -1.5288e+00],\n",
       "          [ 1.1955e-01, -7.2602e-01],\n",
       "          [-8.1180e-01, -1.6707e+00],\n",
       "          [ 1.1504e+00, -4.4376e-01],\n",
       "          [ 1.3769e+00, -1.7068e-01],\n",
       "          [-1.4797e+00, -1.5688e-01],\n",
       "          [ 5.0720e-01,  4.6554e-01],\n",
       "          [-4.9165e-01, -8.3386e-01],\n",
       "          [ 1.8985e+00, -5.8025e-01],\n",
       "          [ 7.9293e-01,  8.0900e-01],\n",
       "          [-8.7170e-01,  8.6399e-01],\n",
       "          [ 2.5872e+00,  1.3317e-02],\n",
       "          [ 1.7668e-01,  5.2905e-01],\n",
       "          [-1.8719e+00,  8.5504e-01],\n",
       "          [-1.9068e+00, -2.8523e-01],\n",
       "          [-6.1510e-01, -4.5400e-01],\n",
       "          [ 9.9228e-01, -7.2172e-01],\n",
       "          [ 1.3895e+00,  1.9178e+00],\n",
       "          [-5.8062e-01,  1.3610e-01],\n",
       "          [ 1.3360e+00, -4.7600e-01],\n",
       "          [-5.7080e-02, -1.6606e-01],\n",
       "          [ 1.2918e+00,  2.3022e+00],\n",
       "          [-1.3977e-01,  1.5600e+00],\n",
       "          [ 4.8122e-01, -8.6853e-01],\n",
       "          [ 1.0387e+00,  6.2197e-02],\n",
       "          [ 1.6027e+00,  1.2875e+00],\n",
       "          [ 5.3032e-01,  5.6223e-01],\n",
       "          [-7.7741e-01,  1.7572e+00]],\n",
       "\n",
       "         [[ 9.0221e-01,  2.7020e-01],\n",
       "          [-1.7658e+00,  1.5142e+00],\n",
       "          [-2.2517e-01, -3.4335e-01],\n",
       "          [-3.3354e-01,  3.5828e-01],\n",
       "          [ 7.8351e-01,  1.0556e+00],\n",
       "          [-1.3280e+00, -9.7851e-01],\n",
       "          [-2.4453e+00,  5.1156e-01],\n",
       "          [ 1.7966e+00,  2.6271e-01],\n",
       "          [ 1.4091e+00,  1.9453e+00],\n",
       "          [-1.3456e+00, -8.6666e-01],\n",
       "          [-2.2323e+00,  1.3408e+00],\n",
       "          [-7.8292e-01, -2.3916e-01],\n",
       "          [ 4.1356e-02,  8.4842e-01],\n",
       "          [-1.8585e-01,  1.0800e+00],\n",
       "          [-3.9134e-01, -9.0588e-01],\n",
       "          [ 8.0149e-01,  2.3970e-01],\n",
       "          [ 1.8553e+00,  2.0321e-01],\n",
       "          [ 2.2777e-01,  3.5600e-01],\n",
       "          [-6.8397e-01, -1.4786e+00],\n",
       "          [-1.2142e+00, -8.1560e-01],\n",
       "          [ 3.4115e-02,  1.4567e+00],\n",
       "          [-3.3121e-01,  3.3704e-01],\n",
       "          [ 2.0227e-01,  1.0057e+00],\n",
       "          [ 1.3155e-01, -1.0435e-01],\n",
       "          [-1.2533e+00,  9.5367e-01],\n",
       "          [-7.0098e-01, -1.5464e-02],\n",
       "          [-9.6462e-01,  3.6721e-01],\n",
       "          [-1.5092e+00, -1.0072e+00]],\n",
       "\n",
       "         [[-1.3079e-01,  2.2895e-01],\n",
       "          [ 1.3061e+00, -6.3492e-01],\n",
       "          [ 5.0194e-01,  1.0297e+00],\n",
       "          [ 1.1891e+00, -7.2853e-01],\n",
       "          [ 5.3702e-01, -3.4084e-01],\n",
       "          [-2.3427e+00,  4.5268e-01],\n",
       "          [ 6.9776e-01, -8.7382e-01],\n",
       "          [ 3.1959e-01,  1.2134e+00],\n",
       "          [-1.5945e+00,  9.4346e-01],\n",
       "          [ 3.9986e-01, -3.8054e-01],\n",
       "          [ 1.1013e-01, -5.1644e-02],\n",
       "          [ 2.0081e+00,  4.1910e-01],\n",
       "          [ 2.4306e-01, -2.0597e-01],\n",
       "          [ 4.1289e-01, -6.2354e-01],\n",
       "          [ 1.4662e-01, -1.5447e+00],\n",
       "          [-9.8755e-01, -5.4654e-01],\n",
       "          [-1.6816e+00,  1.2153e+00],\n",
       "          [ 4.6298e-01, -7.3025e-01],\n",
       "          [-1.7512e+00,  8.0496e-01],\n",
       "          [ 1.0045e-01,  1.3719e+00],\n",
       "          [-2.7081e-01,  7.1897e-01],\n",
       "          [-1.2703e+00,  1.6742e-01],\n",
       "          [ 1.6420e+00,  1.4963e+00],\n",
       "          [ 7.6118e-01, -2.6647e-02],\n",
       "          [ 7.8916e-01, -8.7834e-01],\n",
       "          [ 1.1874e+00, -8.0813e-01],\n",
       "          [ 2.3247e-01,  1.7245e+00],\n",
       "          [ 4.2731e-01, -5.5062e-01]]],\n",
       "\n",
       "\n",
       "        [[[-8.1776e-01, -1.8515e+00],\n",
       "          [-1.0893e+00, -2.4045e+00],\n",
       "          [ 1.3712e+00,  1.3275e-01],\n",
       "          [ 1.6932e-02, -8.9146e-01],\n",
       "          [ 6.2360e-01, -1.8282e+00],\n",
       "          [ 6.9527e-02, -1.8082e-01],\n",
       "          [ 5.0629e-01, -4.6363e-02],\n",
       "          [-1.8162e+00,  4.0011e-01],\n",
       "          [-1.5922e+00,  1.3089e+00],\n",
       "          [ 1.3604e+00,  1.6388e+00],\n",
       "          [ 4.4429e-01, -7.3583e-01],\n",
       "          [ 4.1116e-01,  1.2121e+00],\n",
       "          [ 1.8001e+00,  1.3450e-01],\n",
       "          [ 1.4725e+00, -2.0620e-01],\n",
       "          [ 4.4057e-01,  1.9357e-01],\n",
       "          [ 2.5948e-01,  1.4918e+00],\n",
       "          [ 2.2955e+00,  9.5934e-01],\n",
       "          [-7.8524e-01,  1.5038e+00],\n",
       "          [ 8.7400e-01,  3.0152e-01],\n",
       "          [ 1.7930e-01,  8.9442e-02],\n",
       "          [-1.2606e+00, -1.6556e+00],\n",
       "          [ 1.1119e+00,  2.8120e-01],\n",
       "          [-4.1132e-01, -2.9442e-02],\n",
       "          [-1.0616e+00, -8.8664e-02],\n",
       "          [-4.5535e-01,  1.2443e+00],\n",
       "          [ 1.1319e+00,  4.6762e-01],\n",
       "          [-1.2570e-01,  1.1776e+00],\n",
       "          [ 5.4783e-01, -1.0994e-01]],\n",
       "\n",
       "         [[-2.2305e+00, -1.1473e+00],\n",
       "          [ 5.1143e-01,  5.4459e-01],\n",
       "          [-6.6837e-01, -1.5907e+00],\n",
       "          [-2.4483e+00, -4.8423e-02],\n",
       "          [-1.5618e+00,  3.7420e-01],\n",
       "          [-8.7877e-01,  3.7092e-01],\n",
       "          [-3.0088e-01, -8.9410e-01],\n",
       "          [-1.6138e-01, -7.1206e-01],\n",
       "          [ 2.2960e+00,  7.4182e-01],\n",
       "          [-5.2792e-01, -4.2010e-01],\n",
       "          [-3.5787e-01, -1.1868e+00],\n",
       "          [-1.1112e+00, -1.1972e+00],\n",
       "          [-2.2069e-02, -7.3092e-02],\n",
       "          [ 1.0849e+00,  1.9822e+00],\n",
       "          [ 6.0307e-01, -1.2702e+00],\n",
       "          [-5.0131e-01,  1.5846e-01],\n",
       "          [ 4.3117e-01, -1.4748e-02],\n",
       "          [-1.3323e+00, -4.9467e-01],\n",
       "          [ 1.1930e+00,  6.4329e-01],\n",
       "          [-1.2834e+00,  6.9202e-01],\n",
       "          [-4.2051e-01,  1.0385e+00],\n",
       "          [-5.6832e-01,  6.4566e-01],\n",
       "          [-1.0734e+00, -4.4722e-01],\n",
       "          [-1.3983e-02, -7.9937e-01],\n",
       "          [-5.4870e-01, -1.4639e+00],\n",
       "          [ 5.2523e-01, -1.1451e+00],\n",
       "          [ 8.2300e-01, -1.2545e+00],\n",
       "          [-1.2732e-01, -1.1723e+00]],\n",
       "\n",
       "         [[ 2.3040e-01, -2.8840e-01],\n",
       "          [ 1.1839e+00,  1.5034e-01],\n",
       "          [-5.4645e-01, -4.4903e-01],\n",
       "          [-1.5486e+00,  1.9293e+00],\n",
       "          [-8.7395e-03, -1.2513e-01],\n",
       "          [-1.8965e-01,  8.6362e-01],\n",
       "          [ 6.2276e-01,  1.4696e+00],\n",
       "          [-6.0568e-01,  1.6595e+00],\n",
       "          [-4.6744e-01,  9.2340e-02],\n",
       "          [-5.4203e-01,  8.4570e-01],\n",
       "          [-4.3748e-01,  5.9619e-01],\n",
       "          [-9.2543e-01, -2.2309e-03],\n",
       "          [ 7.6671e-01, -2.2844e-01],\n",
       "          [ 2.0604e+00,  2.5643e+00],\n",
       "          [ 4.4198e-01, -1.0528e+00],\n",
       "          [-1.4825e+00, -1.0098e+00],\n",
       "          [ 1.6328e+00, -6.6217e-01],\n",
       "          [-1.7163e+00, -6.5353e-01],\n",
       "          [-2.2061e-01, -6.5880e-01],\n",
       "          [ 1.3578e+00, -3.6157e-01],\n",
       "          [-5.5026e-02,  2.1201e+00],\n",
       "          [ 2.9409e-02, -2.6637e+00],\n",
       "          [ 1.3886e+00, -1.7731e+00],\n",
       "          [-4.4631e-01, -4.0973e-01],\n",
       "          [ 1.8382e-02,  1.2008e+00],\n",
       "          [-1.3904e+00,  1.0740e+00],\n",
       "          [-9.3336e-02,  6.9167e-01],\n",
       "          [ 5.2121e-01, -1.4787e+00]]],\n",
       "\n",
       "\n",
       "        [[[ 1.5651e+00, -5.9873e-01],\n",
       "          [-6.4753e-02,  2.5302e-01],\n",
       "          [ 6.6615e-01, -3.1220e-01],\n",
       "          [-1.6415e-02,  1.4761e+00],\n",
       "          [ 2.4529e+00,  2.2707e-01],\n",
       "          [ 7.3951e-02, -4.5157e-01],\n",
       "          [-5.1900e-01, -6.7239e-01],\n",
       "          [ 8.7701e-01, -3.5080e-01],\n",
       "          [ 8.8505e-01,  3.8834e-01],\n",
       "          [-2.1210e-01,  5.4722e-01],\n",
       "          [ 8.8814e-01,  5.9870e-01],\n",
       "          [-2.0118e+00, -1.4204e-01],\n",
       "          [-2.1066e-01, -3.5594e-01],\n",
       "          [ 1.6865e+00,  3.8567e-01],\n",
       "          [-1.2197e+00, -5.5669e-01],\n",
       "          [ 4.2814e-01,  4.1972e-01],\n",
       "          [-5.5820e-01, -5.1342e-01],\n",
       "          [ 8.2820e-01, -5.4613e-01],\n",
       "          [ 5.0898e-01, -6.0348e-01],\n",
       "          [-7.8236e-01,  1.4716e+00],\n",
       "          [-7.3267e-02, -4.3699e-01],\n",
       "          [ 1.6644e+00, -1.0622e+00],\n",
       "          [ 9.5510e-01,  9.4418e-01],\n",
       "          [-2.6946e-01,  1.1924e+00],\n",
       "          [ 1.8940e+00,  2.6468e-01],\n",
       "          [ 4.4989e-01,  5.7565e-01],\n",
       "          [ 1.0964e+00,  3.4454e-01],\n",
       "          [-1.3922e-01,  1.3624e+00]],\n",
       "\n",
       "         [[ 1.0859e-02, -7.2838e-01],\n",
       "          [-7.6818e-01,  3.7735e-01],\n",
       "          [-1.0771e-02, -1.4635e+00],\n",
       "          [ 1.0929e+00, -9.1000e-01],\n",
       "          [-1.8874e+00, -1.2043e+00],\n",
       "          [ 4.5917e-01, -8.6805e-01],\n",
       "          [-7.0398e-01, -2.4821e+00],\n",
       "          [ 2.4283e-01,  3.3470e-01],\n",
       "          [-2.1585e+00, -6.2242e-01],\n",
       "          [ 1.3417e+00,  6.1422e-01],\n",
       "          [ 1.9757e+00,  1.9199e+00],\n",
       "          [-1.3867e+00,  2.1508e+00],\n",
       "          [ 3.2152e-01,  1.3036e+00],\n",
       "          [-2.3105e+00,  1.4852e+00],\n",
       "          [ 4.5214e-01, -1.1224e+00],\n",
       "          [ 1.3372e+00,  1.4973e+00],\n",
       "          [ 1.5866e-01, -1.5615e-01],\n",
       "          [-2.0700e+00,  7.1778e-02],\n",
       "          [ 2.1763e-01, -1.0877e+00],\n",
       "          [-1.0482e+00, -1.2089e-01],\n",
       "          [-1.7961e+00, -5.7589e-02],\n",
       "          [ 8.0903e-01, -8.2950e-02],\n",
       "          [ 4.8994e-01, -5.7455e-01],\n",
       "          [-2.9474e-01, -1.2567e+00],\n",
       "          [ 2.5401e-02, -6.5104e-01],\n",
       "          [-7.0351e-01,  5.1762e-01],\n",
       "          [-1.8011e-01,  8.7815e-02],\n",
       "          [ 6.4309e-01, -9.9908e-02]],\n",
       "\n",
       "         [[-2.8138e-01,  8.0566e-01],\n",
       "          [ 1.7699e-01, -7.3592e-01],\n",
       "          [ 4.8590e-01,  2.2304e-01],\n",
       "          [-3.5248e-01, -6.6471e-01],\n",
       "          [ 2.3169e-01, -2.2510e+00],\n",
       "          [ 7.6647e-01, -2.0363e+00],\n",
       "          [-1.0364e+00, -1.1254e+00],\n",
       "          [ 6.7566e-01, -5.1548e-02],\n",
       "          [ 1.8317e-01, -3.5784e-01],\n",
       "          [-1.6013e-01,  6.7735e-01],\n",
       "          [-4.9142e-01, -8.2494e-02],\n",
       "          [-1.6532e-01, -3.5504e-01],\n",
       "          [-2.2593e+00, -3.4457e-01],\n",
       "          [ 5.4969e-01, -6.7493e-01],\n",
       "          [-1.3046e+00, -5.7889e-03],\n",
       "          [-1.7322e-01, -1.0385e+00],\n",
       "          [ 8.3248e-01, -8.9226e-01],\n",
       "          [ 4.0128e-01, -9.6185e-01],\n",
       "          [ 4.0149e-01,  1.7120e-01],\n",
       "          [-6.3511e-01, -3.7651e-01],\n",
       "          [ 2.2954e-01,  5.0824e-01],\n",
       "          [ 1.6225e-02,  2.9122e-01],\n",
       "          [-3.3094e-01,  1.4868e+00],\n",
       "          [-1.6693e+00,  2.3830e-01],\n",
       "          [-7.2153e-01,  9.6986e-01],\n",
       "          [ 3.7498e-01,  4.7119e-01],\n",
       "          [-1.9323e-01, -7.0599e-01],\n",
       "          [ 1.5208e+00, -2.2194e+00]]]])"
      ]
     },
     "execution_count": 44,
     "metadata": {},
     "output_type": "execute_result"
    }
   ],
   "source": [
    "a[...,:2]"
   ]
  },
  {
   "cell_type": "markdown",
   "id": "c8725804",
   "metadata": {},
   "source": [
    "### 维度变换"
   ]
  },
  {
   "cell_type": "code",
   "execution_count": 45,
   "id": "765da542",
   "metadata": {},
   "outputs": [],
   "source": [
    "a = torch.rand(4,1,28,28)"
   ]
  },
  {
   "cell_type": "code",
   "execution_count": 46,
   "id": "25f1ecf1",
   "metadata": {},
   "outputs": [
    {
     "data": {
      "text/plain": [
       "torch.Size([4, 1, 28, 28])"
      ]
     },
     "execution_count": 46,
     "metadata": {},
     "output_type": "execute_result"
    }
   ],
   "source": [
    "a.shape"
   ]
  },
  {
   "cell_type": "code",
   "execution_count": 47,
   "id": "493aa610",
   "metadata": {},
   "outputs": [
    {
     "data": {
      "text/plain": [
       "tensor([[[0.4935, 0.2226, 0.3286,  ..., 0.2737, 0.2992, 0.4262],\n",
       "         [0.9434, 0.4619, 0.2957,  ..., 0.8176, 0.5374, 0.4569],\n",
       "         [0.8043, 0.3992, 0.0816,  ..., 0.8751, 0.0816, 0.0536],\n",
       "         ...,\n",
       "         [0.3233, 0.8224, 0.8871,  ..., 0.3483, 0.6961, 0.4038],\n",
       "         [0.5549, 0.0570, 0.0309,  ..., 0.0225, 0.7723, 0.3501],\n",
       "         [0.1800, 0.4454, 0.1376,  ..., 0.4889, 0.8747, 0.2300]],\n",
       "\n",
       "        [[0.3502, 0.5610, 0.6150,  ..., 0.2595, 0.6833, 0.9724],\n",
       "         [0.3586, 0.1363, 0.3612,  ..., 0.0715, 0.3970, 0.3150],\n",
       "         [0.0923, 0.3238, 0.6357,  ..., 0.5082, 0.7965, 0.8191],\n",
       "         ...,\n",
       "         [0.2643, 0.2467, 0.6818,  ..., 0.9765, 0.3690, 0.7218],\n",
       "         [0.5500, 0.3038, 0.0095,  ..., 0.7590, 0.2653, 0.2479],\n",
       "         [0.9041, 0.1138, 0.2300,  ..., 0.2120, 0.9399, 0.8380]],\n",
       "\n",
       "        [[0.8633, 0.4326, 0.4528,  ..., 0.5042, 0.8369, 0.0361],\n",
       "         [0.0398, 0.3672, 0.7177,  ..., 0.8896, 0.0346, 0.5505],\n",
       "         [0.2403, 0.2660, 0.8112,  ..., 0.8340, 0.2271, 0.0856],\n",
       "         ...,\n",
       "         [0.8053, 0.7173, 0.7549,  ..., 0.1841, 0.8739, 0.0878],\n",
       "         [0.5092, 0.2031, 0.2254,  ..., 0.6913, 0.1859, 0.6095],\n",
       "         [0.4617, 0.4340, 0.0428,  ..., 0.9790, 0.4249, 0.5533]],\n",
       "\n",
       "        [[0.3901, 0.7674, 0.2438,  ..., 0.0927, 0.3901, 0.1597],\n",
       "         [0.5540, 0.6488, 0.4189,  ..., 0.8711, 0.6340, 0.1416],\n",
       "         [0.6161, 0.9554, 0.7868,  ..., 0.1883, 0.3404, 0.0624],\n",
       "         ...,\n",
       "         [0.4259, 0.1779, 0.9716,  ..., 0.2099, 0.4968, 0.5139],\n",
       "         [0.2951, 0.0937, 0.9743,  ..., 0.4227, 0.2096, 0.0295],\n",
       "         [0.9123, 0.3104, 0.0021,  ..., 0.4536, 0.7453, 0.5944]]])"
      ]
     },
     "execution_count": 47,
     "metadata": {},
     "output_type": "execute_result"
    }
   ],
   "source": [
    "a.view(4,28,28) #需要有一定的物理意义，否则将会有破坏数据的可能"
   ]
  },
  {
   "cell_type": "code",
   "execution_count": 48,
   "id": "48e1fdfa",
   "metadata": {},
   "outputs": [
    {
     "data": {
      "text/plain": [
       "torch.Size([4, 1, 28, 28])"
      ]
     },
     "execution_count": 48,
     "metadata": {},
     "output_type": "execute_result"
    }
   ],
   "source": [
    "a.shape"
   ]
  },
  {
   "cell_type": "code",
   "execution_count": 49,
   "id": "c7bd0079",
   "metadata": {},
   "outputs": [
    {
     "data": {
      "text/plain": [
       "tensor([[0.4935, 0.2226, 0.3286,  ..., 0.4889, 0.8747, 0.2300],\n",
       "        [0.3502, 0.5610, 0.6150,  ..., 0.2120, 0.9399, 0.8380],\n",
       "        [0.8633, 0.4326, 0.4528,  ..., 0.9790, 0.4249, 0.5533],\n",
       "        [0.3901, 0.7674, 0.2438,  ..., 0.4536, 0.7453, 0.5944]])"
      ]
     },
     "execution_count": 49,
     "metadata": {},
     "output_type": "execute_result"
    }
   ],
   "source": [
    "a.view(4,28*28)"
   ]
  },
  {
   "cell_type": "code",
   "execution_count": 50,
   "id": "6c8d548e",
   "metadata": {},
   "outputs": [],
   "source": [
    "### view与reshape 方法相似，只是结果略有不同，view采用的视图模型，reshape是更改原始数据"
   ]
  },
  {
   "cell_type": "code",
   "execution_count": 51,
   "id": "ec3bda60",
   "metadata": {},
   "outputs": [
    {
     "data": {
      "text/plain": [
       "torch.Size([4, 1, 28, 28])"
      ]
     },
     "execution_count": 51,
     "metadata": {},
     "output_type": "execute_result"
    }
   ],
   "source": [
    " a.shape"
   ]
  },
  {
   "cell_type": "code",
   "execution_count": 52,
   "id": "4fa5ddbf",
   "metadata": {},
   "outputs": [
    {
     "data": {
      "text/plain": [
       "torch.Size([1, 4, 1, 28, 28])"
      ]
     },
     "execution_count": 52,
     "metadata": {},
     "output_type": "execute_result"
    }
   ],
   "source": [
    "a.unsqueeze(0).shape #没有增加数据，只是增加了一个额外的维度"
   ]
  },
  {
   "cell_type": "code",
   "execution_count": 53,
   "id": "3b6fec78",
   "metadata": {},
   "outputs": [
    {
     "data": {
      "text/plain": [
       "torch.Size([4, 1, 28, 28, 1])"
      ]
     },
     "execution_count": 53,
     "metadata": {},
     "output_type": "execute_result"
    }
   ],
   "source": [
    "a.unsqueeze(-1).shape #在最后面增加一个维度"
   ]
  },
  {
   "cell_type": "code",
   "execution_count": 54,
   "id": "ffa2bb1d",
   "metadata": {},
   "outputs": [
    {
     "data": {
      "text/plain": [
       "torch.Size([4, 1, 28, 28, 1])"
      ]
     },
     "execution_count": 54,
     "metadata": {},
     "output_type": "execute_result"
    }
   ],
   "source": [
    "a.unsqueeze(4).shape"
   ]
  },
  {
   "cell_type": "code",
   "execution_count": 55,
   "id": "38daff57",
   "metadata": {},
   "outputs": [
    {
     "data": {
      "text/plain": [
       "torch.Size([4, 1, 28, 28])"
      ]
     },
     "execution_count": 55,
     "metadata": {},
     "output_type": "execute_result"
    }
   ],
   "source": [
    "a.shape #使用squeeze不影响原始数据"
   ]
  },
  {
   "cell_type": "code",
   "execution_count": 56,
   "id": "4ac0b63b",
   "metadata": {},
   "outputs": [],
   "source": [
    "b = torch.randn(1,32,1,1)"
   ]
  },
  {
   "cell_type": "code",
   "execution_count": 57,
   "id": "32a4c4b3",
   "metadata": {},
   "outputs": [
    {
     "data": {
      "text/plain": [
       "torch.Size([1, 32, 1, 1])"
      ]
     },
     "execution_count": 57,
     "metadata": {},
     "output_type": "execute_result"
    }
   ],
   "source": [
    "b.shape"
   ]
  },
  {
   "cell_type": "code",
   "execution_count": 58,
   "id": "2b49db44",
   "metadata": {},
   "outputs": [
    {
     "data": {
      "text/plain": [
       "torch.Size([32])"
      ]
     },
     "execution_count": 58,
     "metadata": {},
     "output_type": "execute_result"
    }
   ],
   "source": [
    "b.squeeze().shape #维度压缩"
   ]
  },
  {
   "cell_type": "code",
   "execution_count": 59,
   "id": "a71c71f6",
   "metadata": {},
   "outputs": [
    {
     "data": {
      "text/plain": [
       "torch.Size([1, 32, 1])"
      ]
     },
     "execution_count": 59,
     "metadata": {},
     "output_type": "execute_result"
    }
   ],
   "source": [
    "b.squeeze(2).shape #将2维数据挤压掉"
   ]
  },
  {
   "cell_type": "code",
   "execution_count": 60,
   "id": "4892c5c1",
   "metadata": {},
   "outputs": [
    {
     "data": {
      "text/plain": [
       "torch.Size([1, 32, 1])"
      ]
     },
     "execution_count": 60,
     "metadata": {},
     "output_type": "execute_result"
    }
   ],
   "source": [
    "b.squeeze(-1).shape #将-1维数据挤压掉"
   ]
  },
  {
   "cell_type": "code",
   "execution_count": 61,
   "id": "f20e4cb8",
   "metadata": {},
   "outputs": [
    {
     "data": {
      "text/plain": [
       "torch.Size([1, 32, 1, 1])"
      ]
     },
     "execution_count": 61,
     "metadata": {},
     "output_type": "execute_result"
    }
   ],
   "source": [
    "b.shape"
   ]
  },
  {
   "cell_type": "code",
   "execution_count": 62,
   "id": "e6ae5a63",
   "metadata": {},
   "outputs": [
    {
     "data": {
      "text/plain": [
       "torch.Size([4, 32, 14, 14])"
      ]
     },
     "execution_count": 62,
     "metadata": {},
     "output_type": "execute_result"
    }
   ],
   "source": [
    "c = torch.randn(4,32,14,14)\n",
    "c.shape"
   ]
  },
  {
   "cell_type": "code",
   "execution_count": 63,
   "id": "e36402d6",
   "metadata": {
    "scrolled": true
   },
   "outputs": [
    {
     "data": {
      "text/plain": [
       "torch.Size([4, 32, 14, 14])"
      ]
     },
     "execution_count": 63,
     "metadata": {},
     "output_type": "execute_result"
    }
   ],
   "source": [
    "b.expand(4,32,14,14).shape #expand是将数据进行拓展，会增加视图中数据"
   ]
  },
  {
   "cell_type": "code",
   "execution_count": 64,
   "id": "c66397f5",
   "metadata": {},
   "outputs": [
    {
     "data": {
      "text/plain": [
       "tensor([[[[ 0.3799,  0.3799,  0.3799,  ...,  0.3799,  0.3799,  0.3799],\n",
       "          [ 0.3799,  0.3799,  0.3799,  ...,  0.3799,  0.3799,  0.3799],\n",
       "          [ 0.3799,  0.3799,  0.3799,  ...,  0.3799,  0.3799,  0.3799],\n",
       "          ...,\n",
       "          [ 0.3799,  0.3799,  0.3799,  ...,  0.3799,  0.3799,  0.3799],\n",
       "          [ 0.3799,  0.3799,  0.3799,  ...,  0.3799,  0.3799,  0.3799],\n",
       "          [ 0.3799,  0.3799,  0.3799,  ...,  0.3799,  0.3799,  0.3799]],\n",
       "\n",
       "         [[-0.8238, -0.8238, -0.8238,  ..., -0.8238, -0.8238, -0.8238],\n",
       "          [-0.8238, -0.8238, -0.8238,  ..., -0.8238, -0.8238, -0.8238],\n",
       "          [-0.8238, -0.8238, -0.8238,  ..., -0.8238, -0.8238, -0.8238],\n",
       "          ...,\n",
       "          [-0.8238, -0.8238, -0.8238,  ..., -0.8238, -0.8238, -0.8238],\n",
       "          [-0.8238, -0.8238, -0.8238,  ..., -0.8238, -0.8238, -0.8238],\n",
       "          [-0.8238, -0.8238, -0.8238,  ..., -0.8238, -0.8238, -0.8238]],\n",
       "\n",
       "         [[ 0.1071,  0.1071,  0.1071,  ...,  0.1071,  0.1071,  0.1071],\n",
       "          [ 0.1071,  0.1071,  0.1071,  ...,  0.1071,  0.1071,  0.1071],\n",
       "          [ 0.1071,  0.1071,  0.1071,  ...,  0.1071,  0.1071,  0.1071],\n",
       "          ...,\n",
       "          [ 0.1071,  0.1071,  0.1071,  ...,  0.1071,  0.1071,  0.1071],\n",
       "          [ 0.1071,  0.1071,  0.1071,  ...,  0.1071,  0.1071,  0.1071],\n",
       "          [ 0.1071,  0.1071,  0.1071,  ...,  0.1071,  0.1071,  0.1071]],\n",
       "\n",
       "         ...,\n",
       "\n",
       "         [[ 0.3323,  0.3323,  0.3323,  ...,  0.3323,  0.3323,  0.3323],\n",
       "          [ 0.3323,  0.3323,  0.3323,  ...,  0.3323,  0.3323,  0.3323],\n",
       "          [ 0.3323,  0.3323,  0.3323,  ...,  0.3323,  0.3323,  0.3323],\n",
       "          ...,\n",
       "          [ 0.3323,  0.3323,  0.3323,  ...,  0.3323,  0.3323,  0.3323],\n",
       "          [ 0.3323,  0.3323,  0.3323,  ...,  0.3323,  0.3323,  0.3323],\n",
       "          [ 0.3323,  0.3323,  0.3323,  ...,  0.3323,  0.3323,  0.3323]],\n",
       "\n",
       "         [[-1.7044, -1.7044, -1.7044,  ..., -1.7044, -1.7044, -1.7044],\n",
       "          [-1.7044, -1.7044, -1.7044,  ..., -1.7044, -1.7044, -1.7044],\n",
       "          [-1.7044, -1.7044, -1.7044,  ..., -1.7044, -1.7044, -1.7044],\n",
       "          ...,\n",
       "          [-1.7044, -1.7044, -1.7044,  ..., -1.7044, -1.7044, -1.7044],\n",
       "          [-1.7044, -1.7044, -1.7044,  ..., -1.7044, -1.7044, -1.7044],\n",
       "          [-1.7044, -1.7044, -1.7044,  ..., -1.7044, -1.7044, -1.7044]],\n",
       "\n",
       "         [[ 3.3026,  3.3026,  3.3026,  ...,  3.3026,  3.3026,  3.3026],\n",
       "          [ 3.3026,  3.3026,  3.3026,  ...,  3.3026,  3.3026,  3.3026],\n",
       "          [ 3.3026,  3.3026,  3.3026,  ...,  3.3026,  3.3026,  3.3026],\n",
       "          ...,\n",
       "          [ 3.3026,  3.3026,  3.3026,  ...,  3.3026,  3.3026,  3.3026],\n",
       "          [ 3.3026,  3.3026,  3.3026,  ...,  3.3026,  3.3026,  3.3026],\n",
       "          [ 3.3026,  3.3026,  3.3026,  ...,  3.3026,  3.3026,  3.3026]]],\n",
       "\n",
       "\n",
       "        [[[ 0.3799,  0.3799,  0.3799,  ...,  0.3799,  0.3799,  0.3799],\n",
       "          [ 0.3799,  0.3799,  0.3799,  ...,  0.3799,  0.3799,  0.3799],\n",
       "          [ 0.3799,  0.3799,  0.3799,  ...,  0.3799,  0.3799,  0.3799],\n",
       "          ...,\n",
       "          [ 0.3799,  0.3799,  0.3799,  ...,  0.3799,  0.3799,  0.3799],\n",
       "          [ 0.3799,  0.3799,  0.3799,  ...,  0.3799,  0.3799,  0.3799],\n",
       "          [ 0.3799,  0.3799,  0.3799,  ...,  0.3799,  0.3799,  0.3799]],\n",
       "\n",
       "         [[-0.8238, -0.8238, -0.8238,  ..., -0.8238, -0.8238, -0.8238],\n",
       "          [-0.8238, -0.8238, -0.8238,  ..., -0.8238, -0.8238, -0.8238],\n",
       "          [-0.8238, -0.8238, -0.8238,  ..., -0.8238, -0.8238, -0.8238],\n",
       "          ...,\n",
       "          [-0.8238, -0.8238, -0.8238,  ..., -0.8238, -0.8238, -0.8238],\n",
       "          [-0.8238, -0.8238, -0.8238,  ..., -0.8238, -0.8238, -0.8238],\n",
       "          [-0.8238, -0.8238, -0.8238,  ..., -0.8238, -0.8238, -0.8238]],\n",
       "\n",
       "         [[ 0.1071,  0.1071,  0.1071,  ...,  0.1071,  0.1071,  0.1071],\n",
       "          [ 0.1071,  0.1071,  0.1071,  ...,  0.1071,  0.1071,  0.1071],\n",
       "          [ 0.1071,  0.1071,  0.1071,  ...,  0.1071,  0.1071,  0.1071],\n",
       "          ...,\n",
       "          [ 0.1071,  0.1071,  0.1071,  ...,  0.1071,  0.1071,  0.1071],\n",
       "          [ 0.1071,  0.1071,  0.1071,  ...,  0.1071,  0.1071,  0.1071],\n",
       "          [ 0.1071,  0.1071,  0.1071,  ...,  0.1071,  0.1071,  0.1071]],\n",
       "\n",
       "         ...,\n",
       "\n",
       "         [[ 0.3323,  0.3323,  0.3323,  ...,  0.3323,  0.3323,  0.3323],\n",
       "          [ 0.3323,  0.3323,  0.3323,  ...,  0.3323,  0.3323,  0.3323],\n",
       "          [ 0.3323,  0.3323,  0.3323,  ...,  0.3323,  0.3323,  0.3323],\n",
       "          ...,\n",
       "          [ 0.3323,  0.3323,  0.3323,  ...,  0.3323,  0.3323,  0.3323],\n",
       "          [ 0.3323,  0.3323,  0.3323,  ...,  0.3323,  0.3323,  0.3323],\n",
       "          [ 0.3323,  0.3323,  0.3323,  ...,  0.3323,  0.3323,  0.3323]],\n",
       "\n",
       "         [[-1.7044, -1.7044, -1.7044,  ..., -1.7044, -1.7044, -1.7044],\n",
       "          [-1.7044, -1.7044, -1.7044,  ..., -1.7044, -1.7044, -1.7044],\n",
       "          [-1.7044, -1.7044, -1.7044,  ..., -1.7044, -1.7044, -1.7044],\n",
       "          ...,\n",
       "          [-1.7044, -1.7044, -1.7044,  ..., -1.7044, -1.7044, -1.7044],\n",
       "          [-1.7044, -1.7044, -1.7044,  ..., -1.7044, -1.7044, -1.7044],\n",
       "          [-1.7044, -1.7044, -1.7044,  ..., -1.7044, -1.7044, -1.7044]],\n",
       "\n",
       "         [[ 3.3026,  3.3026,  3.3026,  ...,  3.3026,  3.3026,  3.3026],\n",
       "          [ 3.3026,  3.3026,  3.3026,  ...,  3.3026,  3.3026,  3.3026],\n",
       "          [ 3.3026,  3.3026,  3.3026,  ...,  3.3026,  3.3026,  3.3026],\n",
       "          ...,\n",
       "          [ 3.3026,  3.3026,  3.3026,  ...,  3.3026,  3.3026,  3.3026],\n",
       "          [ 3.3026,  3.3026,  3.3026,  ...,  3.3026,  3.3026,  3.3026],\n",
       "          [ 3.3026,  3.3026,  3.3026,  ...,  3.3026,  3.3026,  3.3026]]],\n",
       "\n",
       "\n",
       "        [[[ 0.3799,  0.3799,  0.3799,  ...,  0.3799,  0.3799,  0.3799],\n",
       "          [ 0.3799,  0.3799,  0.3799,  ...,  0.3799,  0.3799,  0.3799],\n",
       "          [ 0.3799,  0.3799,  0.3799,  ...,  0.3799,  0.3799,  0.3799],\n",
       "          ...,\n",
       "          [ 0.3799,  0.3799,  0.3799,  ...,  0.3799,  0.3799,  0.3799],\n",
       "          [ 0.3799,  0.3799,  0.3799,  ...,  0.3799,  0.3799,  0.3799],\n",
       "          [ 0.3799,  0.3799,  0.3799,  ...,  0.3799,  0.3799,  0.3799]],\n",
       "\n",
       "         [[-0.8238, -0.8238, -0.8238,  ..., -0.8238, -0.8238, -0.8238],\n",
       "          [-0.8238, -0.8238, -0.8238,  ..., -0.8238, -0.8238, -0.8238],\n",
       "          [-0.8238, -0.8238, -0.8238,  ..., -0.8238, -0.8238, -0.8238],\n",
       "          ...,\n",
       "          [-0.8238, -0.8238, -0.8238,  ..., -0.8238, -0.8238, -0.8238],\n",
       "          [-0.8238, -0.8238, -0.8238,  ..., -0.8238, -0.8238, -0.8238],\n",
       "          [-0.8238, -0.8238, -0.8238,  ..., -0.8238, -0.8238, -0.8238]],\n",
       "\n",
       "         [[ 0.1071,  0.1071,  0.1071,  ...,  0.1071,  0.1071,  0.1071],\n",
       "          [ 0.1071,  0.1071,  0.1071,  ...,  0.1071,  0.1071,  0.1071],\n",
       "          [ 0.1071,  0.1071,  0.1071,  ...,  0.1071,  0.1071,  0.1071],\n",
       "          ...,\n",
       "          [ 0.1071,  0.1071,  0.1071,  ...,  0.1071,  0.1071,  0.1071],\n",
       "          [ 0.1071,  0.1071,  0.1071,  ...,  0.1071,  0.1071,  0.1071],\n",
       "          [ 0.1071,  0.1071,  0.1071,  ...,  0.1071,  0.1071,  0.1071]],\n",
       "\n",
       "         ...,\n",
       "\n",
       "         [[ 0.3323,  0.3323,  0.3323,  ...,  0.3323,  0.3323,  0.3323],\n",
       "          [ 0.3323,  0.3323,  0.3323,  ...,  0.3323,  0.3323,  0.3323],\n",
       "          [ 0.3323,  0.3323,  0.3323,  ...,  0.3323,  0.3323,  0.3323],\n",
       "          ...,\n",
       "          [ 0.3323,  0.3323,  0.3323,  ...,  0.3323,  0.3323,  0.3323],\n",
       "          [ 0.3323,  0.3323,  0.3323,  ...,  0.3323,  0.3323,  0.3323],\n",
       "          [ 0.3323,  0.3323,  0.3323,  ...,  0.3323,  0.3323,  0.3323]],\n",
       "\n",
       "         [[-1.7044, -1.7044, -1.7044,  ..., -1.7044, -1.7044, -1.7044],\n",
       "          [-1.7044, -1.7044, -1.7044,  ..., -1.7044, -1.7044, -1.7044],\n",
       "          [-1.7044, -1.7044, -1.7044,  ..., -1.7044, -1.7044, -1.7044],\n",
       "          ...,\n",
       "          [-1.7044, -1.7044, -1.7044,  ..., -1.7044, -1.7044, -1.7044],\n",
       "          [-1.7044, -1.7044, -1.7044,  ..., -1.7044, -1.7044, -1.7044],\n",
       "          [-1.7044, -1.7044, -1.7044,  ..., -1.7044, -1.7044, -1.7044]],\n",
       "\n",
       "         [[ 3.3026,  3.3026,  3.3026,  ...,  3.3026,  3.3026,  3.3026],\n",
       "          [ 3.3026,  3.3026,  3.3026,  ...,  3.3026,  3.3026,  3.3026],\n",
       "          [ 3.3026,  3.3026,  3.3026,  ...,  3.3026,  3.3026,  3.3026],\n",
       "          ...,\n",
       "          [ 3.3026,  3.3026,  3.3026,  ...,  3.3026,  3.3026,  3.3026],\n",
       "          [ 3.3026,  3.3026,  3.3026,  ...,  3.3026,  3.3026,  3.3026],\n",
       "          [ 3.3026,  3.3026,  3.3026,  ...,  3.3026,  3.3026,  3.3026]]],\n",
       "\n",
       "\n",
       "        [[[ 0.3799,  0.3799,  0.3799,  ...,  0.3799,  0.3799,  0.3799],\n",
       "          [ 0.3799,  0.3799,  0.3799,  ...,  0.3799,  0.3799,  0.3799],\n",
       "          [ 0.3799,  0.3799,  0.3799,  ...,  0.3799,  0.3799,  0.3799],\n",
       "          ...,\n",
       "          [ 0.3799,  0.3799,  0.3799,  ...,  0.3799,  0.3799,  0.3799],\n",
       "          [ 0.3799,  0.3799,  0.3799,  ...,  0.3799,  0.3799,  0.3799],\n",
       "          [ 0.3799,  0.3799,  0.3799,  ...,  0.3799,  0.3799,  0.3799]],\n",
       "\n",
       "         [[-0.8238, -0.8238, -0.8238,  ..., -0.8238, -0.8238, -0.8238],\n",
       "          [-0.8238, -0.8238, -0.8238,  ..., -0.8238, -0.8238, -0.8238],\n",
       "          [-0.8238, -0.8238, -0.8238,  ..., -0.8238, -0.8238, -0.8238],\n",
       "          ...,\n",
       "          [-0.8238, -0.8238, -0.8238,  ..., -0.8238, -0.8238, -0.8238],\n",
       "          [-0.8238, -0.8238, -0.8238,  ..., -0.8238, -0.8238, -0.8238],\n",
       "          [-0.8238, -0.8238, -0.8238,  ..., -0.8238, -0.8238, -0.8238]],\n",
       "\n",
       "         [[ 0.1071,  0.1071,  0.1071,  ...,  0.1071,  0.1071,  0.1071],\n",
       "          [ 0.1071,  0.1071,  0.1071,  ...,  0.1071,  0.1071,  0.1071],\n",
       "          [ 0.1071,  0.1071,  0.1071,  ...,  0.1071,  0.1071,  0.1071],\n",
       "          ...,\n",
       "          [ 0.1071,  0.1071,  0.1071,  ...,  0.1071,  0.1071,  0.1071],\n",
       "          [ 0.1071,  0.1071,  0.1071,  ...,  0.1071,  0.1071,  0.1071],\n",
       "          [ 0.1071,  0.1071,  0.1071,  ...,  0.1071,  0.1071,  0.1071]],\n",
       "\n",
       "         ...,\n",
       "\n",
       "         [[ 0.3323,  0.3323,  0.3323,  ...,  0.3323,  0.3323,  0.3323],\n",
       "          [ 0.3323,  0.3323,  0.3323,  ...,  0.3323,  0.3323,  0.3323],\n",
       "          [ 0.3323,  0.3323,  0.3323,  ...,  0.3323,  0.3323,  0.3323],\n",
       "          ...,\n",
       "          [ 0.3323,  0.3323,  0.3323,  ...,  0.3323,  0.3323,  0.3323],\n",
       "          [ 0.3323,  0.3323,  0.3323,  ...,  0.3323,  0.3323,  0.3323],\n",
       "          [ 0.3323,  0.3323,  0.3323,  ...,  0.3323,  0.3323,  0.3323]],\n",
       "\n",
       "         [[-1.7044, -1.7044, -1.7044,  ..., -1.7044, -1.7044, -1.7044],\n",
       "          [-1.7044, -1.7044, -1.7044,  ..., -1.7044, -1.7044, -1.7044],\n",
       "          [-1.7044, -1.7044, -1.7044,  ..., -1.7044, -1.7044, -1.7044],\n",
       "          ...,\n",
       "          [-1.7044, -1.7044, -1.7044,  ..., -1.7044, -1.7044, -1.7044],\n",
       "          [-1.7044, -1.7044, -1.7044,  ..., -1.7044, -1.7044, -1.7044],\n",
       "          [-1.7044, -1.7044, -1.7044,  ..., -1.7044, -1.7044, -1.7044]],\n",
       "\n",
       "         [[ 3.3026,  3.3026,  3.3026,  ...,  3.3026,  3.3026,  3.3026],\n",
       "          [ 3.3026,  3.3026,  3.3026,  ...,  3.3026,  3.3026,  3.3026],\n",
       "          [ 3.3026,  3.3026,  3.3026,  ...,  3.3026,  3.3026,  3.3026],\n",
       "          ...,\n",
       "          [ 3.3026,  3.3026,  3.3026,  ...,  3.3026,  3.3026,  3.3026],\n",
       "          [ 3.3026,  3.3026,  3.3026,  ...,  3.3026,  3.3026,  3.3026],\n",
       "          [ 3.3026,  3.3026,  3.3026,  ...,  3.3026,  3.3026,  3.3026]]]])"
      ]
     },
     "execution_count": 64,
     "metadata": {},
     "output_type": "execute_result"
    }
   ],
   "source": [
    "b.expand(4,32,14,14) #expand的本质是为了维护格式，而进行的复制"
   ]
  },
  {
   "cell_type": "code",
   "execution_count": 65,
   "id": "5970dc27",
   "metadata": {},
   "outputs": [
    {
     "data": {
      "text/plain": [
       "torch.Size([1, 32, 1, 1])"
      ]
     },
     "execution_count": 65,
     "metadata": {},
     "output_type": "execute_result"
    }
   ],
   "source": [
    "b.shape ##expand不改变原始数据"
   ]
  },
  {
   "cell_type": "code",
   "execution_count": 66,
   "id": "3d4ca4d7",
   "metadata": {},
   "outputs": [],
   "source": [
    "#repeat中的参数含义表示，要拷贝的次数"
   ]
  },
  {
   "cell_type": "code",
   "execution_count": 67,
   "id": "a6e9a8c5",
   "metadata": {},
   "outputs": [
    {
     "data": {
      "text/plain": [
       "torch.Size([4, 1, 28, 28])"
      ]
     },
     "execution_count": 67,
     "metadata": {},
     "output_type": "execute_result"
    }
   ],
   "source": [
    "a.shape"
   ]
  },
  {
   "cell_type": "code",
   "execution_count": 68,
   "id": "a2e1355a",
   "metadata": {},
   "outputs": [
    {
     "data": {
      "text/plain": [
       "torch.Size([4, 32, 28, 28])"
      ]
     },
     "execution_count": 68,
     "metadata": {},
     "output_type": "execute_result"
    }
   ],
   "source": [
    "b.repeat(4,1,28,28).shape #表示分别拷贝4，1，28，28次"
   ]
  },
  {
   "cell_type": "code",
   "execution_count": 69,
   "id": "834830ea",
   "metadata": {},
   "outputs": [
    {
     "data": {
      "text/plain": [
       "torch.Size([1, 32, 1, 1])"
      ]
     },
     "execution_count": 69,
     "metadata": {},
     "output_type": "execute_result"
    }
   ],
   "source": [
    "b.shape"
   ]
  },
  {
   "cell_type": "markdown",
   "id": "1c355cea",
   "metadata": {},
   "source": [
    "### 矩阵的维度变换"
   ]
  },
  {
   "cell_type": "code",
   "execution_count": 70,
   "id": "17306625",
   "metadata": {},
   "outputs": [],
   "source": [
    "a = torch.randn(2,3)"
   ]
  },
  {
   "cell_type": "code",
   "execution_count": 71,
   "id": "a563fde5",
   "metadata": {},
   "outputs": [
    {
     "data": {
      "text/plain": [
       "tensor([[ 2.1880,  1.1789, -0.9798],\n",
       "        [-0.6078,  0.0458, -0.0316]])"
      ]
     },
     "execution_count": 71,
     "metadata": {},
     "output_type": "execute_result"
    }
   ],
   "source": [
    "a"
   ]
  },
  {
   "cell_type": "code",
   "execution_count": 72,
   "id": "3e1a3efe",
   "metadata": {},
   "outputs": [
    {
     "data": {
      "text/plain": [
       "tensor([[ 2.1880, -0.6078],\n",
       "        [ 1.1789,  0.0458],\n",
       "        [-0.9798, -0.0316]])"
      ]
     },
     "execution_count": 72,
     "metadata": {},
     "output_type": "execute_result"
    }
   ],
   "source": [
    "a.t() #进行矩阵的转置"
   ]
  },
  {
   "cell_type": "code",
   "execution_count": 73,
   "id": "a079dc26",
   "metadata": {},
   "outputs": [
    {
     "data": {
      "text/plain": [
       "torch.Size([1, 32, 1, 1])"
      ]
     },
     "execution_count": 73,
     "metadata": {},
     "output_type": "execute_result"
    }
   ],
   "source": [
    "b.shape"
   ]
  },
  {
   "cell_type": "code",
   "execution_count": 74,
   "id": "46274cfc",
   "metadata": {},
   "outputs": [
    {
     "data": {
      "text/plain": [
       "torch.Size([32, 1, 1, 1])"
      ]
     },
     "execution_count": 74,
     "metadata": {},
     "output_type": "execute_result"
    }
   ],
   "source": [
    "b.transpose(0,1).shape #将0维和1维进行了交换"
   ]
  },
  {
   "cell_type": "code",
   "execution_count": 75,
   "id": "a9f2f2e4",
   "metadata": {},
   "outputs": [
    {
     "data": {
      "text/plain": [
       "tensor([[[[ 1.2428e+00, -6.8977e-01,  1.4357e-01,  ...,  7.7714e-01,\n",
       "           -2.4378e-01, -4.6581e-02],\n",
       "          [ 6.9715e-02,  1.0332e+00, -7.3644e-02,  ...,  4.8523e-02,\n",
       "            1.8901e+00, -6.0799e-01],\n",
       "          [ 1.3018e+00, -1.4185e+00,  3.8206e-02,  ..., -7.2030e-01,\n",
       "           -2.0595e+00, -1.8173e-02],\n",
       "          ...,\n",
       "          [ 6.8079e-02,  5.1225e-01,  2.2435e+00,  ...,  9.0596e-01,\n",
       "            1.0887e+00,  4.9078e-01],\n",
       "          [ 1.2340e-01, -1.9684e-01,  4.7750e-01,  ...,  1.4555e+00,\n",
       "            9.0295e-01, -2.2187e-01],\n",
       "          [-1.5276e+00,  1.9610e+00, -1.7404e-01,  ...,  2.6308e-01,\n",
       "           -4.9335e-02, -2.7719e-01]],\n",
       "\n",
       "         [[-7.9956e-01,  2.4296e+00, -1.7269e+00,  ..., -2.9068e-01,\n",
       "           -1.9760e-01,  6.4724e-01],\n",
       "          [-6.8078e-01,  2.9908e-01,  1.0704e+00,  ..., -2.3840e-01,\n",
       "           -3.8186e-01, -2.7434e-01],\n",
       "          [ 1.1697e+00,  1.6712e+00,  3.6211e-01,  ..., -1.2918e+00,\n",
       "            1.5790e-01,  1.1746e+00],\n",
       "          ...,\n",
       "          [-7.3721e-02,  1.9238e+00,  1.8596e-01,  ..., -4.2702e-01,\n",
       "           -1.7128e+00,  4.4204e-01],\n",
       "          [-1.9046e+00, -4.9239e-01, -4.5556e-01,  ...,  1.1375e+00,\n",
       "           -4.1093e-01,  6.8861e-01],\n",
       "          [ 3.3375e+00, -8.4408e-01,  1.0532e+00,  ..., -1.0884e+00,\n",
       "           -1.0605e+00, -9.5090e-01]],\n",
       "\n",
       "         [[-7.3068e-01, -2.1240e-01,  1.5144e+00,  ...,  2.1267e-01,\n",
       "            4.4045e-01,  5.7864e-01],\n",
       "          [-6.0143e-01,  1.0833e+00,  5.2924e-01,  ..., -9.2295e-01,\n",
       "           -2.5374e-01,  1.3027e+00],\n",
       "          [ 2.9225e-01,  1.2016e+00, -3.3836e-01,  ..., -1.4240e+00,\n",
       "           -1.0818e+00,  4.2273e-02],\n",
       "          ...,\n",
       "          [ 9.3061e-01, -1.3142e+00, -5.8449e-01,  ..., -7.6814e-01,\n",
       "            2.0549e-01,  6.9524e-02],\n",
       "          [ 1.8351e-01,  5.9050e-01, -2.0140e+00,  ...,  4.8244e-01,\n",
       "            1.0635e+00, -1.5784e+00],\n",
       "          [-1.4839e+00,  1.3422e+00,  2.2222e+00,  ...,  3.0461e-01,\n",
       "            1.0508e+00, -6.1782e-01]],\n",
       "\n",
       "         ...,\n",
       "\n",
       "         [[ 5.1165e-02, -3.4845e-02, -9.0191e-01,  ...,  4.9951e-01,\n",
       "            3.4554e-01, -1.0001e+00],\n",
       "          [-1.2959e+00,  1.1750e-01, -1.9259e+00,  ...,  2.5410e+00,\n",
       "           -1.5300e+00,  5.6244e-01],\n",
       "          [ 7.6267e-01,  4.7212e-01, -4.6957e-01,  ...,  5.1959e-01,\n",
       "            1.8565e-01, -2.0205e-01],\n",
       "          ...,\n",
       "          [ 8.8602e-01, -1.6314e+00, -2.1477e-01,  ..., -9.4084e-01,\n",
       "            8.5546e-01, -1.0539e+00],\n",
       "          [-5.3640e-02,  1.4910e+00,  5.9201e-01,  ..., -3.1019e-02,\n",
       "            1.7108e-01, -3.0191e+00],\n",
       "          [-7.4950e-01, -1.9059e+00,  1.0151e+00,  ..., -4.3820e-01,\n",
       "            6.9972e-01, -6.8430e-01]],\n",
       "\n",
       "         [[-1.2878e+00,  5.5965e-01,  5.1436e-02,  ...,  1.8721e+00,\n",
       "            5.3505e-01,  1.2267e+00],\n",
       "          [-2.5117e-01,  1.2272e+00, -3.6497e-01,  ...,  8.4270e-01,\n",
       "           -7.8981e-01, -6.0930e-03],\n",
       "          [ 1.5193e+00, -8.1154e-01, -5.2240e-01,  ..., -2.1307e+00,\n",
       "            5.4196e-01,  3.6929e-01],\n",
       "          ...,\n",
       "          [ 1.0355e+00, -9.5722e-01,  7.6422e-01,  ...,  2.0414e+00,\n",
       "            3.8866e-01, -4.6210e-01],\n",
       "          [ 5.4750e-01, -4.2122e-01, -1.3874e+00,  ...,  8.3889e-01,\n",
       "           -4.5338e-01, -7.2526e-02],\n",
       "          [ 8.4060e-01,  6.5481e-01, -7.1830e-02,  ..., -6.7327e-01,\n",
       "            2.3599e-01, -1.2608e+00]],\n",
       "\n",
       "         [[-1.4985e-01, -1.8132e+00,  2.0658e-01,  ..., -7.7060e-01,\n",
       "           -1.3523e+00, -1.6393e+00],\n",
       "          [ 1.0256e-01,  4.2474e-01,  1.1631e+00,  ...,  9.4338e-02,\n",
       "           -2.9994e-01, -5.9629e-01],\n",
       "          [ 1.0358e-01, -5.0893e-01,  1.0952e+00,  ..., -2.4226e-01,\n",
       "           -3.1042e-02,  7.8394e-01],\n",
       "          ...,\n",
       "          [ 2.7516e-01, -7.2763e-01, -8.9291e-01,  ..., -1.1965e-01,\n",
       "           -7.0512e-01,  7.6299e-01],\n",
       "          [ 1.1428e+00,  8.8647e-01, -7.3378e-01,  ...,  7.4328e-01,\n",
       "            1.2434e+00,  5.6837e-01],\n",
       "          [-7.5110e-01, -7.0453e-01, -2.1461e+00,  ..., -1.3998e+00,\n",
       "           -1.7325e-03, -4.6005e-01]]],\n",
       "\n",
       "\n",
       "        [[[ 1.8720e+00,  9.3688e-01,  7.8962e-01,  ...,  5.4019e-01,\n",
       "           -1.6586e+00,  1.3260e+00],\n",
       "          [ 6.4641e-01,  5.1811e-02, -1.3870e+00,  ...,  8.4547e-01,\n",
       "           -5.6874e-01,  2.7704e+00],\n",
       "          [ 3.9434e-01, -2.3966e+00, -9.4236e-01,  ...,  3.4531e-01,\n",
       "            1.5172e+00,  3.7322e-01],\n",
       "          ...,\n",
       "          [-2.1114e-01, -1.6136e+00, -1.2977e+00,  ..., -4.6464e-01,\n",
       "           -1.0768e+00, -7.3641e-01],\n",
       "          [-1.2326e+00,  2.9017e-01, -1.2758e+00,  ..., -1.3648e+00,\n",
       "            1.6504e-01, -8.1456e-01],\n",
       "          [ 4.4449e-02,  2.2559e+00,  2.8045e-02,  ..., -1.4374e-01,\n",
       "           -5.8381e-01,  1.0375e-01]],\n",
       "\n",
       "         [[ 1.6140e+00,  6.9688e-01,  2.4049e+00,  ..., -8.4748e-01,\n",
       "           -2.1490e+00, -4.5861e-01],\n",
       "          [ 1.1511e+00, -1.8766e-01, -1.0679e+00,  ...,  1.4050e+00,\n",
       "           -1.2892e+00,  1.5035e+00],\n",
       "          [ 4.5950e-01,  2.6199e-01, -4.1246e-01,  ...,  9.2810e-01,\n",
       "            3.9044e-01, -6.5239e-02],\n",
       "          ...,\n",
       "          [ 1.0174e+00,  1.8049e+00, -1.8945e+00,  ..., -1.3530e+00,\n",
       "           -5.8108e-01, -1.8658e-01],\n",
       "          [ 9.2527e-03, -7.2082e-01, -8.8386e-01,  ...,  6.1765e-01,\n",
       "           -1.4198e+00, -1.4455e+00],\n",
       "          [ 3.9599e-01, -1.5817e-01,  9.7258e-01,  ...,  1.0257e-01,\n",
       "           -4.7504e-01,  7.2344e-01]],\n",
       "\n",
       "         [[-1.1328e+00, -8.8273e-01,  1.4354e+00,  ..., -3.0494e-01,\n",
       "            7.9704e-01, -3.4221e-01],\n",
       "          [-9.9758e-01,  6.1431e-02,  1.0947e-01,  ..., -4.5670e-01,\n",
       "            5.4097e-02,  8.2833e-01],\n",
       "          [ 1.5272e+00, -6.9983e-02, -7.8396e-01,  ..., -4.9675e-01,\n",
       "            2.5241e-01, -1.6002e-01],\n",
       "          ...,\n",
       "          [ 1.8251e+00,  8.3989e-02,  2.2754e-01,  ..., -5.8836e-01,\n",
       "            5.7860e-01,  3.8159e-02],\n",
       "          [-4.9475e-01, -5.7458e-02,  1.3534e+00,  ...,  5.9714e-01,\n",
       "           -3.0339e-01,  7.3189e-02],\n",
       "          [ 2.4309e+00,  9.7801e-01,  1.1973e+00,  ...,  6.0528e-01,\n",
       "           -2.4287e-01,  1.8713e-01]],\n",
       "\n",
       "         ...,\n",
       "\n",
       "         [[-1.1433e+00, -2.4230e-01, -2.0115e+00,  ..., -2.5247e+00,\n",
       "           -3.1844e-01,  1.1876e+00],\n",
       "          [ 5.9433e-01, -1.2919e+00,  1.9112e+00,  ...,  8.3353e-01,\n",
       "           -6.1880e-01, -8.6810e-01],\n",
       "          [ 3.9633e-01, -5.4674e-01,  3.5619e-01,  ..., -1.0856e+00,\n",
       "           -3.4479e-01,  9.9806e-01],\n",
       "          ...,\n",
       "          [ 1.3806e-01,  6.3240e-01, -2.4824e+00,  ..., -3.4201e-01,\n",
       "            7.0499e-01, -2.5206e-01],\n",
       "          [ 6.5994e-02,  1.3220e+00, -7.6826e-02,  ...,  9.8728e-01,\n",
       "           -5.0111e-01, -2.3052e+00],\n",
       "          [-1.5656e+00, -1.5049e+00,  6.8793e-01,  ...,  9.5362e-01,\n",
       "            9.4488e-01,  6.7655e-01]],\n",
       "\n",
       "         [[ 2.2388e-01,  9.3549e-01,  6.1058e-01,  ..., -2.6373e+00,\n",
       "           -5.2664e-01,  1.3766e+00],\n",
       "          [ 1.3934e+00,  4.4169e-01, -1.7959e+00,  ...,  2.4986e-01,\n",
       "           -3.3535e-01,  2.4893e-01],\n",
       "          [-2.0642e-01,  6.7448e-01,  5.6425e-01,  ...,  2.1203e-01,\n",
       "            9.2093e-01,  8.2650e-02],\n",
       "          ...,\n",
       "          [-1.0764e-01,  2.0791e+00,  1.5584e+00,  ...,  5.9176e-01,\n",
       "           -5.4816e-01,  1.6114e+00],\n",
       "          [-1.0977e-01, -3.6440e-01, -1.6309e+00,  ...,  4.5886e-02,\n",
       "           -1.2167e-01, -2.2115e-01],\n",
       "          [ 7.1268e-01, -7.6028e-01,  1.6512e-01,  ..., -4.1097e-01,\n",
       "            3.5636e-01,  2.2387e+00]],\n",
       "\n",
       "         [[ 3.0371e+00, -1.5297e-01,  7.5403e-01,  ...,  6.7271e-01,\n",
       "           -8.7826e-01,  7.7616e-01],\n",
       "          [-7.7408e-01, -1.1520e+00,  9.0584e-01,  ...,  1.6058e+00,\n",
       "            1.6268e-01, -4.3342e-01],\n",
       "          [-1.3473e-01, -3.4134e-01,  1.6281e+00,  ..., -4.2484e-01,\n",
       "           -2.2291e-01,  1.4912e+00],\n",
       "          ...,\n",
       "          [-1.2443e+00, -5.9400e-01, -4.2593e-01,  ..., -9.0272e-02,\n",
       "           -1.4505e+00, -1.4129e+00],\n",
       "          [-1.4522e+00,  1.8467e+00,  2.7566e-01,  ..., -8.3204e-01,\n",
       "           -3.6816e-01,  4.6384e-01],\n",
       "          [ 1.9830e-02, -1.0455e+00, -2.1713e-01,  ...,  5.1374e-01,\n",
       "            7.1893e-01,  2.5339e-01]]],\n",
       "\n",
       "\n",
       "        [[[-1.8762e-01,  2.8018e-01,  1.4315e-01,  ...,  1.7130e+00,\n",
       "           -7.1719e-01, -4.5462e-01],\n",
       "          [ 1.3951e+00, -8.1032e-01, -1.5037e+00,  ...,  1.3057e-01,\n",
       "            7.2091e-01,  8.3119e-01],\n",
       "          [-8.7394e-01, -1.2512e+00,  7.9207e-01,  ..., -2.2421e-01,\n",
       "           -2.9073e-01, -7.2344e-01],\n",
       "          ...,\n",
       "          [-1.1768e+00,  7.7781e-01,  8.5118e-01,  ...,  1.0552e+00,\n",
       "            6.5498e-01,  3.6739e-01],\n",
       "          [ 4.4103e-01, -5.7434e-01, -2.7319e+00,  ..., -6.4524e-01,\n",
       "           -7.6669e-02, -1.0585e+00],\n",
       "          [-5.4910e-01, -1.4744e+00, -1.2787e-01,  ..., -3.6407e-01,\n",
       "           -1.8423e+00, -2.6108e-02]],\n",
       "\n",
       "         [[ 2.5713e-01,  6.4791e-02,  1.1535e+00,  ..., -3.7199e-01,\n",
       "           -8.1484e-01, -1.4124e+00],\n",
       "          [-6.4491e-01, -1.7546e-01, -7.5832e-01,  ..., -7.0346e-01,\n",
       "           -2.0384e-01, -1.1111e+00],\n",
       "          [-4.7414e-01,  6.1495e-01, -3.6667e-01,  ..., -5.6812e-01,\n",
       "            1.1739e+00,  1.9294e+00],\n",
       "          ...,\n",
       "          [-8.8073e-01,  4.7416e-01, -1.2875e+00,  ..., -7.4533e-01,\n",
       "           -9.6552e-01, -1.0164e+00],\n",
       "          [-3.2673e-01,  9.4620e-01, -1.1777e+00,  ...,  1.3042e+00,\n",
       "           -5.1425e-01,  7.4938e-01],\n",
       "          [-1.0420e-01,  2.5469e-01, -4.7589e-01,  ..., -4.1262e-01,\n",
       "           -5.3813e-02, -1.6585e-01]],\n",
       "\n",
       "         [[ 1.6803e+00,  1.4052e+00, -7.0993e-01,  ...,  3.9083e+00,\n",
       "            1.4214e+00,  6.7509e-01],\n",
       "          [ 1.0985e+00,  6.2280e-01, -9.2443e-01,  ...,  8.9479e-01,\n",
       "            8.3771e-01, -1.1560e+00],\n",
       "          [ 6.4190e-01,  1.5371e+00, -1.7953e-01,  ..., -4.8211e-01,\n",
       "           -1.0335e+00,  1.0302e+00],\n",
       "          ...,\n",
       "          [ 8.2823e-01, -4.7991e-01, -3.9912e-01,  ...,  7.7818e-01,\n",
       "           -2.3465e-02, -7.4011e-01],\n",
       "          [-8.5193e-01,  1.8743e+00, -5.0761e-01,  ...,  3.9821e-01,\n",
       "           -2.1299e-01, -8.4420e-01],\n",
       "          [-4.4375e-01, -1.2698e-01,  2.5474e+00,  ...,  9.8159e-01,\n",
       "            2.8948e-01,  9.6629e-01]],\n",
       "\n",
       "         ...,\n",
       "\n",
       "         [[ 9.6215e-02,  8.6776e-01, -5.2389e-01,  ...,  4.3409e-01,\n",
       "            1.0022e-01, -1.1705e+00],\n",
       "          [-7.5609e-01, -2.9392e-01, -7.1223e-01,  ...,  3.0841e-01,\n",
       "           -2.6538e-01, -3.1053e-01],\n",
       "          [-7.6579e-01,  8.3792e-02,  2.9189e-01,  ..., -1.4389e-01,\n",
       "            1.0258e+00,  8.4410e-01],\n",
       "          ...,\n",
       "          [-4.0971e-01,  3.6948e-01,  1.4559e+00,  ..., -2.5219e-01,\n",
       "           -1.0588e-02, -1.0625e+00],\n",
       "          [ 8.9857e-01,  8.2932e-01,  4.4392e-01,  ..., -2.7264e-01,\n",
       "            3.2216e-01, -7.7043e-01],\n",
       "          [ 3.5614e-01,  1.8534e+00,  6.1052e-01,  ..., -5.4513e-01,\n",
       "           -1.4711e+00,  1.0706e+00]],\n",
       "\n",
       "         [[-3.0576e-02,  4.2605e-01, -6.9111e-01,  ...,  6.8346e-03,\n",
       "           -3.6671e-01,  1.4764e+00],\n",
       "          [-2.4082e-01, -2.3753e-01, -4.3654e-01,  ...,  1.2186e+00,\n",
       "           -2.8403e-01, -1.4738e+00],\n",
       "          [ 4.5151e-01,  5.0346e-01, -8.8968e-01,  ...,  2.0138e+00,\n",
       "           -8.0831e-01,  6.5644e-01],\n",
       "          ...,\n",
       "          [ 2.8426e-02,  1.5235e+00,  1.4679e+00,  ...,  6.9388e-01,\n",
       "           -8.6451e-01, -4.1188e-01],\n",
       "          [-1.2562e-01,  4.0023e-01,  1.9157e+00,  ...,  2.6258e-01,\n",
       "            1.0571e+00, -4.9632e-01],\n",
       "          [ 1.1884e+00, -7.4098e-01,  1.0577e+00,  ...,  6.1502e-02,\n",
       "           -1.0533e-01, -2.3999e-01]],\n",
       "\n",
       "         [[ 5.9621e-01, -3.9951e-01,  1.1334e-01,  ..., -7.3537e-01,\n",
       "           -3.0178e+00,  1.5419e-01],\n",
       "          [ 1.7764e+00, -4.7272e-01, -3.0856e-01,  ..., -1.4047e+00,\n",
       "           -7.9869e-01,  1.3085e+00],\n",
       "          [-4.4956e-01,  1.2849e-01,  8.9770e-01,  ...,  5.8821e-01,\n",
       "            5.2259e-01, -6.6760e-01],\n",
       "          ...,\n",
       "          [-1.6862e+00,  1.2685e+00,  8.2412e-01,  ...,  1.3719e+00,\n",
       "           -8.5382e-01,  6.5955e-01],\n",
       "          [ 1.8706e+00,  1.3064e+00, -7.4601e-01,  ..., -1.2156e+00,\n",
       "           -2.5732e+00,  1.0258e+00],\n",
       "          [ 2.1837e+00,  1.7775e+00, -7.2947e-01,  ..., -1.5352e+00,\n",
       "           -6.8472e-01,  1.0319e+00]]],\n",
       "\n",
       "\n",
       "        [[[ 7.1742e-01, -1.1567e+00, -1.1519e+00,  ..., -1.3777e+00,\n",
       "           -4.5456e-01, -6.8135e-01],\n",
       "          [ 1.0686e+00, -5.9285e-01,  3.7017e-01,  ..., -5.7793e-01,\n",
       "            2.9232e-02,  9.2040e-01],\n",
       "          [ 1.3866e-01,  2.0951e+00,  1.1756e-01,  ..., -1.0561e+00,\n",
       "           -8.0763e-01, -1.6254e+00],\n",
       "          ...,\n",
       "          [-5.9592e-01, -9.2677e-01,  1.2047e+00,  ...,  1.0289e+00,\n",
       "           -9.4044e-01,  1.0062e-01],\n",
       "          [ 3.5362e-01,  1.5149e+00, -8.5064e-01,  ...,  4.8947e-01,\n",
       "            1.0536e-01,  7.1434e-01],\n",
       "          [-7.3422e-02, -3.9302e-01,  2.0566e-01,  ...,  8.5481e-01,\n",
       "            1.7611e+00,  7.2991e-02]],\n",
       "\n",
       "         [[-1.9255e+00, -1.3998e+00, -1.0843e+00,  ..., -2.5664e+00,\n",
       "            8.3605e-03,  7.7464e-01],\n",
       "          [ 1.1628e+00, -1.5294e+00,  1.8973e+00,  ..., -9.0226e-01,\n",
       "           -1.7056e+00,  5.5436e-01],\n",
       "          [-1.1400e-01,  1.5242e+00, -2.0075e-01,  ..., -1.8300e+00,\n",
       "           -5.7190e-01,  9.0452e-02],\n",
       "          ...,\n",
       "          [ 6.9762e-01,  4.8620e-01,  4.8484e-02,  ..., -7.9048e-01,\n",
       "           -4.8386e-01,  7.4185e-01],\n",
       "          [ 2.8107e-01,  3.8581e-01, -2.2913e-01,  ..., -3.3001e-01,\n",
       "            3.6373e-01,  7.9722e-01],\n",
       "          [ 3.5575e-01, -2.1839e-01, -1.6731e-01,  ..., -8.8384e-02,\n",
       "            3.1777e-01, -1.2364e-01]],\n",
       "\n",
       "         [[ 9.6975e-01, -1.1715e+00,  7.9556e-01,  ...,  3.8438e-01,\n",
       "           -2.7064e-01, -1.0596e+00],\n",
       "          [ 2.9537e-02,  5.5651e-01, -9.0379e-01,  ..., -2.0345e-01,\n",
       "           -2.3913e+00,  8.9307e-01],\n",
       "          [ 6.4779e-01, -2.1641e+00,  4.5698e-01,  ..., -1.1487e+00,\n",
       "           -3.2522e+00,  5.9224e-02],\n",
       "          ...,\n",
       "          [ 1.7452e+00,  2.0221e-01, -4.5638e-01,  ..., -6.3029e-01,\n",
       "            1.0817e+00,  5.9056e-01],\n",
       "          [-1.2346e-01,  8.1021e-01,  4.0319e-01,  ...,  2.0334e-01,\n",
       "            7.3847e-01,  1.3732e+00],\n",
       "          [-1.4004e+00, -2.9616e+00,  9.5651e-02,  ...,  1.3205e+00,\n",
       "           -1.6168e-01,  4.1755e-01]],\n",
       "\n",
       "         ...,\n",
       "\n",
       "         [[ 3.3825e-01, -2.1847e-01,  1.6825e-01,  ...,  6.3527e-02,\n",
       "            2.3579e-01, -2.3350e+00],\n",
       "          [ 1.0549e+00, -1.3015e+00,  5.7756e-01,  ...,  1.2559e+00,\n",
       "            4.3699e-01, -7.4701e-01],\n",
       "          [-1.2447e+00, -1.0707e-01, -1.5269e+00,  ..., -8.6457e-01,\n",
       "           -3.6097e-01,  8.8911e-01],\n",
       "          ...,\n",
       "          [ 8.0635e-01, -1.2399e+00,  1.8364e+00,  ...,  1.8510e-01,\n",
       "            1.7128e+00, -1.9512e+00],\n",
       "          [ 9.1280e-01,  1.8555e+00, -9.0586e-02,  ..., -1.1434e+00,\n",
       "            6.0417e-01, -2.3229e+00],\n",
       "          [ 5.8340e-01,  4.4145e-01, -2.7792e-02,  ..., -1.5991e+00,\n",
       "            6.2515e-01, -8.7780e-01]],\n",
       "\n",
       "         [[ 9.1935e-02,  1.0853e+00,  2.6634e-01,  ...,  1.1979e-01,\n",
       "           -3.1279e-02, -1.0570e+00],\n",
       "          [ 1.5886e+00, -2.2018e+00, -3.2421e-01,  ...,  5.6711e-01,\n",
       "           -3.3294e-01, -9.7666e-01],\n",
       "          [ 4.0017e-01, -1.1951e+00,  1.6418e-01,  ..., -1.1820e-01,\n",
       "           -3.8947e-01, -2.3868e-01],\n",
       "          ...,\n",
       "          [-1.1985e+00,  3.2116e-01,  1.3477e+00,  ...,  4.6457e-01,\n",
       "            8.8493e-01,  1.0439e+00],\n",
       "          [ 9.4921e-01, -6.9238e-01, -1.2253e+00,  ..., -3.7844e-01,\n",
       "            1.6369e-01, -7.7401e-01],\n",
       "          [ 2.1335e-01,  1.0656e+00, -1.5216e+00,  ..., -2.9644e-01,\n",
       "            6.8945e-01,  1.8244e+00]],\n",
       "\n",
       "         [[ 1.6713e+00,  2.0908e-01, -3.8925e-01,  ...,  1.4412e-01,\n",
       "           -5.4035e-02, -4.9198e-01],\n",
       "          [ 1.6343e+00,  2.9251e-01,  1.1276e-01,  ...,  3.9407e-01,\n",
       "            1.0597e+00, -1.2172e+00],\n",
       "          [ 9.5852e-01, -8.2693e-01, -1.6979e+00,  ...,  2.1089e+00,\n",
       "            9.1437e-01,  2.6027e-01],\n",
       "          ...,\n",
       "          [-9.8265e-01,  2.3321e-02,  5.3740e-01,  ..., -7.1851e-01,\n",
       "           -2.8762e-01,  1.2167e+00],\n",
       "          [-3.2686e-01, -2.4365e-01,  8.5006e-01,  ...,  2.0393e+00,\n",
       "            3.3921e-01,  4.9331e-01],\n",
       "          [ 8.0777e-01,  2.0664e+00, -5.2324e-01,  ..., -2.1819e-01,\n",
       "           -3.2033e-01,  1.0086e+00]]]])"
      ]
     },
     "execution_count": 75,
     "metadata": {},
     "output_type": "execute_result"
    }
   ],
   "source": [
    "c"
   ]
  },
  {
   "cell_type": "code",
   "execution_count": 78,
   "id": "64a768a1",
   "metadata": {},
   "outputs": [
    {
     "data": {
      "text/plain": [
       "torch.Size([4, 3, 32, 32])"
      ]
     },
     "execution_count": 78,
     "metadata": {},
     "output_type": "execute_result"
    }
   ],
   "source": [
    "a = torch.randn(4,3,32,32)\n",
    "a.shape"
   ]
  },
  {
   "cell_type": "code",
   "execution_count": 87,
   "id": "73339c98",
   "metadata": {},
   "outputs": [
    {
     "data": {
      "text/plain": [
       "torch.Size([4, 32, 32, 3])"
      ]
     },
     "execution_count": 87,
     "metadata": {},
     "output_type": "execute_result"
    }
   ],
   "source": [
    "a.transpose(1,3).contiguous().view(4,3*32*32).view(4,3,32,32).transpose(1,3).shape"
   ]
  },
  {
   "cell_type": "code",
   "execution_count": 90,
   "id": "1fddd9d9",
   "metadata": {},
   "outputs": [
    {
     "data": {
      "text/plain": [
       "torch.Size([4, 32, 32, 3])"
      ]
     },
     "execution_count": 90,
     "metadata": {},
     "output_type": "execute_result"
    }
   ],
   "source": [
    "a.transpose(1,3).shape"
   ]
  },
  {
   "cell_type": "code",
   "execution_count": 91,
   "id": "3c7df33e",
   "metadata": {},
   "outputs": [
    {
     "data": {
      "text/plain": [
       "torch.Size([4, 3, 28, 32])"
      ]
     },
     "execution_count": 91,
     "metadata": {},
     "output_type": "execute_result"
    }
   ],
   "source": [
    "b = torch.rand(4,3,28,32)\n",
    "b.shape"
   ]
  },
  {
   "cell_type": "code",
   "execution_count": 92,
   "id": "c1b927d0",
   "metadata": {},
   "outputs": [
    {
     "data": {
      "text/plain": [
       "torch.Size([4, 28, 32, 3])"
      ]
     },
     "execution_count": 92,
     "metadata": {},
     "output_type": "execute_result"
    }
   ],
   "source": [
    "b.transpose(1,3).transpose(1,2).shape"
   ]
  },
  {
   "cell_type": "code",
   "execution_count": 96,
   "id": "d27b3cee",
   "metadata": {},
   "outputs": [
    {
     "data": {
      "text/plain": [
       "torch.Size([4, 28, 32, 3])"
      ]
     },
     "execution_count": 96,
     "metadata": {},
     "output_type": "execute_result"
    }
   ],
   "source": [
    "b.permute(0,2,3,1).shape #permute可以实现快速变换"
   ]
  },
  {
   "cell_type": "code",
   "execution_count": null,
   "id": "45542e00",
   "metadata": {},
   "outputs": [],
   "source": []
  }
 ],
 "metadata": {
  "kernelspec": {
   "display_name": "Python 3 (ipykernel)",
   "language": "python",
   "name": "python3"
  },
  "language_info": {
   "codemirror_mode": {
    "name": "ipython",
    "version": 3
   },
   "file_extension": ".py",
   "mimetype": "text/x-python",
   "name": "python",
   "nbconvert_exporter": "python",
   "pygments_lexer": "ipython3",
   "version": "3.9.7"
  },
  "toc": {
   "base_numbering": 1,
   "nav_menu": {},
   "number_sections": true,
   "sideBar": true,
   "skip_h1_title": false,
   "title_cell": "Table of Contents",
   "title_sidebar": "Contents",
   "toc_cell": false,
   "toc_position": {},
   "toc_section_display": true,
   "toc_window_display": false
  }
 },
 "nbformat": 4,
 "nbformat_minor": 5
}
