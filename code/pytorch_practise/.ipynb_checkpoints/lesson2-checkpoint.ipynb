{
 "cells": [
  {
   "cell_type": "code",
   "execution_count": 1,
   "id": "433cdfa0",
   "metadata": {},
   "outputs": [],
   "source": [
    "import torch"
   ]
  },
  {
   "cell_type": "markdown",
   "id": "d51d874e",
   "metadata": {},
   "source": [
    "## 广播"
   ]
  },
  {
   "cell_type": "code",
   "execution_count": 2,
   "id": "7bd698f4",
   "metadata": {},
   "outputs": [
    {
     "data": {
      "text/plain": [
       "torch.Size([4, 32, 14, 14])"
      ]
     },
     "execution_count": 2,
     "metadata": {},
     "output_type": "execute_result"
    }
   ],
   "source": [
    "a  = torch.randn(4,32,14,14)\n",
    "a.shape"
   ]
  },
  {
   "cell_type": "code",
   "execution_count": 3,
   "id": "faff49e5",
   "metadata": {},
   "outputs": [],
   "source": [
    "b = torch.randn(32,1,1)"
   ]
  },
  {
   "cell_type": "code",
   "execution_count": 4,
   "id": "07e7f171",
   "metadata": {},
   "outputs": [
    {
     "data": {
      "text/plain": [
       "torch.Size([4, 32, 14, 14])"
      ]
     },
     "execution_count": 4,
     "metadata": {},
     "output_type": "execute_result"
    }
   ],
   "source": [
    "c = a+b\n",
    "c.shape"
   ]
  },
  {
   "cell_type": "code",
   "execution_count": 5,
   "id": "07f3dbc2",
   "metadata": {},
   "outputs": [
    {
     "data": {
      "text/plain": [
       "torch.Size([3, 4])"
      ]
     },
     "execution_count": 5,
     "metadata": {},
     "output_type": "execute_result"
    }
   ],
   "source": [
    "m = torch.randn(3,4)\n",
    "n = torch.randn(3,4)\n",
    "s = m+n\n",
    "s.shape"
   ]
  },
  {
   "cell_type": "code",
   "execution_count": 6,
   "id": "c3922e26",
   "metadata": {},
   "outputs": [
    {
     "data": {
      "text/plain": [
       "torch.Size([3, 4])"
      ]
     },
     "execution_count": 6,
     "metadata": {},
     "output_type": "execute_result"
    }
   ],
   "source": [
    "m = torch.randn(3,4)\n",
    "n = torch.randn(1,4)\n",
    "s = m+n\n",
    "s.shape"
   ]
  },
  {
   "cell_type": "code",
   "execution_count": 7,
   "id": "9826d3da",
   "metadata": {},
   "outputs": [
    {
     "data": {
      "text/plain": [
       "torch.Size([3, 4])"
      ]
     },
     "execution_count": 7,
     "metadata": {},
     "output_type": "execute_result"
    }
   ],
   "source": [
    "m = torch.randn(3,1)\n",
    "n = torch.randn(1,4)\n",
    "s = m+n\n",
    "s.shape"
   ]
  },
  {
   "cell_type": "code",
   "execution_count": 8,
   "id": "1c7b840b",
   "metadata": {},
   "outputs": [],
   "source": [
    "a = torch.randn(4,32,8)"
   ]
  },
  {
   "cell_type": "code",
   "execution_count": 9,
   "id": "c18a1f47",
   "metadata": {},
   "outputs": [],
   "source": [
    "b = torch.randn(1)"
   ]
  },
  {
   "cell_type": "code",
   "execution_count": 10,
   "id": "b7c88d30",
   "metadata": {},
   "outputs": [
    {
     "data": {
      "text/plain": [
       "tensor([0.9132])"
      ]
     },
     "execution_count": 10,
     "metadata": {},
     "output_type": "execute_result"
    }
   ],
   "source": [
    "b"
   ]
  },
  {
   "cell_type": "code",
   "execution_count": 11,
   "id": "b527778d",
   "metadata": {},
   "outputs": [
    {
     "data": {
      "text/plain": [
       "torch.Size([4, 32, 8])"
      ]
     },
     "execution_count": 11,
     "metadata": {},
     "output_type": "execute_result"
    }
   ],
   "source": [
    "c = a+b\n",
    "c.shape"
   ]
  },
  {
   "cell_type": "code",
   "execution_count": 12,
   "id": "14a67f4c",
   "metadata": {},
   "outputs": [],
   "source": [
    "a = torch.randn(4,32,8)"
   ]
  },
  {
   "cell_type": "code",
   "execution_count": 13,
   "id": "cbab67b9",
   "metadata": {},
   "outputs": [
    {
     "data": {
      "text/plain": [
       "torch.Size([8])"
      ]
     },
     "execution_count": 13,
     "metadata": {},
     "output_type": "execute_result"
    }
   ],
   "source": [
    "b = torch.randn(8)\n",
    "b.shape"
   ]
  },
  {
   "cell_type": "code",
   "execution_count": 14,
   "id": "87dac9d9",
   "metadata": {},
   "outputs": [],
   "source": [
    "c  = a+b"
   ]
  },
  {
   "cell_type": "code",
   "execution_count": 15,
   "id": "7f49d68c",
   "metadata": {},
   "outputs": [
    {
     "data": {
      "text/plain": [
       "torch.Size([4, 32, 8])"
      ]
     },
     "execution_count": 15,
     "metadata": {},
     "output_type": "execute_result"
    }
   ],
   "source": [
    "c.shape"
   ]
  },
  {
   "cell_type": "code",
   "execution_count": 16,
   "id": "95041b24",
   "metadata": {},
   "outputs": [
    {
     "data": {
      "text/plain": [
       "torch.Size([32, 8])"
      ]
     },
     "execution_count": 16,
     "metadata": {},
     "output_type": "execute_result"
    }
   ],
   "source": [
    "b = torch.randn(32,8)\n",
    "b.shape"
   ]
  },
  {
   "cell_type": "code",
   "execution_count": 17,
   "id": "899da01b",
   "metadata": {},
   "outputs": [
    {
     "data": {
      "text/plain": [
       "torch.Size([4, 32, 8])"
      ]
     },
     "execution_count": 17,
     "metadata": {},
     "output_type": "execute_result"
    }
   ],
   "source": [
    "c = a+b\n",
    "c.shape"
   ]
  },
  {
   "cell_type": "markdown",
   "id": "2a706e81",
   "metadata": {},
   "source": [
    "广播的基本要求是，至少有一个维度要对齐，在大维度上进行广播"
   ]
  },
  {
   "cell_type": "code",
   "execution_count": 18,
   "id": "e078442f",
   "metadata": {},
   "outputs": [
    {
     "data": {
      "text/plain": [
       "torch.Size([4, 32, 14, 14])"
      ]
     },
     "execution_count": 18,
     "metadata": {},
     "output_type": "execute_result"
    }
   ],
   "source": [
    "a = torch.randn(4,32,14,14)\n",
    "a.shape"
   ]
  },
  {
   "cell_type": "code",
   "execution_count": 19,
   "id": "3b2c726b",
   "metadata": {},
   "outputs": [
    {
     "data": {
      "text/plain": [
       "torch.Size([1, 32, 1, 1])"
      ]
     },
     "execution_count": 19,
     "metadata": {},
     "output_type": "execute_result"
    }
   ],
   "source": [
    "b = torch.randn(1,32,1,1)\n",
    "b.shape"
   ]
  },
  {
   "cell_type": "code",
   "execution_count": 20,
   "id": "5c795f5b",
   "metadata": {},
   "outputs": [],
   "source": [
    "c = a+b"
   ]
  },
  {
   "cell_type": "code",
   "execution_count": 21,
   "id": "d6de2984",
   "metadata": {},
   "outputs": [
    {
     "data": {
      "text/plain": [
       "torch.Size([4, 32, 14, 14])"
      ]
     },
     "execution_count": 21,
     "metadata": {},
     "output_type": "execute_result"
    }
   ],
   "source": [
    "c.shape"
   ]
  },
  {
   "cell_type": "code",
   "execution_count": 22,
   "id": "a7a0f877",
   "metadata": {},
   "outputs": [
    {
     "data": {
      "text/plain": [
       "torch.Size([14, 14])"
      ]
     },
     "execution_count": 22,
     "metadata": {},
     "output_type": "execute_result"
    }
   ],
   "source": [
    "b = torch.randn(14,14)\n",
    "b.shape"
   ]
  },
  {
   "cell_type": "code",
   "execution_count": 23,
   "id": "cb2bb68b",
   "metadata": {},
   "outputs": [
    {
     "data": {
      "text/plain": [
       "torch.Size([4, 32, 14, 14])"
      ]
     },
     "execution_count": 23,
     "metadata": {},
     "output_type": "execute_result"
    }
   ],
   "source": [
    "c = a+b\n",
    "c.shape"
   ]
  },
  {
   "cell_type": "markdown",
   "id": "663b9dec",
   "metadata": {},
   "source": [
    "## 拼接与拆分"
   ]
  },
  {
   "cell_type": "markdown",
   "id": "7522d702",
   "metadata": {},
   "source": [
    "### cat方法"
   ]
  },
  {
   "cell_type": "code",
   "execution_count": 24,
   "id": "a4f2aa54",
   "metadata": {},
   "outputs": [],
   "source": [
    "a = torch.randn(4,32,8)\n",
    "b = torch.randn(5,32,8)"
   ]
  },
  {
   "cell_type": "code",
   "execution_count": 25,
   "id": "bc6bdb55",
   "metadata": {},
   "outputs": [
    {
     "data": {
      "text/plain": [
       "torch.Size([9, 32, 8])"
      ]
     },
     "execution_count": 25,
     "metadata": {},
     "output_type": "execute_result"
    }
   ],
   "source": [
    "c = torch.cat([a,b],dim =0) #在拼接时，处拼接维度，其他维度应保持相同\n",
    "c.shape"
   ]
  },
  {
   "cell_type": "code",
   "execution_count": 26,
   "id": "2f3ab819",
   "metadata": {},
   "outputs": [],
   "source": [
    "a1 = torch.randn(4,3,32,32)\n",
    "a2 = torch.randn(4,1,32,32)"
   ]
  },
  {
   "cell_type": "code",
   "execution_count": 27,
   "id": "c63071db",
   "metadata": {},
   "outputs": [
    {
     "data": {
      "text/plain": [
       "torch.Size([4, 4, 32, 32])"
      ]
     },
     "execution_count": 27,
     "metadata": {},
     "output_type": "execute_result"
    }
   ],
   "source": [
    "torch.cat([a1,a2],dim=1).shape"
   ]
  },
  {
   "cell_type": "code",
   "execution_count": 28,
   "id": "d82ea8ee",
   "metadata": {},
   "outputs": [],
   "source": [
    "a2 = torch.randn(4,3,16,32)"
   ]
  },
  {
   "cell_type": "code",
   "execution_count": 29,
   "id": "803227fa",
   "metadata": {},
   "outputs": [
    {
     "data": {
      "text/plain": [
       "torch.Size([4, 3, 32, 32])"
      ]
     },
     "execution_count": 29,
     "metadata": {},
     "output_type": "execute_result"
    }
   ],
   "source": [
    "a1.shape"
   ]
  },
  {
   "cell_type": "code",
   "execution_count": 30,
   "id": "d172063c",
   "metadata": {},
   "outputs": [
    {
     "data": {
      "text/plain": [
       "torch.Size([4, 3, 48, 32])"
      ]
     },
     "execution_count": 30,
     "metadata": {},
     "output_type": "execute_result"
    }
   ],
   "source": [
    "\n",
    "torch.cat([a1,a2],dim=2).shape"
   ]
  },
  {
   "cell_type": "markdown",
   "id": "eea59ed6",
   "metadata": {},
   "source": [
    "### stack方法"
   ]
  },
  {
   "cell_type": "code",
   "execution_count": 31,
   "id": "7fc44c2a",
   "metadata": {},
   "outputs": [],
   "source": [
    "a = torch.randn(32,8)\n",
    "b = torch.randn(32,8)"
   ]
  },
  {
   "cell_type": "code",
   "execution_count": 32,
   "id": "4dc4011c",
   "metadata": {},
   "outputs": [
    {
     "data": {
      "text/plain": [
       "torch.Size([2, 32, 8])"
      ]
     },
     "execution_count": 32,
     "metadata": {},
     "output_type": "execute_result"
    }
   ],
   "source": [
    "torch.stack([a,b],dim=0).shape ##stack会增加一个新的维度"
   ]
  },
  {
   "cell_type": "markdown",
   "id": "c47e2af7",
   "metadata": {},
   "source": [
    "### split"
   ]
  },
  {
   "cell_type": "code",
   "execution_count": 33,
   "id": "cb1943a4",
   "metadata": {},
   "outputs": [
    {
     "data": {
      "text/plain": [
       "torch.Size([3, 32, 8])"
      ]
     },
     "execution_count": 33,
     "metadata": {},
     "output_type": "execute_result"
    }
   ],
   "source": [
    "c = torch.stack([a,b,a],dim=0)\n",
    "c.shape"
   ]
  },
  {
   "cell_type": "code",
   "execution_count": 34,
   "id": "c560d126",
   "metadata": {},
   "outputs": [],
   "source": [
    "aa,bb,dd =c.split(1,dim=0) ## 这里的1表示每个单元的长度是1"
   ]
  },
  {
   "cell_type": "code",
   "execution_count": 35,
   "id": "f227e17a",
   "metadata": {},
   "outputs": [
    {
     "data": {
      "text/plain": [
       "torch.Size([1, 32, 8])"
      ]
     },
     "execution_count": 35,
     "metadata": {},
     "output_type": "execute_result"
    }
   ],
   "source": [
    "aa.shape"
   ]
  },
  {
   "cell_type": "code",
   "execution_count": 36,
   "id": "435192f9",
   "metadata": {},
   "outputs": [],
   "source": [
    "aa,bb = c.split([2,1],dim =0) ## 这里是第一个部分长度是2，第二个部分长度是1"
   ]
  },
  {
   "cell_type": "code",
   "execution_count": 37,
   "id": "0db61525",
   "metadata": {},
   "outputs": [
    {
     "data": {
      "text/plain": [
       "torch.Size([2, 32, 8])"
      ]
     },
     "execution_count": 37,
     "metadata": {},
     "output_type": "execute_result"
    }
   ],
   "source": [
    "aa.shape"
   ]
  },
  {
   "cell_type": "code",
   "execution_count": 38,
   "id": "2f8eee68",
   "metadata": {},
   "outputs": [
    {
     "data": {
      "text/plain": [
       "torch.Size([3, 32, 8])"
      ]
     },
     "execution_count": 38,
     "metadata": {},
     "output_type": "execute_result"
    }
   ],
   "source": [
    "c.shape"
   ]
  },
  {
   "cell_type": "code",
   "execution_count": 39,
   "id": "8eb41509",
   "metadata": {},
   "outputs": [],
   "source": [
    "aa,bb,dd = c.chunk(3,dim=0)#这里是表示将数据拆成3块"
   ]
  },
  {
   "cell_type": "code",
   "execution_count": 40,
   "id": "1e3238cf",
   "metadata": {},
   "outputs": [
    {
     "data": {
      "text/plain": [
       "torch.Size([1, 32, 8])"
      ]
     },
     "execution_count": 40,
     "metadata": {},
     "output_type": "execute_result"
    }
   ],
   "source": [
    "aa.shape"
   ]
  },
  {
   "cell_type": "markdown",
   "id": "c8adcd8b",
   "metadata": {},
   "source": [
    "## tensor的基本运算"
   ]
  },
  {
   "cell_type": "code",
   "execution_count": 41,
   "id": "dad764eb",
   "metadata": {},
   "outputs": [],
   "source": [
    "a = torch.rand(3,4)\n",
    "b = torch.rand(4)"
   ]
  },
  {
   "cell_type": "code",
   "execution_count": 42,
   "id": "16fa14c6",
   "metadata": {},
   "outputs": [
    {
     "data": {
      "text/plain": [
       "torch.Size([3, 4])"
      ]
     },
     "execution_count": 42,
     "metadata": {},
     "output_type": "execute_result"
    }
   ],
   "source": [
    "c = a+b\n",
    "c.shape"
   ]
  },
  {
   "cell_type": "code",
   "execution_count": 43,
   "id": "1a28a7f4",
   "metadata": {},
   "outputs": [
    {
     "data": {
      "text/plain": [
       "tensor([[0.4019, 0.4037, 1.1956, 1.4109],\n",
       "        [0.6949, 1.2573, 1.1156, 1.3352],\n",
       "        [0.9240, 1.2861, 0.8373, 1.0756]])"
      ]
     },
     "execution_count": 43,
     "metadata": {},
     "output_type": "execute_result"
    }
   ],
   "source": [
    "c"
   ]
  },
  {
   "cell_type": "code",
   "execution_count": 44,
   "id": "e63230f3",
   "metadata": {},
   "outputs": [
    {
     "data": {
      "text/plain": [
       "tensor([[0.4019, 0.4037, 1.1956, 1.4109],\n",
       "        [0.6949, 1.2573, 1.1156, 1.3352],\n",
       "        [0.9240, 1.2861, 0.8373, 1.0756]])"
      ]
     },
     "execution_count": 44,
     "metadata": {},
     "output_type": "execute_result"
    }
   ],
   "source": [
    "torch.add(a,b)"
   ]
  },
  {
   "cell_type": "code",
   "execution_count": 45,
   "id": "e83c19fe",
   "metadata": {},
   "outputs": [
    {
     "data": {
      "text/plain": [
       "tensor([[ 0.1362, -0.2750,  0.5506,  0.4880],\n",
       "        [ 0.4292,  0.5786,  0.4706,  0.4123],\n",
       "        [ 0.6583,  0.6074,  0.1923,  0.1527]])"
      ]
     },
     "execution_count": 45,
     "metadata": {},
     "output_type": "execute_result"
    }
   ],
   "source": [
    "torch.sub(a,b)"
   ]
  },
  {
   "cell_type": "code",
   "execution_count": 46,
   "id": "b0ded98d",
   "metadata": {},
   "outputs": [
    {
     "data": {
      "text/plain": [
       "tensor([[ 0.1362, -0.2750,  0.5506,  0.4880],\n",
       "        [ 0.4292,  0.5786,  0.4706,  0.4123],\n",
       "        [ 0.6583,  0.6074,  0.1923,  0.1527]])"
      ]
     },
     "execution_count": 46,
     "metadata": {},
     "output_type": "execute_result"
    }
   ],
   "source": [
    "a-b"
   ]
  },
  {
   "cell_type": "code",
   "execution_count": 47,
   "id": "7aa4f16e",
   "metadata": {},
   "outputs": [
    {
     "data": {
      "text/plain": [
       "tensor([[-0.6333,  1.7509,  0.6741],\n",
       "        [ 0.6321, -0.0351,  1.6002],\n",
       "        [ 0.4735,  1.3432, -0.2061]])"
      ]
     },
     "execution_count": 47,
     "metadata": {},
     "output_type": "execute_result"
    }
   ],
   "source": [
    "a = torch.randn(3,3)\n",
    "a"
   ]
  },
  {
   "cell_type": "code",
   "execution_count": 48,
   "id": "66de5ddd",
   "metadata": {},
   "outputs": [
    {
     "data": {
      "text/plain": [
       "tensor([[0.4054, 0.0917, 0.1916],\n",
       "        [0.9883, 0.2351, 0.2071],\n",
       "        [0.9856, 0.5542, 0.5522]])"
      ]
     },
     "execution_count": 48,
     "metadata": {},
     "output_type": "execute_result"
    }
   ],
   "source": [
    "b = torch.rand(3,3)\n",
    "b"
   ]
  },
  {
   "cell_type": "code",
   "execution_count": 49,
   "id": "123116fd",
   "metadata": {},
   "outputs": [
    {
     "data": {
      "text/plain": [
       "tensor([[-0.2568,  0.1605,  0.1292],\n",
       "        [ 0.6247, -0.0082,  0.3315],\n",
       "        [ 0.4667,  0.7444, -0.1138]])"
      ]
     },
     "execution_count": 49,
     "metadata": {},
     "output_type": "execute_result"
    }
   ],
   "source": [
    "a * b #这里是采用数组相乘"
   ]
  },
  {
   "cell_type": "code",
   "execution_count": 50,
   "id": "8835df40",
   "metadata": {},
   "outputs": [
    {
     "data": {
      "text/plain": [
       "tensor([[-0.6333,  1.7509,  0.6741],\n",
       "        [ 0.6321, -0.0351,  1.6002],\n",
       "        [ 0.4735,  1.3432, -0.2061]])"
      ]
     },
     "execution_count": 50,
     "metadata": {},
     "output_type": "execute_result"
    }
   ],
   "source": [
    "a"
   ]
  },
  {
   "cell_type": "code",
   "execution_count": 51,
   "id": "bc752674",
   "metadata": {},
   "outputs": [
    {
     "data": {
      "text/plain": [
       "tensor([[0.4054, 0.0917, 0.1916],\n",
       "        [0.9883, 0.2351, 0.2071],\n",
       "        [0.9856, 0.5542, 0.5522]])"
      ]
     },
     "execution_count": 51,
     "metadata": {},
     "output_type": "execute_result"
    }
   ],
   "source": [
    "b"
   ]
  },
  {
   "cell_type": "code",
   "execution_count": 52,
   "id": "8ca90142",
   "metadata": {},
   "outputs": [
    {
     "data": {
      "text/plain": [
       "tensor([[2.1380, 0.7272, 0.6136],\n",
       "        [1.7987, 0.9366, 0.9975],\n",
       "        [1.3164, 0.2450, 0.2552]])"
      ]
     },
     "execution_count": 52,
     "metadata": {},
     "output_type": "execute_result"
    }
   ],
   "source": [
    "a @ b #这里是表示矩阵相乘"
   ]
  },
  {
   "cell_type": "code",
   "execution_count": 53,
   "id": "7f7c285a",
   "metadata": {},
   "outputs": [
    {
     "data": {
      "text/plain": [
       "tensor([[2.1380, 0.7272, 0.6136],\n",
       "        [1.7987, 0.9366, 0.9975],\n",
       "        [1.3164, 0.2450, 0.2552]])"
      ]
     },
     "execution_count": 53,
     "metadata": {},
     "output_type": "execute_result"
    }
   ],
   "source": [
    "torch.matmul(a,b)#这里是表示矩阵相乘"
   ]
  },
  {
   "cell_type": "code",
   "execution_count": 54,
   "id": "ceb65bb9",
   "metadata": {},
   "outputs": [
    {
     "data": {
      "text/plain": [
       "tensor([[2.1380, 0.7272, 0.6136],\n",
       "        [1.7987, 0.9366, 0.9975],\n",
       "        [1.3164, 0.2450, 0.2552]])"
      ]
     },
     "execution_count": 54,
     "metadata": {},
     "output_type": "execute_result"
    }
   ],
   "source": [
    "torch.mm(a,b) #这里仅适合二维矩阵相乘"
   ]
  },
  {
   "cell_type": "code",
   "execution_count": 55,
   "id": "a45686c4",
   "metadata": {},
   "outputs": [],
   "source": [
    "##例子，线性层"
   ]
  },
  {
   "cell_type": "code",
   "execution_count": 56,
   "id": "8e9e9a1b",
   "metadata": {},
   "outputs": [],
   "source": [
    "a  = torch.rand(4,784)\n",
    "x = torch.rand(4,784)\n",
    "w = torch.rand(512,784)"
   ]
  },
  {
   "cell_type": "code",
   "execution_count": 57,
   "id": "f18ed2a1",
   "metadata": {},
   "outputs": [
    {
     "data": {
      "text/plain": [
       "torch.Size([4, 512])"
      ]
     },
     "execution_count": 57,
     "metadata": {},
     "output_type": "execute_result"
    }
   ],
   "source": [
    "s = x@w.t()\n",
    "s.shape"
   ]
  },
  {
   "cell_type": "code",
   "execution_count": 58,
   "id": "742a9702",
   "metadata": {},
   "outputs": [],
   "source": [
    "w2 =torch.randn(8,512)"
   ]
  },
  {
   "cell_type": "code",
   "execution_count": 59,
   "id": "ae4bc9a8",
   "metadata": {},
   "outputs": [
    {
     "data": {
      "text/plain": [
       "torch.Size([4, 8])"
      ]
     },
     "execution_count": 59,
     "metadata": {},
     "output_type": "execute_result"
    }
   ],
   "source": [
    "(s@w2.t()).shape"
   ]
  },
  {
   "cell_type": "markdown",
   "id": "360ea3d3",
   "metadata": {},
   "source": [
    "### 多维数据相乘"
   ]
  },
  {
   "cell_type": "code",
   "execution_count": 60,
   "id": "32cf59a5",
   "metadata": {},
   "outputs": [],
   "source": [
    "a = torch.rand(4,3,28,64)\n",
    "b = torch.rand(4,3,64,32)"
   ]
  },
  {
   "cell_type": "code",
   "execution_count": 61,
   "id": "91c4ae88",
   "metadata": {},
   "outputs": [
    {
     "data": {
      "text/plain": [
       "torch.Size([4, 3, 28, 32])"
      ]
     },
     "execution_count": 61,
     "metadata": {},
     "output_type": "execute_result"
    }
   ],
   "source": [
    "c = torch.matmul(a,b) #这里是仅取最后的两维数据进行相乘\n",
    "c.shape"
   ]
  },
  {
   "cell_type": "code",
   "execution_count": 62,
   "id": "08ba8c11",
   "metadata": {},
   "outputs": [],
   "source": [
    "b = torch.rand(4,1,64,32)"
   ]
  },
  {
   "cell_type": "code",
   "execution_count": 63,
   "id": "a3e96039",
   "metadata": {},
   "outputs": [
    {
     "data": {
      "text/plain": [
       "torch.Size([4, 3, 28, 32])"
      ]
     },
     "execution_count": 63,
     "metadata": {},
     "output_type": "execute_result"
    }
   ],
   "source": [
    "c = torch.matmul(a,b)  #这里不仅使用了多维的矩阵相乘，h还使用了广播的方法\n",
    "c.shape  "
   ]
  },
  {
   "cell_type": "markdown",
   "id": "f8655c24",
   "metadata": {},
   "source": [
    "### 次方的运算"
   ]
  },
  {
   "cell_type": "code",
   "execution_count": 64,
   "id": "613ebcdd",
   "metadata": {},
   "outputs": [
    {
     "data": {
      "text/plain": [
       "tensor([[3, 3],\n",
       "        [3, 3]])"
      ]
     },
     "execution_count": 64,
     "metadata": {},
     "output_type": "execute_result"
    }
   ],
   "source": [
    "a = torch.full((2,2),3)\n",
    "a"
   ]
  },
  {
   "cell_type": "code",
   "execution_count": 65,
   "id": "e81b2f88",
   "metadata": {},
   "outputs": [
    {
     "data": {
      "text/plain": [
       "tensor([[9, 9],\n",
       "        [9, 9]])"
      ]
     },
     "execution_count": 65,
     "metadata": {},
     "output_type": "execute_result"
    }
   ],
   "source": [
    "a**2"
   ]
  },
  {
   "cell_type": "code",
   "execution_count": 66,
   "id": "596a2b23",
   "metadata": {},
   "outputs": [
    {
     "data": {
      "text/plain": [
       "tensor([[9, 9],\n",
       "        [9, 9]])"
      ]
     },
     "execution_count": 66,
     "metadata": {},
     "output_type": "execute_result"
    }
   ],
   "source": [
    "torch.pow(a,2)"
   ]
  },
  {
   "cell_type": "code",
   "execution_count": 67,
   "id": "3559e9fc",
   "metadata": {},
   "outputs": [
    {
     "data": {
      "text/plain": [
       "tensor([[9, 9],\n",
       "        [9, 9]])"
      ]
     },
     "execution_count": 67,
     "metadata": {},
     "output_type": "execute_result"
    }
   ],
   "source": [
    "a.pow(2) #a的平方"
   ]
  },
  {
   "cell_type": "code",
   "execution_count": 68,
   "id": "edd40ac7",
   "metadata": {},
   "outputs": [
    {
     "data": {
      "text/plain": [
       "tensor([[1.7321, 1.7321],\n",
       "        [1.7321, 1.7321]])"
      ]
     },
     "execution_count": 68,
     "metadata": {},
     "output_type": "execute_result"
    }
   ],
   "source": [
    "a.sqrt() #a的平方根"
   ]
  },
  {
   "cell_type": "code",
   "execution_count": 69,
   "id": "be54af96",
   "metadata": {},
   "outputs": [
    {
     "data": {
      "text/plain": [
       "tensor([[1.7321, 1.7321],\n",
       "        [1.7321, 1.7321]])"
      ]
     },
     "execution_count": 69,
     "metadata": {},
     "output_type": "execute_result"
    }
   ],
   "source": [
    "a**(0.5)"
   ]
  },
  {
   "cell_type": "markdown",
   "id": "1f72130c",
   "metadata": {},
   "source": [
    "## 指数"
   ]
  },
  {
   "cell_type": "code",
   "execution_count": 70,
   "id": "4485afa0",
   "metadata": {},
   "outputs": [
    {
     "data": {
      "text/plain": [
       "tensor([[2.7183, 2.7183],\n",
       "        [2.7183, 2.7183]])"
      ]
     },
     "execution_count": 70,
     "metadata": {},
     "output_type": "execute_result"
    }
   ],
   "source": [
    "a = torch.exp(torch.ones(2,2))\n",
    "a"
   ]
  },
  {
   "cell_type": "code",
   "execution_count": 71,
   "id": "86735578",
   "metadata": {},
   "outputs": [
    {
     "data": {
      "text/plain": [
       "tensor([[1.0000, 1.0000],\n",
       "        [1.0000, 1.0000]])"
      ]
     },
     "execution_count": 71,
     "metadata": {},
     "output_type": "execute_result"
    }
   ],
   "source": [
    "torch.log(a)"
   ]
  },
  {
   "cell_type": "markdown",
   "id": "7efec740",
   "metadata": {},
   "source": [
    "## 近似解"
   ]
  },
  {
   "cell_type": "code",
   "execution_count": 72,
   "id": "7c57c84c",
   "metadata": {},
   "outputs": [
    {
     "data": {
      "text/plain": [
       "tensor(3.1400)"
      ]
     },
     "execution_count": 72,
     "metadata": {},
     "output_type": "execute_result"
    }
   ],
   "source": [
    "a = torch.tensor(3.14)\n",
    "a"
   ]
  },
  {
   "cell_type": "code",
   "execution_count": 73,
   "id": "08c4622a",
   "metadata": {},
   "outputs": [
    {
     "data": {
      "text/plain": [
       "tensor(3.)"
      ]
     },
     "execution_count": 73,
     "metadata": {},
     "output_type": "execute_result"
    }
   ],
   "source": [
    "a.floor()"
   ]
  },
  {
   "cell_type": "code",
   "execution_count": 74,
   "id": "611dc62d",
   "metadata": {},
   "outputs": [
    {
     "data": {
      "text/plain": [
       "tensor(4.)"
      ]
     },
     "execution_count": 74,
     "metadata": {},
     "output_type": "execute_result"
    }
   ],
   "source": [
    "a.ceil()"
   ]
  },
  {
   "cell_type": "code",
   "execution_count": 75,
   "id": "79b75133",
   "metadata": {},
   "outputs": [
    {
     "data": {
      "text/plain": [
       "tensor(3.)"
      ]
     },
     "execution_count": 75,
     "metadata": {},
     "output_type": "execute_result"
    }
   ],
   "source": [
    "a.trunc() #取整数部分"
   ]
  },
  {
   "cell_type": "code",
   "execution_count": 76,
   "id": "67164d57",
   "metadata": {},
   "outputs": [
    {
     "data": {
      "text/plain": [
       "tensor(0.1400)"
      ]
     },
     "execution_count": 76,
     "metadata": {},
     "output_type": "execute_result"
    }
   ],
   "source": [
    "a.frac() #取小数部分"
   ]
  },
  {
   "cell_type": "code",
   "execution_count": 77,
   "id": "1fe00be9",
   "metadata": {},
   "outputs": [
    {
     "data": {
      "text/plain": [
       "tensor(3.)"
      ]
     },
     "execution_count": 77,
     "metadata": {},
     "output_type": "execute_result"
    }
   ],
   "source": [
    "a.round() #四舍五入"
   ]
  },
  {
   "cell_type": "code",
   "execution_count": 78,
   "id": "0b052303",
   "metadata": {},
   "outputs": [
    {
     "data": {
      "text/plain": [
       "tensor([[ 3.8585,  4.2506,  0.0474],\n",
       "        [13.6308, 13.6008,  7.0125]])"
      ]
     },
     "execution_count": 78,
     "metadata": {},
     "output_type": "execute_result"
    }
   ],
   "source": [
    "grad = torch.rand(2,3)*15\n",
    "grad"
   ]
  },
  {
   "cell_type": "code",
   "execution_count": 79,
   "id": "92e655d3",
   "metadata": {},
   "outputs": [
    {
     "data": {
      "text/plain": [
       "tensor(0.0474)"
      ]
     },
     "execution_count": 79,
     "metadata": {},
     "output_type": "execute_result"
    }
   ],
   "source": [
    "grad.min()"
   ]
  },
  {
   "cell_type": "code",
   "execution_count": 80,
   "id": "df988710",
   "metadata": {},
   "outputs": [
    {
     "data": {
      "text/plain": [
       "tensor(13.6308)"
      ]
     },
     "execution_count": 80,
     "metadata": {},
     "output_type": "execute_result"
    }
   ],
   "source": [
    "grad.max()"
   ]
  },
  {
   "cell_type": "code",
   "execution_count": 81,
   "id": "9fd522bd",
   "metadata": {},
   "outputs": [
    {
     "data": {
      "text/plain": [
       "tensor([[10.0000, 10.0000, 10.0000],\n",
       "        [13.6308, 13.6008, 10.0000]])"
      ]
     },
     "execution_count": 81,
     "metadata": {},
     "output_type": "execute_result"
    }
   ],
   "source": [
    "grad.clamp(10) #将小于10的数全赋值为10"
   ]
  },
  {
   "cell_type": "code",
   "execution_count": 82,
   "id": "976e4d93",
   "metadata": {},
   "outputs": [
    {
     "data": {
      "text/plain": [
       "tensor([[ 3.8585,  4.2506,  0.0474],\n",
       "        [13.6308, 13.6008,  7.0125]])"
      ]
     },
     "execution_count": 82,
     "metadata": {},
     "output_type": "execute_result"
    }
   ],
   "source": [
    "grad"
   ]
  },
  {
   "cell_type": "code",
   "execution_count": 83,
   "id": "bf12be88",
   "metadata": {},
   "outputs": [
    {
     "data": {
      "text/plain": [
       "tensor([[ 3.8585,  4.2506,  0.0474],\n",
       "        [10.0000, 10.0000,  7.0125]])"
      ]
     },
     "execution_count": 83,
     "metadata": {},
     "output_type": "execute_result"
    }
   ],
   "source": [
    "grad.clamp(0,10) #限定取值范围是0-10之间"
   ]
  },
  {
   "cell_type": "markdown",
   "id": "03cc78fa",
   "metadata": {},
   "source": [
    "## 统计属性方法"
   ]
  },
  {
   "cell_type": "code",
   "execution_count": 84,
   "id": "316b07f7",
   "metadata": {},
   "outputs": [
    {
     "data": {
      "text/plain": [
       "tensor([1., 1., 1., 1., 1., 1., 1., 1.])"
      ]
     },
     "execution_count": 84,
     "metadata": {},
     "output_type": "execute_result"
    }
   ],
   "source": [
    "a  = torch.full((8,),1.)\n",
    "a"
   ]
  },
  {
   "cell_type": "code",
   "execution_count": 85,
   "id": "8ab05b92",
   "metadata": {},
   "outputs": [
    {
     "data": {
      "text/plain": [
       "tensor([[1., 1., 1., 1.],\n",
       "        [1., 1., 1., 1.]])"
      ]
     },
     "execution_count": 85,
     "metadata": {},
     "output_type": "execute_result"
    }
   ],
   "source": [
    "b = a.view(2,4)\n",
    "b"
   ]
  },
  {
   "cell_type": "code",
   "execution_count": 86,
   "id": "e41342c2",
   "metadata": {},
   "outputs": [
    {
     "data": {
      "text/plain": [
       "tensor([[[1., 1.],\n",
       "         [1., 1.]],\n",
       "\n",
       "        [[1., 1.],\n",
       "         [1., 1.]]])"
      ]
     },
     "execution_count": 86,
     "metadata": {},
     "output_type": "execute_result"
    }
   ],
   "source": [
    "c = a.view(2,2,2)\n",
    "c"
   ]
  },
  {
   "cell_type": "code",
   "execution_count": 87,
   "id": "24ef0048",
   "metadata": {},
   "outputs": [
    {
     "data": {
      "text/plain": [
       "(tensor(8.), tensor(8.), tensor(8.))"
      ]
     },
     "execution_count": 87,
     "metadata": {},
     "output_type": "execute_result"
    }
   ],
   "source": [
    "a.norm(1),b.norm(1),c.norm(1) #求L1范数"
   ]
  },
  {
   "cell_type": "code",
   "execution_count": 88,
   "id": "606e3a04",
   "metadata": {},
   "outputs": [
    {
     "data": {
      "text/plain": [
       "(tensor(2.8284), tensor(2.8284), tensor(2.8284))"
      ]
     },
     "execution_count": 88,
     "metadata": {},
     "output_type": "execute_result"
    }
   ],
   "source": [
    "a.norm(2),b.norm(2),c.norm(2) #求L2范数"
   ]
  },
  {
   "cell_type": "code",
   "execution_count": 89,
   "id": "bf7ae7db",
   "metadata": {},
   "outputs": [
    {
     "data": {
      "text/plain": [
       "tensor([4., 4.])"
      ]
     },
     "execution_count": 89,
     "metadata": {},
     "output_type": "execute_result"
    }
   ],
   "source": [
    "b.norm(1,dim = 1)"
   ]
  },
  {
   "cell_type": "code",
   "execution_count": 90,
   "id": "267ddcbc",
   "metadata": {},
   "outputs": [
    {
     "data": {
      "text/plain": [
       "tensor([2., 2.])"
      ]
     },
     "execution_count": 90,
     "metadata": {},
     "output_type": "execute_result"
    }
   ],
   "source": [
    "b.norm(2,dim = 1)"
   ]
  },
  {
   "cell_type": "code",
   "execution_count": 91,
   "id": "54d1d4a6",
   "metadata": {},
   "outputs": [
    {
     "data": {
      "text/plain": [
       "tensor([[1., 2., 3., 4.],\n",
       "        [5., 6., 7., 8.]])"
      ]
     },
     "execution_count": 91,
     "metadata": {},
     "output_type": "execute_result"
    }
   ],
   "source": [
    "a = torch.arange(1,9).view(2,4).float()\n",
    "a"
   ]
  },
  {
   "cell_type": "code",
   "execution_count": 92,
   "id": "d82a4236",
   "metadata": {},
   "outputs": [
    {
     "data": {
      "text/plain": [
       "tensor(1.)"
      ]
     },
     "execution_count": 92,
     "metadata": {},
     "output_type": "execute_result"
    }
   ],
   "source": [
    "a.min()"
   ]
  },
  {
   "cell_type": "code",
   "execution_count": 93,
   "id": "c0df8922",
   "metadata": {},
   "outputs": [
    {
     "data": {
      "text/plain": [
       "tensor(8.)"
      ]
     },
     "execution_count": 93,
     "metadata": {},
     "output_type": "execute_result"
    }
   ],
   "source": [
    "a.max()"
   ]
  },
  {
   "cell_type": "code",
   "execution_count": 94,
   "id": "85ff0fc4",
   "metadata": {},
   "outputs": [
    {
     "data": {
      "text/plain": [
       "tensor(4.5000)"
      ]
     },
     "execution_count": 94,
     "metadata": {},
     "output_type": "execute_result"
    }
   ],
   "source": [
    "a.mean()"
   ]
  },
  {
   "cell_type": "code",
   "execution_count": 95,
   "id": "54fa0aa1",
   "metadata": {},
   "outputs": [
    {
     "data": {
      "text/plain": [
       "tensor(40320.)"
      ]
     },
     "execution_count": 95,
     "metadata": {},
     "output_type": "execute_result"
    }
   ],
   "source": [
    "a.prod() #数据的累乘"
   ]
  },
  {
   "cell_type": "code",
   "execution_count": 96,
   "id": "ee906959",
   "metadata": {},
   "outputs": [
    {
     "data": {
      "text/plain": [
       "tensor(36.)"
      ]
     },
     "execution_count": 96,
     "metadata": {},
     "output_type": "execute_result"
    }
   ],
   "source": [
    "a.sum() #数据的累加"
   ]
  },
  {
   "cell_type": "code",
   "execution_count": 97,
   "id": "c1056de7",
   "metadata": {},
   "outputs": [
    {
     "data": {
      "text/plain": [
       "tensor([1, 1, 1, 1])"
      ]
     },
     "execution_count": 97,
     "metadata": {},
     "output_type": "execute_result"
    }
   ],
   "source": [
    "a.argmax(dim= 0) #0表示行"
   ]
  },
  {
   "cell_type": "code",
   "execution_count": 98,
   "id": "03f84ce0",
   "metadata": {},
   "outputs": [
    {
     "data": {
      "text/plain": [
       "tensor([3, 3])"
      ]
     },
     "execution_count": 98,
     "metadata": {},
     "output_type": "execute_result"
    }
   ],
   "source": [
    "a.argmax(dim= 1) #0表示列"
   ]
  },
  {
   "cell_type": "code",
   "execution_count": 99,
   "id": "845a4227",
   "metadata": {},
   "outputs": [
    {
     "data": {
      "text/plain": [
       "tensor([[1., 2., 3., 4.],\n",
       "        [5., 6., 7., 8.]])"
      ]
     },
     "execution_count": 99,
     "metadata": {},
     "output_type": "execute_result"
    }
   ],
   "source": [
    "a"
   ]
  },
  {
   "cell_type": "code",
   "execution_count": 100,
   "id": "7c167f67",
   "metadata": {},
   "outputs": [],
   "source": [
    "a  = torch.randn(4,10)"
   ]
  },
  {
   "cell_type": "code",
   "execution_count": 106,
   "id": "40bc26cd",
   "metadata": {},
   "outputs": [
    {
     "data": {
      "text/plain": [
       "tensor([[ 0.0982, -0.1779,  0.0704,  1.6618,  0.8903,  0.7395, -0.6072, -0.7439,\n",
       "         -0.6190,  0.2220],\n",
       "        [ 1.8333, -0.9052,  0.5242, -1.0983, -1.6193, -0.6327, -2.6628,  0.7324,\n",
       "          0.2779, -0.6505],\n",
       "        [-0.9178, -0.6175, -0.5945, -0.2865, -1.3278,  0.6666,  1.5211,  0.1895,\n",
       "          1.3239,  0.0137],\n",
       "        [-1.6216, -0.2101, -0.9855, -1.0887, -0.9381,  1.4014,  0.5676, -1.5593,\n",
       "         -1.7041,  0.5131]])"
      ]
     },
     "execution_count": 106,
     "metadata": {},
     "output_type": "execute_result"
    }
   ],
   "source": [
    "a"
   ]
  },
  {
   "cell_type": "code",
   "execution_count": 105,
   "id": "eb9d534c",
   "metadata": {},
   "outputs": [
    {
     "data": {
      "text/plain": [
       "torch.Size([4, 10])"
      ]
     },
     "execution_count": 105,
     "metadata": {},
     "output_type": "execute_result"
    }
   ],
   "source": [
    "a.shape"
   ]
  },
  {
   "cell_type": "code",
   "execution_count": 107,
   "id": "44c4d8a7",
   "metadata": {},
   "outputs": [],
   "source": [
    "a.max?"
   ]
  },
  {
   "cell_type": "code",
   "execution_count": 102,
   "id": "00ae943b",
   "metadata": {},
   "outputs": [
    {
     "data": {
      "text/plain": [
       "torch.return_types.max(\n",
       "values=tensor([1.6618, 1.8333, 1.5211, 1.4014]),\n",
       "indices=tensor([3, 0, 6, 5]))"
      ]
     },
     "execution_count": 102,
     "metadata": {},
     "output_type": "execute_result"
    }
   ],
   "source": [
    "a.max(dim=1)"
   ]
  },
  {
   "cell_type": "code",
   "execution_count": 103,
   "id": "69e6f56d",
   "metadata": {},
   "outputs": [
    {
     "data": {
      "text/plain": [
       "tensor([3, 0, 6, 5])"
      ]
     },
     "execution_count": 103,
     "metadata": {},
     "output_type": "execute_result"
    }
   ],
   "source": [
    "a.argmax(dim=1)"
   ]
  },
  {
   "cell_type": "code",
   "execution_count": 104,
   "id": "72766f1c",
   "metadata": {},
   "outputs": [
    {
     "data": {
      "text/plain": [
       "torch.return_types.max(\n",
       "values=tensor([[1.6618],\n",
       "        [1.8333],\n",
       "        [1.5211],\n",
       "        [1.4014]]),\n",
       "indices=tensor([[3],\n",
       "        [0],\n",
       "        [6],\n",
       "        [5]]))"
      ]
     },
     "execution_count": 104,
     "metadata": {},
     "output_type": "execute_result"
    }
   ],
   "source": [
    "a.max(dim=1,keepdim=True)"
   ]
  },
  {
   "cell_type": "code",
   "execution_count": 108,
   "id": "a648442f",
   "metadata": {},
   "outputs": [
    {
     "data": {
      "text/plain": [
       "torch.return_types.topk(\n",
       "values=tensor([[1.6618, 0.8903, 0.7395],\n",
       "        [1.8333, 0.7324, 0.5242],\n",
       "        [1.5211, 1.3239, 0.6666],\n",
       "        [1.4014, 0.5676, 0.5131]]),\n",
       "indices=tensor([[3, 4, 5],\n",
       "        [0, 7, 2],\n",
       "        [6, 8, 5],\n",
       "        [5, 6, 9]]))"
      ]
     },
     "execution_count": 108,
     "metadata": {},
     "output_type": "execute_result"
    }
   ],
   "source": [
    "a.topk(3,dim=1) #从大到小返回排列n值"
   ]
  },
  {
   "cell_type": "code",
   "execution_count": 109,
   "id": "73f2faf2",
   "metadata": {},
   "outputs": [
    {
     "data": {
      "text/plain": [
       "torch.return_types.topk(\n",
       "values=tensor([[-0.7439, -0.6190, -0.6072],\n",
       "        [-2.6628, -1.6193, -1.0983],\n",
       "        [-1.3278, -0.9178, -0.6175],\n",
       "        [-1.7041, -1.6216, -1.5593]]),\n",
       "indices=tensor([[7, 8, 6],\n",
       "        [6, 4, 3],\n",
       "        [4, 0, 1],\n",
       "        [8, 0, 7]]))"
      ]
     },
     "execution_count": 109,
     "metadata": {},
     "output_type": "execute_result"
    }
   ],
   "source": [
    "a.topk(3,dim=1,largest = False) #这里是从小到大排列"
   ]
  },
  {
   "cell_type": "code",
   "execution_count": 110,
   "id": "ea546075",
   "metadata": {},
   "outputs": [
    {
     "data": {
      "text/plain": [
       "torch.return_types.kthvalue(\n",
       "values=tensor([0.7395, 0.5242, 0.6666, 0.5131]),\n",
       "indices=tensor([5, 2, 5, 9]))"
      ]
     },
     "execution_count": 110,
     "metadata": {},
     "output_type": "execute_result"
    }
   ],
   "source": [
    "a.kthvalue(8,dim=1) #返回一个第K小的值"
   ]
  },
  {
   "cell_type": "markdown",
   "id": "40b0eb70",
   "metadata": {},
   "source": [
    "## 大小比较"
   ]
  },
  {
   "cell_type": "code",
   "execution_count": 114,
   "id": "bde752e8",
   "metadata": {},
   "outputs": [
    {
     "data": {
      "text/plain": [
       "tensor([[ True, False,  True,  True,  True,  True, False, False, False,  True],\n",
       "        [ True, False,  True, False, False, False, False,  True,  True, False],\n",
       "        [False, False, False, False, False,  True,  True,  True,  True,  True],\n",
       "        [False, False, False, False, False,  True,  True, False, False,  True]])"
      ]
     },
     "execution_count": 114,
     "metadata": {},
     "output_type": "execute_result"
    }
   ],
   "source": [
    "a>0"
   ]
  },
  {
   "cell_type": "code",
   "execution_count": 115,
   "id": "02fa5623",
   "metadata": {},
   "outputs": [
    {
     "data": {
      "text/plain": [
       "tensor([[ True, False,  True,  True,  True,  True, False, False, False,  True],\n",
       "        [ True, False,  True, False, False, False, False,  True,  True, False],\n",
       "        [False, False, False, False, False,  True,  True,  True,  True,  True],\n",
       "        [False, False, False, False, False,  True,  True, False, False,  True]])"
      ]
     },
     "execution_count": 115,
     "metadata": {},
     "output_type": "execute_result"
    }
   ],
   "source": [
    "torch.gt(a,0) #这个也是大于0的意思"
   ]
  },
  {
   "cell_type": "code",
   "execution_count": 116,
   "id": "7ff1c6d6",
   "metadata": {},
   "outputs": [
    {
     "data": {
      "text/plain": [
       "tensor([[True, True, True, True, True, True, True, True, True, True],\n",
       "        [True, True, True, True, True, True, True, True, True, True],\n",
       "        [True, True, True, True, True, True, True, True, True, True],\n",
       "        [True, True, True, True, True, True, True, True, True, True]])"
      ]
     },
     "execution_count": 116,
     "metadata": {},
     "output_type": "execute_result"
    }
   ],
   "source": [
    "a!=0"
   ]
  },
  {
   "cell_type": "code",
   "execution_count": 117,
   "id": "f378c90e",
   "metadata": {},
   "outputs": [
    {
     "data": {
      "text/plain": [
       "tensor([[False, False, False],\n",
       "        [False, False, False]])"
      ]
     },
     "execution_count": 117,
     "metadata": {},
     "output_type": "execute_result"
    }
   ],
   "source": [
    "a = torch.ones(2,3)\n",
    "b= torch.randn(2,3)\n",
    "torch.eq(a,b)"
   ]
  },
  {
   "cell_type": "code",
   "execution_count": 118,
   "id": "340b064c",
   "metadata": {},
   "outputs": [
    {
     "data": {
      "text/plain": [
       "tensor([[True, True, True],\n",
       "        [True, True, True]])"
      ]
     },
     "execution_count": 118,
     "metadata": {},
     "output_type": "execute_result"
    }
   ],
   "source": [
    "torch.eq(a,a)"
   ]
  },
  {
   "cell_type": "code",
   "execution_count": 119,
   "id": "2a53a257",
   "metadata": {},
   "outputs": [
    {
     "data": {
      "text/plain": [
       "True"
      ]
     },
     "execution_count": 119,
     "metadata": {},
     "output_type": "execute_result"
    }
   ],
   "source": [
    "torch.equal(a,a)"
   ]
  },
  {
   "cell_type": "code",
   "execution_count": null,
   "id": "809b3071",
   "metadata": {},
   "outputs": [],
   "source": []
  }
 ],
 "metadata": {
  "kernelspec": {
   "display_name": "Python 3 (ipykernel)",
   "language": "python",
   "name": "python3"
  },
  "language_info": {
   "codemirror_mode": {
    "name": "ipython",
    "version": 3
   },
   "file_extension": ".py",
   "mimetype": "text/x-python",
   "name": "python",
   "nbconvert_exporter": "python",
   "pygments_lexer": "ipython3",
   "version": "3.9.7"
  },
  "toc": {
   "base_numbering": 1,
   "nav_menu": {},
   "number_sections": true,
   "sideBar": true,
   "skip_h1_title": false,
   "title_cell": "Table of Contents",
   "title_sidebar": "Contents",
   "toc_cell": false,
   "toc_position": {},
   "toc_section_display": true,
   "toc_window_display": false
  }
 },
 "nbformat": 4,
 "nbformat_minor": 5
}
