{
 "cells": [
  {
   "cell_type": "markdown",
   "id": "ecb8d2c2",
   "metadata": {},
   "source": [
    "## where 方法"
   ]
  },
  {
   "cell_type": "code",
   "execution_count": 1,
   "id": "b9a02e07",
   "metadata": {},
   "outputs": [],
   "source": [
    "import torch"
   ]
  },
  {
   "cell_type": "code",
   "execution_count": 2,
   "id": "8e467e2e",
   "metadata": {},
   "outputs": [
    {
     "data": {
      "text/plain": [
       "tensor([[ 2.0339,  0.1789],\n",
       "        [-1.9342,  0.5747]])"
      ]
     },
     "execution_count": 2,
     "metadata": {},
     "output_type": "execute_result"
    }
   ],
   "source": [
    "cond = torch.randn(2,2)\n",
    "cond"
   ]
  },
  {
   "cell_type": "code",
   "execution_count": 3,
   "id": "87414479",
   "metadata": {},
   "outputs": [
    {
     "data": {
      "text/plain": [
       "tensor([[ True,  True],\n",
       "        [False,  True]])"
      ]
     },
     "execution_count": 3,
     "metadata": {},
     "output_type": "execute_result"
    }
   ],
   "source": [
    "cond>0"
   ]
  },
  {
   "cell_type": "code",
   "execution_count": 5,
   "id": "b56defbf",
   "metadata": {},
   "outputs": [
    {
     "data": {
      "text/plain": [
       "tensor([[0., 0.],\n",
       "        [0., 0.]])"
      ]
     },
     "execution_count": 5,
     "metadata": {},
     "output_type": "execute_result"
    }
   ],
   "source": [
    "a = torch.zeros(2,2)\n",
    "a"
   ]
  },
  {
   "cell_type": "code",
   "execution_count": 6,
   "id": "9740c7bd",
   "metadata": {},
   "outputs": [
    {
     "data": {
      "text/plain": [
       "tensor([[1., 1.],\n",
       "        [1., 1.]])"
      ]
     },
     "execution_count": 6,
     "metadata": {},
     "output_type": "execute_result"
    }
   ],
   "source": [
    "b = torch.ones(2,2)\n",
    "b"
   ]
  },
  {
   "cell_type": "code",
   "execution_count": 7,
   "id": "b977c251",
   "metadata": {},
   "outputs": [
    {
     "data": {
      "text/plain": [
       "tensor([[0., 0.],\n",
       "        [1., 0.]])"
      ]
     },
     "execution_count": 7,
     "metadata": {},
     "output_type": "execute_result"
    }
   ],
   "source": [
    "torch.where(cond>0,a,b) ##这里如果有GPU，则表示在GPU上运行"
   ]
  },
  {
   "cell_type": "markdown",
   "id": "b09d5545",
   "metadata": {},
   "source": [
    "## gather 使用方法"
   ]
  },
  {
   "cell_type": "code",
   "execution_count": 9,
   "id": "a2f77d9d",
   "metadata": {},
   "outputs": [
    {
     "data": {
      "text/plain": [
       "tensor([[ 0.9416, -0.3350,  0.0113,  0.1867, -1.7535,  0.2838,  0.8314, -0.1710,\n",
       "         -0.1500,  1.5058],\n",
       "        [ 0.4292,  1.3495, -1.0651, -0.2327, -0.1672,  0.0474, -0.9597, -0.4437,\n",
       "         -0.5019, -0.5166],\n",
       "        [-0.8929, -1.7386,  1.0660,  0.5420,  1.2027,  0.2687, -1.3452, -1.7792,\n",
       "          0.0183, -1.8726],\n",
       "        [ 0.0442, -0.1774,  0.4676, -0.9637, -0.3263, -0.1462, -0.8687, -0.0086,\n",
       "         -0.2793,  0.8545]])"
      ]
     },
     "execution_count": 9,
     "metadata": {},
     "output_type": "execute_result"
    }
   ],
   "source": [
    "prob = torch.randn(4,10)\n",
    "prob"
   ]
  },
  {
   "cell_type": "code",
   "execution_count": 11,
   "id": "7c299877",
   "metadata": {},
   "outputs": [],
   "source": [
    "idx = prob.topk(dim =1,k = 3)"
   ]
  },
  {
   "cell_type": "code",
   "execution_count": 12,
   "id": "f38d697a",
   "metadata": {},
   "outputs": [
    {
     "data": {
      "text/plain": [
       "torch.return_types.topk(\n",
       "values=tensor([[1.5058, 0.9416, 0.8314],\n",
       "        [1.3495, 0.4292, 0.0474],\n",
       "        [1.2027, 1.0660, 0.5420],\n",
       "        [0.8545, 0.4676, 0.0442]]),\n",
       "indices=tensor([[9, 0, 6],\n",
       "        [1, 0, 5],\n",
       "        [4, 2, 3],\n",
       "        [9, 2, 0]]))"
      ]
     },
     "execution_count": 12,
     "metadata": {},
     "output_type": "execute_result"
    }
   ],
   "source": [
    "idx"
   ]
  },
  {
   "cell_type": "code",
   "execution_count": 13,
   "id": "823fd45d",
   "metadata": {},
   "outputs": [
    {
     "data": {
      "text/plain": [
       "tensor([[9, 0, 6],\n",
       "        [1, 0, 5],\n",
       "        [4, 2, 3],\n",
       "        [9, 2, 0]])"
      ]
     },
     "execution_count": 13,
     "metadata": {},
     "output_type": "execute_result"
    }
   ],
   "source": [
    "idx[1]"
   ]
  },
  {
   "cell_type": "code",
   "execution_count": 16,
   "id": "a60b4f6b",
   "metadata": {},
   "outputs": [
    {
     "data": {
      "text/plain": [
       "tensor([100, 101, 102, 103, 104, 105, 106, 107, 108, 109])"
      ]
     },
     "execution_count": 16,
     "metadata": {},
     "output_type": "execute_result"
    }
   ],
   "source": [
    "label = torch.arange(10)+100\n",
    "label"
   ]
  },
  {
   "cell_type": "code",
   "execution_count": 17,
   "id": "3b61c1b6",
   "metadata": {},
   "outputs": [
    {
     "data": {
      "text/plain": [
       "tensor([[100, 101, 102, 103, 104, 105, 106, 107, 108, 109],\n",
       "        [100, 101, 102, 103, 104, 105, 106, 107, 108, 109],\n",
       "        [100, 101, 102, 103, 104, 105, 106, 107, 108, 109],\n",
       "        [100, 101, 102, 103, 104, 105, 106, 107, 108, 109]])"
      ]
     },
     "execution_count": 17,
     "metadata": {},
     "output_type": "execute_result"
    }
   ],
   "source": [
    "label.expand(4,10)"
   ]
  },
  {
   "cell_type": "code",
   "execution_count": 20,
   "id": "7ff28167",
   "metadata": {},
   "outputs": [
    {
     "data": {
      "text/plain": [
       "tensor([[109, 100, 106],\n",
       "        [101, 100, 105],\n",
       "        [104, 102, 103],\n",
       "        [109, 102, 100]])"
      ]
     },
     "execution_count": 20,
     "metadata": {},
     "output_type": "execute_result"
    }
   ],
   "source": [
    "torch.gather(label.expand(4,10),dim=1,index = idx[1]) #主要是做映射方法"
   ]
  },
  {
   "cell_type": "code",
   "execution_count": null,
   "id": "51666fa7",
   "metadata": {},
   "outputs": [],
   "source": []
  }
 ],
 "metadata": {
  "kernelspec": {
   "display_name": "Python 3 (ipykernel)",
   "language": "python",
   "name": "python3"
  },
  "language_info": {
   "codemirror_mode": {
    "name": "ipython",
    "version": 3
   },
   "file_extension": ".py",
   "mimetype": "text/x-python",
   "name": "python",
   "nbconvert_exporter": "python",
   "pygments_lexer": "ipython3",
   "version": "3.9.7"
  },
  "toc": {
   "base_numbering": 1,
   "nav_menu": {},
   "number_sections": true,
   "sideBar": true,
   "skip_h1_title": false,
   "title_cell": "Table of Contents",
   "title_sidebar": "Contents",
   "toc_cell": false,
   "toc_position": {},
   "toc_section_display": true,
   "toc_window_display": false
  }
 },
 "nbformat": 4,
 "nbformat_minor": 5
}
