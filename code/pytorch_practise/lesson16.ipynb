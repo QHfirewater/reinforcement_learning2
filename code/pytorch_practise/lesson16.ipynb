{
 "cells": [
  {
   "cell_type": "markdown",
   "id": "5f031fa7",
   "metadata": {},
   "source": [
    "## CIFAR-10数据集介绍"
   ]
  },
  {
   "cell_type": "code",
   "execution_count": 1,
   "id": "91648ac2",
   "metadata": {},
   "outputs": [],
   "source": [
    "import torch\n",
    "from torch import nn\n",
    "from torch.utils.data import DataLoader\n",
    "from torchvision import datasets\n",
    "from torchvision import transforms"
   ]
  },
  {
   "cell_type": "code",
   "execution_count": 2,
   "id": "0c01e546",
   "metadata": {},
   "outputs": [
    {
     "name": "stdout",
     "output_type": "stream",
     "text": [
      "Downloading https://www.cs.toronto.edu/~kriz/cifar-10-python.tar.gz to cifar\\cifar-10-python.tar.gz\n"
     ]
    },
    {
     "data": {
      "application/vnd.jupyter.widget-view+json": {
       "model_id": "83fbc6d77e9d47089b944f1e48a63e81",
       "version_major": 2,
       "version_minor": 0
      },
      "text/plain": [
       "  0%|          | 0/170498071 [00:00<?, ?it/s]"
      ]
     },
     "metadata": {},
     "output_type": "display_data"
    },
    {
     "name": "stdout",
     "output_type": "stream",
     "text": [
      "Extracting cifar\\cifar-10-python.tar.gz to cifar\n"
     ]
    }
   ],
   "source": [
    "batchsz = 32\n",
    "\n",
    "cifar_train = datasets.CIFAR10('cifar',True,transform =transforms.Compose([\n",
    "transforms.Resize((32,32)),\n",
    "transforms.ToTensor()]),\n",
    "download=True)\n",
    "cifar_train = DataLoader(cifar_train,batch_size = batchsz,shuffle = True)"
   ]
  },
  {
   "cell_type": "code",
   "execution_count": null,
   "id": "35aefb81",
   "metadata": {},
   "outputs": [
    {
     "name": "stdout",
     "output_type": "stream",
     "text": [
      "Downloading https://www.cs.toronto.edu/~kriz/cifar-10-python.tar.gz to cifar_test\\cifar-10-python.tar.gz\n"
     ]
    },
    {
     "data": {
      "application/vnd.jupyter.widget-view+json": {
       "model_id": "8c91ae8eee9e44fd9685e4f1028fe7bc",
       "version_major": 2,
       "version_minor": 0
      },
      "text/plain": [
       "  0%|          | 0/170498071 [00:00<?, ?it/s]"
      ]
     },
     "metadata": {},
     "output_type": "display_data"
    }
   ],
   "source": [
    "cifar_test = datasets.CIFAR10('cifar_test',False,transform =transforms.Compose([\n",
    "transforms.Resize((32,32)),\n",
    "transforms.ToTensor()]),\n",
    "download=True)\n",
    "cifar_test = DataLoader(cifar_test,batch_size = batchsz,shuffle = True)"
   ]
  },
  {
   "cell_type": "code",
   "execution_count": null,
   "id": "f5fb2880",
   "metadata": {},
   "outputs": [],
   "source": [
    "x,label = iter(cifar_train).next()\n"
   ]
  },
  {
   "cell_type": "code",
   "execution_count": null,
   "id": "d6feada7",
   "metadata": {},
   "outputs": [],
   "source": [
    "x"
   ]
  },
  {
   "cell_type": "code",
   "execution_count": null,
   "id": "86561888",
   "metadata": {},
   "outputs": [],
   "source": []
  },
  {
   "cell_type": "code",
   "execution_count": null,
   "id": "a2b73be7",
   "metadata": {},
   "outputs": [],
   "source": []
  }
 ],
 "metadata": {
  "kernelspec": {
   "display_name": "Python 3 (ipykernel)",
   "language": "python",
   "name": "python3"
  },
  "language_info": {
   "codemirror_mode": {
    "name": "ipython",
    "version": 3
   },
   "file_extension": ".py",
   "mimetype": "text/x-python",
   "name": "python",
   "nbconvert_exporter": "python",
   "pygments_lexer": "ipython3",
   "version": "3.9.7"
  },
  "toc": {
   "base_numbering": 1,
   "nav_menu": {},
   "number_sections": true,
   "sideBar": true,
   "skip_h1_title": false,
   "title_cell": "Table of Contents",
   "title_sidebar": "Contents",
   "toc_cell": false,
   "toc_position": {},
   "toc_section_display": true,
   "toc_window_display": false
  }
 },
 "nbformat": 4,
 "nbformat_minor": 5
}
