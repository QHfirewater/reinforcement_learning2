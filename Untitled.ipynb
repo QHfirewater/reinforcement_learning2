{
 "cells": [
  {
   "cell_type": "code",
   "execution_count": 13,
   "metadata": {},
   "outputs": [],
   "source": [
    "import  numpy as np\n",
    "import hyperopt\n",
    "from hyperopt import fmin,tpe,hp"
   ]
  },
  {
   "cell_type": "code",
   "execution_count": 18,
   "id": "54328949",
   "metadata": {},
   "outputs": [
    {
     "name": "stdout",
     "output_type": "stream",
     "text": [
      "\u001b[1;31mSignature:\u001b[0m\n",
      "\u001b[0mfmin\u001b[0m\u001b[1;33m(\u001b[0m\u001b[1;33m\n",
      "\u001b[0m    \u001b[0mfn\u001b[0m\u001b[1;33m,\u001b[0m\u001b[1;33m\n",
      "\u001b[0m    \u001b[0mspace\u001b[0m\u001b[1;33m,\u001b[0m\u001b[1;33m\n",
      "\u001b[0m    \u001b[0malgo\u001b[0m\u001b[1;33m=\u001b[0m\u001b[1;32mNone\u001b[0m\u001b[1;33m,\u001b[0m\u001b[1;33m\n",
      "\u001b[0m    \u001b[0mmax_evals\u001b[0m\u001b[1;33m=\u001b[0m\u001b[1;32mNone\u001b[0m\u001b[1;33m,\u001b[0m\u001b[1;33m\n",
      "\u001b[0m    \u001b[0mtimeout\u001b[0m\u001b[1;33m=\u001b[0m\u001b[1;32mNone\u001b[0m\u001b[1;33m,\u001b[0m\u001b[1;33m\n",
      "\u001b[0m    \u001b[0mloss_threshold\u001b[0m\u001b[1;33m=\u001b[0m\u001b[1;32mNone\u001b[0m\u001b[1;33m,\u001b[0m\u001b[1;33m\n",
      "\u001b[0m    \u001b[0mtrials\u001b[0m\u001b[1;33m=\u001b[0m\u001b[1;32mNone\u001b[0m\u001b[1;33m,\u001b[0m\u001b[1;33m\n",
      "\u001b[0m    \u001b[0mrstate\u001b[0m\u001b[1;33m=\u001b[0m\u001b[1;32mNone\u001b[0m\u001b[1;33m,\u001b[0m\u001b[1;33m\n",
      "\u001b[0m    \u001b[0mallow_trials_fmin\u001b[0m\u001b[1;33m=\u001b[0m\u001b[1;32mTrue\u001b[0m\u001b[1;33m,\u001b[0m\u001b[1;33m\n",
      "\u001b[0m    \u001b[0mpass_expr_memo_ctrl\u001b[0m\u001b[1;33m=\u001b[0m\u001b[1;32mNone\u001b[0m\u001b[1;33m,\u001b[0m\u001b[1;33m\n",
      "\u001b[0m    \u001b[0mcatch_eval_exceptions\u001b[0m\u001b[1;33m=\u001b[0m\u001b[1;32mFalse\u001b[0m\u001b[1;33m,\u001b[0m\u001b[1;33m\n",
      "\u001b[0m    \u001b[0mverbose\u001b[0m\u001b[1;33m=\u001b[0m\u001b[1;32mTrue\u001b[0m\u001b[1;33m,\u001b[0m\u001b[1;33m\n",
      "\u001b[0m    \u001b[0mreturn_argmin\u001b[0m\u001b[1;33m=\u001b[0m\u001b[1;32mTrue\u001b[0m\u001b[1;33m,\u001b[0m\u001b[1;33m\n",
      "\u001b[0m    \u001b[0mpoints_to_evaluate\u001b[0m\u001b[1;33m=\u001b[0m\u001b[1;32mNone\u001b[0m\u001b[1;33m,\u001b[0m\u001b[1;33m\n",
      "\u001b[0m    \u001b[0mmax_queue_len\u001b[0m\u001b[1;33m=\u001b[0m\u001b[1;36m1\u001b[0m\u001b[1;33m,\u001b[0m\u001b[1;33m\n",
      "\u001b[0m    \u001b[0mshow_progressbar\u001b[0m\u001b[1;33m=\u001b[0m\u001b[1;32mTrue\u001b[0m\u001b[1;33m,\u001b[0m\u001b[1;33m\n",
      "\u001b[0m    \u001b[0mearly_stop_fn\u001b[0m\u001b[1;33m=\u001b[0m\u001b[1;32mNone\u001b[0m\u001b[1;33m,\u001b[0m\u001b[1;33m\n",
      "\u001b[0m    \u001b[0mtrials_save_file\u001b[0m\u001b[1;33m=\u001b[0m\u001b[1;34m''\u001b[0m\u001b[1;33m,\u001b[0m\u001b[1;33m\n",
      "\u001b[0m\u001b[1;33m)\u001b[0m\u001b[1;33m\u001b[0m\u001b[1;33m\u001b[0m\u001b[0m\n",
      "\u001b[1;31mDocstring:\u001b[0m\n",
      "Minimize a function over a hyperparameter space.\n",
      "\n",
      "More realistically: *explore* a function over a hyperparameter space\n",
      "according to a given algorithm, allowing up to a certain number of\n",
      "function evaluations.  As points are explored, they are accumulated in\n",
      "`trials`\n",
      "\n",
      "\n",
      "Parameters\n",
      "----------\n",
      "\n",
      "fn : callable (trial point -> loss)\n",
      "    This function will be called with a value generated from `space`\n",
      "    as the first and possibly only argument.  It can return either\n",
      "    a scalar-valued loss, or a dictionary.  A returned dictionary must\n",
      "    contain a 'status' key with a value from `STATUS_STRINGS`, must\n",
      "    contain a 'loss' key if the status is `STATUS_OK`. Particular\n",
      "    optimization algorithms may look for other keys as well.  An\n",
      "    optional sub-dictionary associated with an 'attachments' key will\n",
      "    be removed by fmin its contents will be available via\n",
      "    `trials.trial_attachments`. The rest (usually all) of the returned\n",
      "    dictionary will be stored and available later as some 'result'\n",
      "    sub-dictionary within `trials.trials`.\n",
      "\n",
      "space : hyperopt.pyll.Apply node or \"annotated\"\n",
      "    The set of possible arguments to `fn` is the set of objects\n",
      "    that could be created with non-zero probability by drawing randomly\n",
      "    from this stochastic program involving involving hp_<xxx> nodes\n",
      "    (see `hyperopt.hp` and `hyperopt.pyll_utils`).\n",
      "    If set to \"annotated\", will read space using type hint in fn. Ex:\n",
      "    (`def fn(x: hp.uniform(\"x\", -1, 1)): return x`)\n",
      "\n",
      "algo : search algorithm\n",
      "    This object, such as `hyperopt.rand.suggest` and\n",
      "    `hyperopt.tpe.suggest` provides logic for sequential search of the\n",
      "    hyperparameter space.\n",
      "\n",
      "max_evals : int\n",
      "    Allow up to this many function evaluations before returning.\n",
      "\n",
      "timeout : None or int, default None\n",
      "    Limits search time by parametrized number of seconds.\n",
      "    If None, then the search process has no time constraint.\n",
      "\n",
      "loss_threshold : None or double, default None\n",
      "    Limits search time when minimal loss reduced to certain amount.\n",
      "    If None, then the search process has no constraint on the loss,\n",
      "    and will stop based on other parameters, e.g. `max_evals`, `timeout`\n",
      "\n",
      "trials : None or base.Trials (or subclass)\n",
      "    Storage for completed, ongoing, and scheduled evaluation points.  If\n",
      "    None, then a temporary `base.Trials` instance will be created.  If\n",
      "    a trials object, then that trials object will be affected by\n",
      "    side-effect of this call.\n",
      "\n",
      "rstate : numpy.random.Generator, default numpy.random or `$HYPEROPT_FMIN_SEED`\n",
      "    Each call to `algo` requires a seed value, which should be different\n",
      "    on each call. This object is used to draw these seeds via `randint`.\n",
      "    The default rstate is\n",
      "    `numpy.random.default_rng(int(env['HYPEROPT_FMIN_SEED']))`\n",
      "    if the `HYPEROPT_FMIN_SEED` environment variable is set to a non-empty\n",
      "    string, otherwise np.random is used in whatever state it is in.\n",
      "\n",
      "verbose : bool\n",
      "    Print out some information to stdout during search. If False, disable\n",
      "        progress bar irrespectively of show_progressbar argument\n",
      "\n",
      "allow_trials_fmin : bool, default True\n",
      "    If the `trials` argument\n",
      "\n",
      "pass_expr_memo_ctrl : bool, default False\n",
      "    If set to True, `fn` will be called in a different more low-level\n",
      "    way: it will receive raw hyperparameters, a partially-populated\n",
      "    `memo`, and a Ctrl object for communication with this Trials\n",
      "    object.\n",
      "\n",
      "return_argmin : bool, default True\n",
      "    If set to False, this function returns nothing, which can be useful\n",
      "    for example if it is expected that `len(trials)` may be zero after\n",
      "    fmin, and therefore `trials.argmin` would be undefined.\n",
      "\n",
      "points_to_evaluate : list, default None\n",
      "    Only works if trials=None. If points_to_evaluate equals None then the\n",
      "    trials are evaluated normally. If list of dicts is passed then\n",
      "    given points are evaluated before optimisation starts, so the overall\n",
      "    number of optimisation steps is len(points_to_evaluate) + max_evals.\n",
      "    Elements of this list must be in a form of a dictionary with variable\n",
      "    names as keys and variable values as dict values. Example\n",
      "    points_to_evaluate value is [{'x': 0.0, 'y': 0.0}, {'x': 1.0, 'y': 2.0}]\n",
      "\n",
      "max_queue_len : integer, default 1\n",
      "    Sets the queue length generated in the dictionary or trials. Increasing this\n",
      "    value helps to slightly speed up parallel simulatulations which sometimes lag\n",
      "    on suggesting a new trial.\n",
      "\n",
      "show_progressbar : bool or context manager, default True (or False is verbose is False).\n",
      "    Show a progressbar. See `hyperopt.progress` for customizing progress reporting.\n",
      "\n",
      "early_stop_fn: callable ((result, *args) -> (Boolean, *args)).\n",
      "    Called after every run with the result of the run and the values returned by the function previously.\n",
      "    Stop the search if the function return true.\n",
      "    Default None.\n",
      "\n",
      "trials_save_file: str, default \"\"\n",
      "    Optional file name to save the trials object to every iteration.\n",
      "    If specified and the file already exists, will load from this file when\n",
      "    trials=None instead of creating a new base.Trials object\n",
      "\n",
      "Returns\n",
      "-------\n",
      "\n",
      "argmin : dictionary\n",
      "    If return_argmin is True returns `trials.argmin` which is a dictionary.  Otherwise\n",
      "    this function  returns the result of `hyperopt.space_eval(space, trails.argmin)` if there\n",
      "    were successfull trails. This object shares the same structure as the space passed.\n",
      "    If there were no successfull trails, it returns None.\n",
      "\u001b[1;31mFile:\u001b[0m      e:\\anaconda\\lib\\site-packages\\hyperopt\\fmin.py\n",
      "\u001b[1;31mType:\u001b[0m      function\n"
     ]
    }
   ],
   "source": [
    "fmin?"
   ]
  },
  {
   "cell_type": "code",
   "execution_count": 3,
   "id": "3e1e179c",
   "metadata": {},
   "outputs": [
    {
     "name": "stdout",
     "output_type": "stream",
     "text": [
      "100%|██████████| 1000/1000 [00:03<00:00, 287.40trial/s, best loss: 3.831136074201887e-07]\n"
     ]
    },
    {
     "data": {
      "text/plain": [
       "{'x': 0.9993810382827507}"
      ]
     },
     "execution_count": 3,
     "metadata": {},
     "output_type": "execute_result"
    }
   ],
   "source": [
    "best = fmin(fn = lambda x: (x-1)**2,space = hp.uniform('x',-2,2),algo=tpe.suggest,max_evals=1000)\n",
    "best"
   ]
  },
  {
   "cell_type": "code",
   "execution_count": 19,
   "id": "23f0fd31",
   "metadata": {},
   "outputs": [],
   "source": [
    "from hyperopt import fmin,tpe,hp,STATUS_OK,Trials\n",
    "from matplotlib import pyplot as plt"
   ]
  },
  {
   "cell_type": "code",
   "execution_count": 20,
   "id": "9eb25e71",
   "metadata": {},
   "outputs": [],
   "source": [
    "fspace = {'x': hp.uniform('x',-5,5)}"
   ]
  },
  {
   "cell_type": "code",
   "execution_count": 21,
   "id": "d1625d5f",
   "metadata": {},
   "outputs": [],
   "source": [
    "def f(params):\n",
    "    x=params['x']\n",
    "    val = x  ** 2\n",
    "    return {'loss':val,'status':STATUS_OK}"
   ]
  },
  {
   "cell_type": "code",
   "execution_count": 22,
   "id": "ea96d0c6",
   "metadata": {},
   "outputs": [],
   "source": [
    "trial = Trials()"
   ]
  },
  {
   "cell_type": "code",
   "execution_count": 23,
   "id": "2eaa9597",
   "metadata": {},
   "outputs": [
    {
     "name": "stdout",
     "output_type": "stream",
     "text": [
      "100%|██████████| 1000/1000 [00:03<00:00, 273.03trial/s, best loss: 7.695712891670658e-06]\n"
     ]
    }
   ],
   "source": [
    "best = fmin(fn = f,space=fspace,algo=tpe.suggest,max_evals=1000,trials=trial)"
   ]
  },
  {
   "cell_type": "code",
   "execution_count": 24,
   "id": "a8567d08",
   "metadata": {},
   "outputs": [
    {
     "data": {
      "text/plain": [
       "{'x': 0.0027741147942489074}"
      ]
     },
     "execution_count": 24,
     "metadata": {},
     "output_type": "execute_result"
    }
   ],
   "source": [
    "best"
   ]
  },
  {
   "cell_type": "code",
   "execution_count": 25,
   "id": "2cb8de9a",
   "metadata": {},
   "outputs": [
    {
     "name": "stdout",
     "output_type": "stream",
     "text": [
      "{'state': 2, 'tid': 0, 'spec': None, 'result': {'loss': 2.6143274378607106, 'status': 'ok'}, 'misc': {'tid': 0, 'cmd': ('domain_attachment', 'FMinIter_Domain'), 'workdir': None, 'idxs': {'x': [0]}, 'vals': {'x': [1.6168881958443233]}}, 'exp_key': None, 'owner': None, 'version': 0, 'book_time': datetime.datetime(2022, 5, 6, 1, 31, 41, 867000), 'refresh_time': datetime.datetime(2022, 5, 6, 1, 31, 41, 867000)}\n",
      "{'state': 2, 'tid': 1, 'spec': None, 'result': {'loss': 9.705395265692342, 'status': 'ok'}, 'misc': {'tid': 1, 'cmd': ('domain_attachment', 'FMinIter_Domain'), 'workdir': None, 'idxs': {'x': [1]}, 'vals': {'x': [3.115348337777389]}}, 'exp_key': None, 'owner': None, 'version': 0, 'book_time': datetime.datetime(2022, 5, 6, 1, 31, 41, 871000), 'refresh_time': datetime.datetime(2022, 5, 6, 1, 31, 41, 871000)}\n"
     ]
    }
   ],
   "source": [
    "for trial in trial.trials[:2]:\n",
    "    print(trial)"
   ]
  },
  {
   "cell_type": "code",
   "execution_count": 15,
   "id": "ca823afd",
   "metadata": {},
   "outputs": [],
   "source": [
    "space = {'x':hp.uniform('x',0,1),'y':hp.normal('y',0,1),'name':hp.choice('name',['alice,bob'])}"
   ]
  },
  {
   "cell_type": "code",
   "execution_count": 16,
   "id": "2e9d16f3",
   "metadata": {},
   "outputs": [
    {
     "data": {
      "text/plain": [
       "{'name': 'alice,bob', 'x': 0.5944086373837469, 'y': 0.4381529370447908}"
      ]
     },
     "execution_count": 16,
     "metadata": {},
     "output_type": "execute_result"
    }
   ],
   "source": [
    "hyperopt.pyll.stochastic.sample(space)"
   ]
  },
  {
   "cell_type": "code",
   "execution_count": 17,
   "id": "75f475c9",
   "metadata": {},
   "outputs": [
    {
     "name": "stdout",
     "output_type": "stream",
     "text": [
      "\u001b[1;31mType:\u001b[0m        module\n",
      "\u001b[1;31mString form:\u001b[0m <module 'hyperopt.pyll' from 'E:\\\\anaconda\\\\lib\\\\site-packages\\\\hyperopt\\\\pyll\\\\__init__.py'>\n",
      "\u001b[1;31mFile:\u001b[0m        e:\\anaconda\\lib\\site-packages\\hyperopt\\pyll\\__init__.py\n",
      "\u001b[1;31mDocstring:\u001b[0m   <no docstring>\n"
     ]
    }
   ],
   "source": [
    "hyperopt.pyll?"
   ]
  },
  {
   "cell_type": "code",
   "execution_count": 26,
   "id": "fa8939bb",
   "metadata": {},
   "outputs": [
    {
     "name": "stdout",
     "output_type": "stream",
     "text": [
      "\u001b[1;31mSignature:\u001b[0m \u001b[0mhyperopt\u001b[0m\u001b[1;33m.\u001b[0m\u001b[0mpartial\u001b[0m\u001b[1;33m(\u001b[0m\u001b[0mfn\u001b[0m\u001b[1;33m,\u001b[0m \u001b[1;33m**\u001b[0m\u001b[0mkwargs\u001b[0m\u001b[1;33m)\u001b[0m\u001b[1;33m\u001b[0m\u001b[1;33m\u001b[0m\u001b[0m\n",
      "\u001b[1;31mDocstring:\u001b[0m\n",
      "functools.partial work-alike for functions decorated with\n",
      "fmin_pass_expr_memo_ctrl\n",
      "\u001b[1;31mFile:\u001b[0m      e:\\anaconda\\lib\\site-packages\\hyperopt\\fmin.py\n",
      "\u001b[1;31mType:\u001b[0m      function\n"
     ]
    }
   ],
   "source": [
    "hyperopt.partial?"
   ]
  },
  {
   "cell_type": "code",
   "execution_count": 28,
   "id": "555ec233",
   "metadata": {},
   "outputs": [],
   "source": [
    "import functools"
   ]
  },
  {
   "cell_type": "code",
   "execution_count": 30,
   "id": "be6feffb",
   "metadata": {},
   "outputs": [
    {
     "name": "stdout",
     "output_type": "stream",
     "text": [
      "Help on class partial in module functools:\n",
      "\n",
      "class partial(builtins.object)\n",
      " |  partial(func, *args, **keywords) - new function with partial application\n",
      " |  of the given arguments and keywords.\n",
      " |  \n",
      " |  Methods defined here:\n",
      " |  \n",
      " |  __call__(self, /, *args, **kwargs)\n",
      " |      Call self as a function.\n",
      " |  \n",
      " |  __delattr__(self, name, /)\n",
      " |      Implement delattr(self, name).\n",
      " |  \n",
      " |  __getattribute__(self, name, /)\n",
      " |      Return getattr(self, name).\n",
      " |  \n",
      " |  __reduce__(...)\n",
      " |      Helper for pickle.\n",
      " |  \n",
      " |  __repr__(self, /)\n",
      " |      Return repr(self).\n",
      " |  \n",
      " |  __setattr__(self, name, value, /)\n",
      " |      Implement setattr(self, name, value).\n",
      " |  \n",
      " |  __setstate__(...)\n",
      " |  \n",
      " |  ----------------------------------------------------------------------\n",
      " |  Class methods defined here:\n",
      " |  \n",
      " |  __class_getitem__(...) from builtins.type\n",
      " |      See PEP 585\n",
      " |  \n",
      " |  ----------------------------------------------------------------------\n",
      " |  Static methods defined here:\n",
      " |  \n",
      " |  __new__(*args, **kwargs) from builtins.type\n",
      " |      Create and return a new object.  See help(type) for accurate signature.\n",
      " |  \n",
      " |  ----------------------------------------------------------------------\n",
      " |  Data descriptors defined here:\n",
      " |  \n",
      " |  __dict__\n",
      " |  \n",
      " |  args\n",
      " |      tuple of arguments to future partial calls\n",
      " |  \n",
      " |  func\n",
      " |      function object to use in future partial calls\n",
      " |  \n",
      " |  keywords\n",
      " |      dictionary of keyword arguments to future partial calls\n",
      "\n"
     ]
    }
   ],
   "source": [
    "help(functools.partial)"
   ]
  },
  {
   "cell_type": "code",
   "execution_count": 34,
   "id": "e085c9f6",
   "metadata": {},
   "outputs": [],
   "source": [
    "from functools import partial"
   ]
  },
  {
   "cell_type": "code",
   "execution_count": 31,
   "id": "85fa12d4",
   "metadata": {},
   "outputs": [],
   "source": [
    "def add_s(x,y,z):\n",
    "    res = x+y+z\n",
    "    return res"
   ]
  },
  {
   "cell_type": "code",
   "execution_count": 35,
   "id": "6d5d32e2",
   "metadata": {},
   "outputs": [],
   "source": [
    "add1 = partial(add_s,10)"
   ]
  },
  {
   "cell_type": "code",
   "execution_count": 37,
   "id": "f43e40be",
   "metadata": {},
   "outputs": [
    {
     "data": {
      "text/plain": [
       "60"
      ]
     },
     "execution_count": 37,
     "metadata": {},
     "output_type": "execute_result"
    }
   ],
   "source": [
    "add1(20,30)"
   ]
  },
  {
   "cell_type": "code",
   "execution_count": null,
   "id": "dd88dc15",
   "metadata": {},
   "outputs": [],
   "source": []
  }
 ],
 "metadata": {
  "interpreter": {
   "hash": "8d86c190dfcadcdaa67edec4a1ea82702241987b5b1f320c920d3d4ca36fee5b"
  },
  "kernelspec": {
   "display_name": "Python 3.9.7 ('base')",
   "language": "python",
   "name": "python3"
  },
  "language_info": {
   "codemirror_mode": {
    "name": "ipython",
    "version": 3
   },
   "file_extension": ".py",
   "mimetype": "text/x-python",
   "name": "python",
   "nbconvert_exporter": "python",
   "pygments_lexer": "ipython3",
   "version": "3.9.7"
  }
 },
 "nbformat": 4,
 "nbformat_minor": 5
}
